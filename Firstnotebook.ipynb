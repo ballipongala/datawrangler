{
 "cells": [
  {
   "cell_type": "code",
   "execution_count": 1,
   "id": "b34d52e3-523f-4e38-84c5-ca1cd4e35f14",
   "metadata": {},
   "outputs": [
    {
     "name": "stdout",
     "output_type": "stream",
     "text": [
      "Hello World from Python Jupyter Notes\n"
     ]
    }
   ],
   "source": [
    "print(\"Hello World from Python Jupyter Notes\")"
   ]
  },
  {
   "cell_type": "code",
   "execution_count": 2,
   "id": "0dc374fb-68a1-444c-a952-800fde3fead9",
   "metadata": {},
   "outputs": [
    {
     "name": "stdout",
     "output_type": "stream",
     "text": [
      " This is a wornderful day\n"
     ]
    }
   ],
   "source": [
    "print(\" This is a wornderful day\" )"
   ]
  },
  {
   "cell_type": "code",
   "execution_count": null,
   "id": "ce7ca87b-e07c-471b-a694-397524742057",
   "metadata": {},
   "outputs": [],
   "source": []
  }
 ],
 "metadata": {
  "kernelspec": {
   "display_name": "Python 3 (ipykernel)",
   "language": "python",
   "name": "python3"
  },
  "language_info": {
   "codemirror_mode": {
    "name": "ipython",
    "version": 3
   },
   "file_extension": ".py",
   "mimetype": "text/x-python",
   "name": "python",
   "nbconvert_exporter": "python",
   "pygments_lexer": "ipython3",
   "version": "3.10.13"
  }
 },
 "nbformat": 4,
 "nbformat_minor": 5
}
