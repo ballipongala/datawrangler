{
 "cells": [
  {
   "cell_type": "code",
   "execution_count": null,
   "metadata": {
    "application/vnd.databricks.v1+cell": {
     "cellMetadata": {
      "byteLimit": 2048000,
      "rowLimit": 10000
     },
     "inputWidgets": {},
     "nuid": "6482be4c-f067-47c9-b0ac-35c938b94601",
     "showTitle": false,
     "title": ""
    }
   },
   "outputs": [
    {
     "data": {
      "text/html": [
       "<style scoped>\n",
       "  .table-result-container {\n",
       "    max-height: 300px;\n",
       "    overflow: auto;\n",
       "  }\n",
       "  table, th, td {\n",
       "    border: 1px solid black;\n",
       "    border-collapse: collapse;\n",
       "  }\n",
       "  th, td {\n",
       "    padding: 5px;\n",
       "  }\n",
       "  th {\n",
       "    text-align: left;\n",
       "  }\n",
       "</style><div class='table-result-container'><table class='table-result'><thead style='background-color: white'><tr><th>_c0</th><th>_c1</th><th>_c2</th><th>_c3</th><th>_c4</th><th>_c5</th></tr></thead><tbody><tr><td>Country</td><td>Company</td><td>Month</td><td>Sale2018</td><td>Sale2019</td><td>Sale2020</td></tr><tr><td>India</td><td>SequelGate</td><td>January</td><td>3,234.00</td><td>null</td><td>1,935.00</td></tr><tr><td>India</td><td>SequelGate</td><td>February</td><td>6,270.00</td><td>7,059.00</td><td>12,418.26</td></tr><tr><td>India</td><td>SequelGate</td><td>March</td><td>4,352.00</td><td>16,638.85</td><td>31,770.26</td></tr><tr><td>India</td><td>SequelGate</td><td>April</td><td>3,814.00</td><td>11,864.76</td><td>8,785.89</td></tr><tr><td>India</td><td>SequelGate</td><td>May</td><td>6,234.00</td><td>2,819.82</td><td>119.99</td></tr><tr><td>India</td><td>SequelGate</td><td>June</td><td>5,571.00</td><td>3,216.00</td><td>2,819.82</td></tr><tr><td>India</td><td>SequelGate</td><td>July</td><td>7,424.00</td><td>null</td><td>6,881.00</td></tr><tr><td>India</td><td>SequelGate</td><td>August</td><td>null</td><td>null</td><td>800</td></tr><tr><td>India</td><td>SequelGate</td><td>September</td><td>1,254.00</td><td>1,617.00</td><td>396</td></tr><tr><td>India</td><td>SequelGate</td><td>October</td><td>1,881.00</td><td>3,042.00</td><td>936</td></tr><tr><td>India</td><td>SequelGate</td><td>November</td><td>null</td><td>3,653.00</td><td>7,001.78</td></tr><tr><td>India</td><td>SequelGate</td><td>December</td><td>6,135.00</td><td>2,810.00</td><td>8,785.89</td></tr><tr><td>India</td><td>SQL School</td><td>January</td><td>12,418.26</td><td>5,735.48</td><td>1,559.87</td></tr><tr><td>India</td><td>SQL School</td><td>February</td><td>31,770.26</td><td>null</td><td>2,937.90</td></tr><tr><td>India</td><td>SQL School</td><td>March</td><td>3,689.85</td><td>5,489.23</td><td>11,163.94</td></tr><tr><td>India</td><td>SQL School</td><td>April</td><td>499.9</td><td>9,087.00</td><td>2,298.70</td></tr><tr><td>India</td><td>SQL School</td><td>May</td><td>null</td><td>9,203.92</td><td>null</td></tr><tr><td>India</td><td>SQL School</td><td>June</td><td>15,790.00</td><td>119.99</td><td>1,948.50</td></tr><tr><td>India</td><td>SQL School</td><td>July</td><td>9,938.12</td><td>2,819.82</td><td>null</td></tr><tr><td>India</td><td>SQL School</td><td>August</td><td>14,035.71</td><td>6,881.00</td><td>12,775.40</td></tr><tr><td>India</td><td>SQL School</td><td>September</td><td>16,638.85</td><td>null</td><td>null</td></tr><tr><td>India</td><td>SQL School</td><td>October</td><td>11,864.76</td><td>null</td><td>2,085.00</td></tr><tr><td>India</td><td>SQL School</td><td>November</td><td>2,819.82</td><td>959.92</td><td>null</td></tr><tr><td>India</td><td>SQL School</td><td>December</td><td>null</td><td>16,694.07</td><td>null</td></tr><tr><td>India</td><td>Contoso</td><td>January</td><td>1,271.55</td><td>3,236.31</td><td>9,945.86</td></tr><tr><td>India</td><td>Contoso</td><td>February</td><td>7,372.34</td><td>5,995.55</td><td>1,303.01</td></tr><tr><td>India</td><td>Contoso</td><td>March</td><td>11,364.07</td><td>2,767.32</td><td>3,437.26</td></tr><tr><td>India</td><td>Contoso</td><td>April</td><td>13,590.94</td><td>17,530.47</td><td>25,007.74</td></tr><tr><td>India</td><td>Contoso</td><td>May</td><td>11,780.08</td><td>13,501.47</td><td>5,270.05</td></tr><tr><td>India</td><td>Contoso</td><td>June</td><td>8,562.00</td><td>8,338.87</td><td>7,357.26</td></tr><tr><td>India</td><td>Contoso</td><td>July</td><td>7,001.78</td><td>13,874.09</td><td>31,571.42</td></tr><tr><td>India</td><td>Contoso</td><td>August</td><td>605.89</td><td>3,340.02</td><td>1,386.20</td></tr><tr><td>India</td><td>Contoso</td><td>September</td><td>3,958.70</td><td>1,709.68</td><td>2,224.36</td></tr><tr><td>India</td><td>Contoso</td><td>October</td><td>8,785.89</td><td>5,787.57</td><td>10,792.05</td></tr><tr><td>India</td><td>Contoso</td><td>November</td><td>7,631.64</td><td>2,412.91</td><td>3,340.02</td></tr><tr><td>India</td><td>Contoso</td><td>December</td><td>21,968.86</td><td>5,657.70</td><td>1,709.68</td></tr><tr><td>India</td><td>Fabrikam</td><td>January</td><td>5,794.38</td><td>9,244.97</td><td>5,787.57</td></tr><tr><td>India</td><td>Fabrikam  </td><td>February</td><td>null</td><td>6,230.00</td><td>null</td></tr><tr><td>India</td><td>Fabrikam</td><td>March</td><td>3,415.96</td><td>1,044.89</td><td>null</td></tr><tr><td>India</td><td>Fabrikam</td><td>April</td><td>null</td><td>null</td><td>5,155.78</td></tr><tr><td>India</td><td>Fabrikam  </td><td>May</td><td>3,657.95</td><td>2,954.00</td><td>20,177.94</td></tr><tr><td>India</td><td>Fabrikam</td><td>June</td><td>2,820.00</td><td>28,407.99</td><td>6,223.31</td></tr><tr><td>India</td><td>Fabrikam</td><td>July</td><td>null</td><td>1,439.92</td><td>12,530.60</td></tr><tr><td>India</td><td>Fabrikam</td><td>August</td><td>7,113.00</td><td>null</td><td>2,640.00</td></tr><tr><td>India</td><td>Fabrikam  </td><td>September</td><td>5,901.93</td><td>4,367.60</td><td>20,600.00</td></tr><tr><td>India</td><td>Fabrikam</td><td>October</td><td>2,396.06</td><td>9,597.93</td><td>29,305.77</td></tr><tr><td>India</td><td>Fabrikam</td><td>November</td><td>9,477.60</td><td>14,941.87</td><td>null</td></tr><tr><td>India</td><td>Fabrikam  </td><td>December</td><td>15,499.94</td><td>12,740.00</td><td>null</td></tr><tr><td>India</td><td>Litware</td><td>January</td><td>null</td><td>2,209.73</td><td>null</td></tr><tr><td>India</td><td>Litware</td><td>February</td><td>null</td><td>2,465.00</td><td>1,679.88</td></tr><tr><td>India</td><td>Litware</td><td>March</td><td>4.99</td><td>7,956.00</td><td>11,000.00</td></tr><tr><td>India</td><td>Litware</td><td>April</td><td>599.9</td><td>null</td><td>null</td></tr><tr><td>India</td><td>Litware </td><td>May</td><td>null</td><td>11,186.00</td><td>2,087.73</td></tr><tr><td>India</td><td>Litware</td><td>June</td><td>null</td><td>2,400.00</td><td>1,331.88</td></tr><tr><td>India</td><td>Litware</td><td>July</td><td>7,579.00</td><td>2,303.85</td><td>28,488.15</td></tr><tr><td>India</td><td>Litware</td><td>August</td><td>3,340.02</td><td>25,599.92</td><td>12,619.43</td></tr><tr><td>India</td><td>Litware</td><td>September</td><td>1,709.68</td><td>591.92</td><td>89.97</td></tr><tr><td>India</td><td>Litware</td><td>October</td><td>5,787.57</td><td>5,525.81</td><td>6,205.48</td></tr><tr><td>India</td><td>Litware</td><td>November</td><td>null</td><td>3,451.00</td><td>null</td></tr><tr><td>India</td><td>Litware</td><td>December</td><td>1,199.96</td><td>11,164.00</td><td>null</td></tr><tr><td>India</td><td>DogWings</td><td>January</td><td>34,616.15</td><td>359.66</td><td>null</td></tr><tr><td>India</td><td>DogWings</td><td>February</td><td>51.38</td><td>null</td><td>95.9</td></tr><tr><td>India</td><td>DogWings</td><td>March</td><td>7,999.50</td><td>null</td><td>null</td></tr><tr><td>India</td><td>DogWings</td><td>April</td><td>null</td><td>12,732.30</td><td>null</td></tr><tr><td>India</td><td>DogWings</td><td>May</td><td>25,598.40</td><td>3,340.02</td><td>null</td></tr><tr><td>India</td><td>DogWings</td><td>July</td><td>51.38</td><td>1,709.68</td><td>359.66</td></tr><tr><td>India</td><td>DogWings</td><td>August</td><td>154.14</td><td>5,787.57</td><td>null</td></tr><tr><td>India</td><td>DogWings</td><td>September</td><td>25.69</td><td>null</td><td>569.25</td></tr><tr><td>India</td><td>DogWings</td><td>December</td><td>51.38</td><td>null</td><td>3,340.02</td></tr><tr><td>India</td><td>Proseware</td><td>January</td><td>null</td><td>735</td><td>1,709.68</td></tr><tr><td>India</td><td>Proseware</td><td>February</td><td>2,847.00</td><td>4,509.99</td><td>5,787.57</td></tr><tr><td>India</td><td>Proseware</td><td>March</td><td>4,489.89</td><td>3,347.88</td><td>1,325.87</td></tr><tr><td>India</td><td>Proseware</td><td>April</td><td>719</td><td>10,447.77</td><td>5,104.93</td></tr><tr><td>India</td><td>Proseware</td><td>May</td><td>null</td><td>1,749.00</td><td>null</td></tr><tr><td>India</td><td>Proseware</td><td>June</td><td>952</td><td>3,555.00</td><td>6,903.91</td></tr><tr><td>India</td><td>Proseware</td><td>July</td><td>null</td><td>1,029.00</td><td>1,149.90</td></tr><tr><td>India</td><td>Proseware</td><td>August</td><td>1,399.93</td><td>null</td><td>1,831.50</td></tr><tr><td>India</td><td>Proseware</td><td>September</td><td>37,923.00</td><td>1,908.00</td><td>1,548.00</td></tr><tr><td>India</td><td>Proseware</td><td>October</td><td>null</td><td>null</td><td>959.92</td></tr><tr><td>India</td><td>Proseware</td><td>November</td><td>null</td><td>1,399.93</td><td>11,000.00</td></tr><tr><td>India</td><td>Proseware</td><td>December</td><td>12,987.00</td><td>599.98</td><td>null</td></tr><tr><td>India</td><td>Vimeo</td><td>January</td><td>2,255.94</td><td>4,683.56</td><td>4,858.80</td></tr><tr><td>India</td><td>Vimeo</td><td>February</td><td>1,775.85</td><td>632</td><td>141.84</td></tr><tr><td>India</td><td>Vimeo</td><td>March</td><td>980.4</td><td>null</td><td>null</td></tr><tr><td>India</td><td>Vimeo</td><td>April</td><td>75.99</td><td>388.49</td><td>null</td></tr><tr><td>India</td><td>Vimeo</td><td>May</td><td>41.73</td><td>1.9</td><td>1,485.00</td></tr><tr><td>India</td><td>Vimeo</td><td>June</td><td>10,280.89</td><td>1,461.46</td><td>null</td></tr><tr><td>India</td><td>Vimeo</td><td>July</td><td>4,226.88</td><td>2,625.00</td><td>11,376.00</td></tr><tr><td>India</td><td>Vimeo</td><td>August</td><td>13,740.38</td><td>1,035.90</td><td>5,687.94</td></tr><tr><td>India</td><td>Vimeo</td><td>September</td><td>632.79</td><td>3,510.00</td><td>199</td></tr><tr><td>India</td><td>Vimeo</td><td>October</td><td>1,084.10</td><td>null</td><td>1,481.74</td></tr><tr><td>India</td><td>Vimeo</td><td>November</td><td>1,439.64</td><td>null</td><td>null</td></tr><tr><td>India</td><td>Vimeo</td><td>December</td><td>753.69</td><td>9,817.96</td><td>null</td></tr><tr><td>India</td><td>Children Toys</td><td>January</td><td>null</td><td>null</td><td>698</td></tr><tr><td>India</td><td>Children Toys</td><td>February</td><td>71.92</td><td>null</td><td>1,303.53</td></tr><tr><td>India</td><td>Children Toys</td><td>March</td><td>310</td><td>288</td><td>null</td></tr><tr><td>India</td><td>Children Toys</td><td>April</td><td>104.85</td><td>172</td><td>752.9</td></tr><tr><td>India</td><td>Children Toys</td><td>May</td><td>214</td><td>436</td><td>69.86</td></tr><tr><td>India</td><td>Children Toys</td><td>June</td><td>62.93</td><td>644.78</td><td>1,777.87</td></tr><tr><td>India</td><td>Children Toys</td><td>July</td><td>86</td><td>813</td><td>731.12</td></tr><tr><td>India</td><td>Children Toys</td><td>August</td><td>272.89</td><td>null</td><td>3,510.00</td></tr><tr><td>India</td><td>Children Toys</td><td>September</td><td>219.57</td><td>null</td><td>1,114.00</td></tr><tr><td>India</td><td>Children Toys</td><td>October</td><td>null</td><td>458</td><td>743.87</td></tr><tr><td>India</td><td>Children Toys</td><td>November</td><td>140</td><td>null</td><td>3,340.02</td></tr><tr><td>India</td><td>Children Toys</td><td>December</td><td>225.23</td><td>null</td><td>1,709.68</td></tr><tr><td>India</td><td>Mobile Phones</td><td>January</td><td>null</td><td>3,296.00</td><td>5,787.57</td></tr><tr><td>India</td><td>Mobile Phones</td><td>February</td><td>2,408.00</td><td>null</td><td>null</td></tr><tr><td>India</td><td>Mobile Phones</td><td>March</td><td>690</td><td>null</td><td>null</td></tr><tr><td>India</td><td>Mobile Phones</td><td>April</td><td>null</td><td>null</td><td>7,862.00</td></tr><tr><td>India</td><td>Mobile Phones</td><td>May</td><td>1,960.00</td><td>560</td><td>2,300.00</td></tr><tr><td>India</td><td>Mobile Phones</td><td>June</td><td>1,340.00</td><td>7,596.00</td><td>714</td></tr><tr><td>India</td><td>Mobile Phones</td><td>July</td><td>null</td><td>3,600.00</td><td>null</td></tr><tr><td>India</td><td>Mobile Phones</td><td>August</td><td>null</td><td>null</td><td>7,013.00</td></tr><tr><td>India</td><td>Mobile Phones</td><td>September</td><td>1,980.00</td><td>2,890.00</td><td>7,371.00</td></tr><tr><td>India</td><td>Mobile Phones</td><td>October</td><td>2,384.00</td><td>3,510.00</td><td>null</td></tr><tr><td>India</td><td>Mobile Phones</td><td>November</td><td>4,046.00</td><td>2,400.00</td><td>null</td></tr><tr><td>India</td><td>Mobile Phones</td><td>December</td><td>null</td><td>9,391.00</td><td>null</td></tr><tr><td>India</td><td>BarnesNobles</td><td>February</td><td>459.8</td><td>null</td><td>4,413.35</td></tr><tr><td>India</td><td>BarnesNobles</td><td>March</td><td>null</td><td>3,127.70</td><td>3,012.00</td></tr><tr><td>India</td><td>BarnesNobles</td><td>April</td><td>11,182.00</td><td>null</td><td>9,264.89</td></tr><tr><td>India</td><td>BarnesNobles</td><td>May</td><td>null</td><td>765.9</td><td>1,199.25</td></tr><tr><td>India</td><td>BarnesNobles</td><td>June</td><td>3,238.80</td><td>18,576.50</td><td>6,269.67</td></tr><tr><td>India</td><td>BarnesNobles</td><td>July</td><td>2,199.50</td><td>9,493.05</td><td>3,784.00</td></tr><tr><td>India</td><td>BarnesNobles</td><td>August</td><td>4,537.00</td><td>null</td><td>101.99</td></tr><tr><td>India</td><td>BarnesNobles</td><td>September</td><td>59.98</td><td>1,342.50</td><td>null</td></tr><tr><td>India</td><td>BarnesNobles</td><td>October</td><td>null</td><td>4,407.00</td><td>7,545.97</td></tr><tr><td>India</td><td>BarnesNobles</td><td>November</td><td>5,049.96</td><td>10,647.00</td><td>null</td></tr><tr><td>Germany</td><td>SequelGate</td><td>January</td><td>6,270.00</td><td>null</td><td>null</td></tr><tr><td>Germany</td><td>SequelGate</td><td>February</td><td>11,790.00</td><td>null</td><td>2,072.00</td></tr><tr><td>Germany</td><td>SequelGate</td><td>March</td><td>5,016.00</td><td>3,215.00</td><td>8,151.00</td></tr><tr><td>Germany</td><td>SequelGate</td><td>April</td><td>6,835.50</td><td>2,310.00</td><td>594</td></tr><tr><td>Germany</td><td>SequelGate</td><td>May</td><td>10,520.50</td><td>3,325.50</td><td>null</td></tr><tr><td>Germany</td><td>SequelGate</td><td>June</td><td>7,056.00</td><td>null</td><td>1,504.00</td></tr><tr><td>Germany</td><td>SequelGate</td><td>July</td><td>8,778.00</td><td>1,800.00</td><td>null</td></tr><tr><td>Germany</td><td>SequelGate</td><td>August</td><td>1,848.00</td><td>null</td><td>1,560.00</td></tr><tr><td>Germany</td><td>SequelGate</td><td>September</td><td>3,762.00</td><td>3,072.30</td><td>null</td></tr><tr><td>Germany</td><td>SequelGate</td><td>October</td><td>5,724.00</td><td>null</td><td>373.8</td></tr><tr><td>Germany</td><td>SequelGate</td><td>November</td><td>2,838.00</td><td>3,312.00</td><td>null</td></tr><tr><td>Germany</td><td>SequelGate</td><td>December</td><td>2,829.20</td><td>1,740.00</td><td>3,510.00</td></tr><tr><td>Germany</td><td>SQL School</td><td>January</td><td>6,249.47</td><td>null</td><td>719.55</td></tr><tr><td>Germany</td><td>SQL School</td><td>February</td><td>8,711.52</td><td>2,934.00</td><td>1,780.00</td></tr><tr><td>Germany</td><td>SQL School</td><td>March</td><td>22,928.18</td><td>null</td><td>559.65</td></tr><tr><td>Germany</td><td>SQL School</td><td>April</td><td>6,609.51</td><td>269.91</td><td>null</td></tr><tr><td>Germany</td><td>SQL School</td><td>May</td><td>3,289.79</td><td>2,583.00</td><td>7,461.79</td></tr><tr><td>Germany</td><td>SQL School</td><td>June</td><td>2,349.85</td><td>null</td><td>2,327.00</td></tr><tr><td>Germany</td><td>SQL School</td><td>July</td><td>4,229.73</td><td>5,592.00</td><td>1,439.88</td></tr><tr><td>Germany</td><td>SQL School</td><td>August</td><td>5,579.48</td><td>null</td><td>3,340.02</td></tr><tr><td>Germany</td><td>SQL School</td><td>September</td><td>6,769.61</td><td>599.98</td><td>1,709.68</td></tr><tr><td>Germany</td><td>SQL School</td><td>October</td><td>2,943.85</td><td>4,794.79</td><td>5,787.57</td></tr><tr><td>Germany</td><td>SQL School</td><td>November</td><td>3,623.91</td><td>null</td><td>null</td></tr><tr><td>Germany</td><td>SQL School</td><td>December</td><td>2,879.12</td><td>1,268.97</td><td>null</td></tr><tr><td>Germany</td><td>Contoso</td><td>January</td><td>8,172.92</td><td>93.78</td><td>6,800.52</td></tr><tr><td>Germany</td><td>Contoso</td><td>February</td><td>4,672.77</td><td>7,585.29</td><td>1,707.56</td></tr><tr><td>Germany</td><td>Contoso</td><td>March</td><td>12,430.38</td><td>2,683.39</td><td>5,318.82</td></tr><tr><td>Germany</td><td>Contoso</td><td>April</td><td>9,626.06</td><td>241.77</td><td>3,324.75</td></tr><tr><td>Germany</td><td>Contoso</td><td>May</td><td>11,868.03</td><td>5,273.61</td><td>1,462.52</td></tr><tr><td>Germany</td><td>Contoso</td><td>June</td><td>2,743.85</td><td>373.52</td><td>3,598.86</td></tr><tr><td>Germany</td><td>Contoso</td><td>July</td><td>28,791.79</td><td>2,150.36</td><td>862.27</td></tr><tr><td>Germany</td><td>Contoso</td><td>August</td><td>7,739.76</td><td>613.29</td><td>19,234.36</td></tr><tr><td>Germany</td><td>Contoso</td><td>September</td><td>13,894.28</td><td>9,406.25</td><td>5,011.40</td></tr><tr><td>Germany</td><td>Contoso</td><td>October</td><td>12,675.45</td><td>2,699.85</td><td>1,815.87</td></tr><tr><td>Germany</td><td>Contoso</td><td>November</td><td>16,987.67</td><td>6,745.82</td><td>null</td></tr><tr><td>Germany</td><td>Contoso</td><td>December</td><td>3,469.89</td><td>3,085.07</td><td>null</td></tr><tr><td>Germany</td><td>Fabrikam</td><td>January</td><td>null</td><td>1,415.20</td><td>129.99</td></tr><tr><td>Germany</td><td>Fabrikam</td><td>February</td><td>3,573.93</td><td>null</td><td>3,249.00</td></tr><tr><td>Germany</td><td>Fabrikam</td><td>March</td><td>3,032.00</td><td>2,670.00</td><td>null</td></tr><tr><td>Germany</td><td>Fabrikam  </td><td>April</td><td>2,279.97</td><td>16,050.00</td><td>6,392.00</td></tr><tr><td>Germany</td><td>Fabrikam</td><td>May</td><td>2,447.92</td><td>1,109.91</td><td>37,495.89</td></tr><tr><td>Germany</td><td>Fabrikam  </td><td>June</td><td>18,966.80</td><td>null</td><td>null</td></tr><tr><td>Germany</td><td>Fabrikam  </td><td>July</td><td>6,100.00</td><td>null</td><td>3,817.60</td></tr><tr><td>Germany</td><td>Fabrikam</td><td>August</td><td>129.99</td><td>632</td><td>980</td></tr><tr><td>Germany</td><td>Fabrikam  </td><td>September</td><td>5,859.00</td><td>199.99</td><td>null</td></tr><tr><td>Germany</td><td>Fabrikam</td><td>October</td><td>99.99</td><td>null</td><td>null</td></tr><tr><td>Germany</td><td>Fabrikam  </td><td>November</td><td>5,660.00</td><td>5,059.89</td><td>null</td></tr><tr><td>Germany</td><td>Fabrikam</td><td>December</td><td>1,799.94</td><td>null</td><td>null</td></tr><tr><td>Germany</td><td>Litware</td><td>January</td><td>5,327.52</td><td>39.92</td><td>7,631.88</td></tr><tr><td>Germany</td><td>Litware</td><td>February</td><td>369.95</td><td>null</td><td>134.91</td></tr><tr><td>Germany</td><td>Litware</td><td>March</td><td>8,742.72</td><td>59.94</td><td>13,786.73</td></tr><tr><td>Germany</td><td>Litware</td><td>April</td><td>5,497.81</td><td>1,013.85</td><td>949.9</td></tr><tr><td>Germany</td><td>Litware</td><td>May</td><td>2,169.91</td><td>8,950.67</td><td>29,579.85</td></tr><tr><td>Germany</td><td>Litware </td><td>June</td><td>null</td><td>6,683.89</td><td>3,859.33</td></tr><tr><td>Germany</td><td>Litware</td><td>July</td><td>359.98</td><td>4,339.77</td><td>1,434.66</td></tr><tr><td>Germany</td><td>Litware </td><td>August</td><td>1,184.94</td><td>1,079.60</td><td>null</td></tr><tr><td>Germany</td><td>Litware</td><td>September</td><td>null</td><td>6,175.39</td><td>809.91</td></tr><tr><td>Germany</td><td>Litware</td><td>October</td><td>699.93</td><td>3,518.78</td><td>404.85</td></tr><tr><td>Germany</td><td>Litware</td><td>November</td><td>22,399.93</td><td>null</td><td>null</td></tr><tr><td>Germany</td><td>Litware</td><td>December</td><td>5,274.57</td><td>null</td><td>null</td></tr><tr><td>Germany</td><td>DogWings</td><td>January</td><td>77.07</td><td>null</td><td>null</td></tr><tr><td>Germany</td><td>DogWings</td><td>February</td><td>5,508.08</td><td>null</td><td>null</td></tr><tr><td>Germany</td><td>DogWings</td><td>March</td><td>205.52</td><td>null</td><td>81.1</td></tr><tr><td>Germany</td><td>DogWings</td><td>April</td><td>308.28</td><td>null</td><td>null</td></tr><tr><td>Germany</td><td>DogWings</td><td>May</td><td>154.14</td><td>null</td><td>null</td></tr><tr><td>Germany</td><td>DogWings</td><td>June</td><td>25.69</td><td>null</td><td>569.25</td></tr><tr><td>Germany</td><td>DogWings</td><td>September</td><td>77.07</td><td>341.55</td><td>null</td></tr><tr><td>Germany</td><td>DogWings</td><td>December</td><td>18,570.30</td><td>null</td><td>null</td></tr><tr><td>Germany</td><td>Proseware</td><td>January</td><td>null</td><td>null</td><td>13,423.91</td></tr><tr><td>Germany</td><td>Proseware</td><td>February</td><td>79</td><td>null</td><td>null</td></tr><tr><td>Germany</td><td>Proseware</td><td>March</td><td>79.95</td><td>8,014.43</td><td>2,226.00</td></tr><tr><td>Germany</td><td>Proseware</td><td>April</td><td>299</td><td>null</td><td>5,688.87</td></tr><tr><td>Germany</td><td>Proseware</td><td>May</td><td>5,655.88</td><td>4,738.86</td><td>3,820.00</td></tr><tr><td>Germany</td><td>Proseware</td><td>June</td><td>815.92</td><td>null</td><td>22,000.00</td></tr><tr><td>Germany</td><td>Proseware</td><td>July</td><td>null</td><td>3,489.94</td><td>1,520.00</td></tr><tr><td>Germany</td><td>Proseware</td><td>August</td><td>null</td><td>3,299.89</td><td>8,474.89</td></tr><tr><td>Germany</td><td>Proseware</td><td>September</td><td>2,463.00</td><td>5,475.00</td><td>1,170.00</td></tr><tr><td>Germany</td><td>Proseware</td><td>October</td><td>13,568.78</td><td>728</td><td>2,290.00</td></tr><tr><td>Germany</td><td>Proseware</td><td>November</td><td>null</td><td>443.98</td><td>null</td></tr><tr><td>Germany</td><td>Proseware</td><td>December</td><td>1,089.00</td><td>null</td><td>null</td></tr><tr><td>Germany</td><td>Vimeo</td><td>January</td><td>1,894.62</td><td>660</td><td>876</td></tr><tr><td>Germany</td><td>Vimeo</td><td>February</td><td>1,220.10</td><td>87.05</td><td>3,844.85</td></tr><tr><td>Germany</td><td>Vimeo</td><td>March</td><td>2,003.88</td><td>97.02</td><td>2,105.88</td></tr><tr><td>Germany</td><td>Vimeo</td><td>April</td><td>6,538.73</td><td>null</td><td>null</td></tr><tr><td>Germany</td><td>Vimeo</td><td>May</td><td>3,242.61</td><td>657</td><td>598</td></tr><tr><td>Germany</td><td>Vimeo</td><td>June</td><td>1,443.93</td><td>88</td><td>161.1</td></tr><tr><td>Germany</td><td>Vimeo</td><td>July</td><td>1,553.70</td><td>271.5</td><td>6,563.00</td></tr><tr><td>Germany</td><td>Vimeo</td><td>August</td><td>2,385.27</td><td>null</td><td>960.04</td></tr><tr><td>Germany</td><td>Vimeo</td><td>September</td><td>3,678.96</td><td>987.87</td><td>null</td></tr><tr><td>Germany</td><td>Vimeo</td><td>October</td><td>5,296.42</td><td>396</td><td>124.32</td></tr><tr><td>Germany</td><td>Vimeo</td><td>November</td><td>262.6</td><td>694.56</td><td>null</td></tr><tr><td>Germany</td><td>Vimeo</td><td>December</td><td>741.69</td><td>660.41</td><td>null</td></tr><tr><td>Germany</td><td>Children Toys</td><td>January</td><td>1,076.00</td><td>561.04</td><td>258</td></tr><tr><td>Germany</td><td>Children Toys</td><td>February</td><td>84</td><td>258</td><td>480</td></tr><tr><td>Germany</td><td>Children Toys</td><td>March</td><td>1,917.82</td><td>77</td><td>392</td></tr><tr><td>Germany</td><td>Children Toys</td><td>April</td><td>96</td><td>923.29</td><td>389.4</td></tr><tr><td>Germany</td><td>Children Toys</td><td>May</td><td>null</td><td>340</td><td>1,375.00</td></tr><tr><td>Germany</td><td>Children Toys</td><td>June</td><td>null</td><td>null</td><td>608</td></tr><tr><td>Germany</td><td>Children Toys</td><td>July</td><td>null</td><td>172</td><td>1,589.56</td></tr><tr><td>Germany</td><td>Children Toys</td><td>August</td><td>90.87</td><td>null</td><td>733.04</td></tr><tr><td>Germany</td><td>Children Toys</td><td>September</td><td>192</td><td>null</td><td>180.36</td></tr><tr><td>Germany</td><td>Children Toys</td><td>October</td><td>638.4</td><td>280.52</td><td>1,219.43</td></tr><tr><td>Germany</td><td>Children Toys</td><td>December</td><td>301</td><td>161</td><td>null</td></tr><tr><td>Germany</td><td>Mobile Phones</td><td>January</td><td>1,650.00</td><td>1,465.00</td><td>null</td></tr><tr><td>Germany</td><td>Mobile Phones</td><td>February</td><td>null</td><td>2,170.00</td><td>3,615.00</td></tr><tr><td>Germany</td><td>Mobile Phones</td><td>March</td><td>460</td><td>null</td><td>null</td></tr><tr><td>Germany</td><td>Mobile Phones</td><td>April</td><td>null</td><td>null</td><td>6,479.00</td></tr><tr><td>Germany</td><td>Mobile Phones</td><td>May</td><td>null</td><td>null</td><td>2,430.00</td></tr><tr><td>Germany</td><td>Mobile Phones</td><td>June</td><td>null</td><td>1,400.00</td><td>null</td></tr><tr><td>Germany</td><td>Mobile Phones</td><td>July</td><td>null</td><td>null</td><td>2,152.00</td></tr><tr><td>Germany</td><td>Mobile Phones</td><td>September</td><td>2,168.00</td><td>5,490.00</td><td>null</td></tr><tr><td>Germany</td><td>Mobile Phones</td><td>October</td><td>4,588.00</td><td>924</td><td>1,592.00</td></tr><tr><td>Germany</td><td>Mobile Phones</td><td>November</td><td>4,166.00</td><td>129</td><td>null</td></tr><tr><td>Germany</td><td>Mobile Phones</td><td>December</td><td>null</td><td>2,312.00</td><td>null</td></tr><tr><td>Germany</td><td>BarnesNobles</td><td>January</td><td>879.8</td><td>23,648.70</td><td>1,799.40</td></tr><tr><td>Germany</td><td>BarnesNobles</td><td>February</td><td>null</td><td>4,130.80</td><td>1,039.35</td></tr><tr><td>Germany</td><td>BarnesNobles</td><td>March</td><td>1,198.00</td><td>null</td><td>9,506.00</td></tr><tr><td>Germany</td><td>BarnesNobles</td><td>April</td><td>null</td><td>4,746.00</td><td>179.94</td></tr><tr><td>Germany</td><td>BarnesNobles</td><td>May</td><td>899.7</td><td>null</td><td>1,161.00</td></tr><tr><td>Germany</td><td>BarnesNobles</td><td>June</td><td>null</td><td>179.94</td><td>575</td></tr><tr><td>Germany</td><td>BarnesNobles</td><td>July</td><td>2,429.10</td><td>2,231.00</td><td>13,770.00</td></tr><tr><td>Germany</td><td>BarnesNobles</td><td>August</td><td>3,689.90</td><td>2,759.88</td><td>539.8</td></tr><tr><td>Germany</td><td>BarnesNobles</td><td>September</td><td>null</td><td>1,145.00</td><td>5,967.00</td></tr><tr><td>Germany</td><td>BarnesNobles</td><td>October</td><td>594</td><td>203.98</td><td>null</td></tr><tr><td>Germany</td><td>BarnesNobles</td><td>November</td><td>null</td><td>18,360.00</td><td>null</td></tr><tr><td>Germany</td><td>BarnesNobles</td><td>December</td><td>8,349.89</td><td>2,529.89</td><td>null</td></tr><tr><td>United States</td><td>SequelGate</td><td>January</td><td>5,016.00</td><td>null</td><td>3,492.00</td></tr><tr><td>United States</td><td>SequelGate</td><td>February</td><td>5,794.00</td><td>null</td><td>10,336.00</td></tr><tr><td>United States</td><td>SequelGate</td><td>March</td><td>2,508.00</td><td>188.5</td><td>null</td></tr><tr><td>United States</td><td>SequelGate</td><td>April</td><td>4,100.00</td><td>186.9</td><td>1,014.00</td></tr><tr><td>United States</td><td>SequelGate</td><td>May</td><td>1,881.00</td><td>1,386.00</td><td>4,439.00</td></tr><tr><td>United States</td><td>SequelGate</td><td>June</td><td>3,335.00</td><td>495</td><td>3,240.00</td></tr><tr><td>United States</td><td>SequelGate</td><td>July</td><td>4,639.00</td><td>null</td><td>2,983.50</td></tr><tr><td>United States</td><td>SequelGate</td><td>August</td><td>3,762.00</td><td>664</td><td>2,225.00</td></tr><tr><td>United States</td><td>SequelGate</td><td>September</td><td>13,894.00</td><td>1,604.00</td><td>null</td></tr><tr><td>United States</td><td>SequelGate</td><td>October</td><td>2,503.00</td><td>null</td><td>null</td></tr><tr><td>United States</td><td>SequelGate</td><td>November</td><td>4,907.10</td><td>3,718.00</td><td>null</td></tr><tr><td>United States</td><td>SequelGate</td><td>December</td><td>627</td><td>627</td><td>null</td></tr><tr><td>United States</td><td>SQL School</td><td>January</td><td>8,459.46</td><td>1,968.69</td><td>null</td></tr><tr><td>United States</td><td>SQL School</td><td>February</td><td>11,749.25</td><td>4,049.25</td><td>129</td></tr><tr><td>United States</td><td>SQL School</td><td>March</td><td>16,598.22</td><td>9,659.79</td><td>2,086.00</td></tr><tr><td>United States</td><td>SQL School</td><td>April</td><td>22,067.57</td><td>2,338.00</td><td>297</td></tr><tr><td>United States</td><td>SQL School</td><td>May</td><td>9,869.37</td><td>null</td><td>null</td></tr><tr><td>United States</td><td>SQL School</td><td>June</td><td>10,757.16</td><td>null</td><td>null</td></tr><tr><td>United States</td><td>SQL School</td><td>July</td><td>9,869.37</td><td>5,056.00</td><td>3,550.87</td></tr><tr><td>United States</td><td>SQL School</td><td>August</td><td>939.94</td><td>1,566.00</td><td>4,451.93</td></tr><tr><td>United States</td><td>SQL School</td><td>September</td><td>3,759.76</td><td>2,058.40</td><td>2,670.00</td></tr><tr><td>United States</td><td>SQL School</td><td>October</td><td>null</td><td>null</td><td>399.75</td></tr><tr><td>United States</td><td>SQL School</td><td>November</td><td>4,699.70</td><td>null</td><td>null</td></tr><tr><td>United States</td><td>SQL School</td><td>December</td><td>19,734.89</td><td>2,953.50</td><td>null</td></tr><tr><td>United States</td><td>Contoso</td><td>January</td><td>8,506.88</td><td>605.55</td><td>11,839.98</td></tr><tr><td>United States</td><td>Contoso</td><td>February</td><td>5,629.26</td><td>5,433.80</td><td>17,029.47</td></tr><tr><td>United States</td><td>Contoso</td><td>March</td><td>6,733.86</td><td>8,314.54</td><td>1,770.10</td></tr><tr><td>United States</td><td>Contoso</td><td>April</td><td>17,433.79</td><td>1,850.16</td><td>1,714.55</td></tr><tr><td>United States</td><td>Contoso</td><td>May</td><td>7,133.14</td><td>921.35</td><td>7,049.65</td></tr><tr><td>United States</td><td>Contoso</td><td>June</td><td>5,356.89</td><td>3,325.74</td><td>16,701.42</td></tr><tr><td>United States</td><td>Contoso</td><td>July</td><td>4,770.20</td><td>2,634.27</td><td>2,181.66</td></tr><tr><td>United States</td><td>Contoso</td><td>August</td><td>15,159.15</td><td>25,590.05</td><td>4,445.18</td></tr><tr><td>United States</td><td>Contoso</td><td>September</td><td>6,232.99</td><td>3,786.22</td><td>10,863.67</td></tr><tr><td>United States</td><td>Contoso</td><td>October</td><td>18,206.65</td><td>1,089.45</td><td>7,950.51</td></tr><tr><td>United States</td><td>Contoso</td><td>November</td><td>8,218.20</td><td>15,254.44</td><td>null</td></tr><tr><td>United States</td><td>Contoso</td><td>December</td><td>42,184.42</td><td>9,811.38</td><td>null</td></tr><tr><td>United States</td><td>Fabrikam  </td><td>January</td><td>null</td><td>15,184.00</td><td>4,560.00</td></tr><tr><td>United States</td><td>Fabrikam  </td><td>February</td><td>2,310.00</td><td>3,992.00</td><td>null</td></tr><tr><td>United States</td><td>Fabrikam</td><td>March</td><td>null</td><td>6,136.00</td><td>1,344.00</td></tr><tr><td>United States</td><td>Fabrikam</td><td>April</td><td>11,882.00</td><td>8,423.90</td><td>1,818.85</td></tr><tr><td>United States</td><td>Fabrikam</td><td>May</td><td>719.96</td><td>26,127.80</td><td>16,343.80</td></tr><tr><td>United States</td><td>Fabrikam</td><td>June</td><td>12,910.36</td><td>4,338.00</td><td>2,531.00</td></tr><tr><td>United States</td><td>Fabrikam</td><td>July</td><td>1,169.91</td><td>null</td><td>799.92</td></tr><tr><td>United States</td><td>Fabrikam</td><td>August</td><td>null</td><td>15,133.00</td><td>4,914.00</td></tr><tr><td>United States</td><td>Fabrikam</td><td>September</td><td>4,930.00</td><td>29,011.00</td><td>4,264.00</td></tr><tr><td>United States</td><td>Fabrikam</td><td>October</td><td>7,704.00</td><td>3,135.00</td><td>2,324.00</td></tr><tr><td>United States</td><td>Fabrikam  </td><td>November</td><td>3,038.00</td><td>17,404.60</td><td>null</td></tr><tr><td>United States</td><td>Fabrikam  </td><td>December</td><td>11,872.00</td><td>null</td><td>null</td></tr><tr><td>United States</td><td>Litware</td><td>January</td><td>null</td><td>null</td><td>6,293.00</td></tr><tr><td>United States</td><td>Litware</td><td>February</td><td>null</td><td>null</td><td>1,689.87</td></tr><tr><td>United States</td><td>Litware</td><td>March</td><td>180</td><td>449.9</td><td>12,692.95</td></tr><tr><td>United States</td><td>Litware</td><td>April</td><td>null</td><td>23,715.00</td><td>13,986.00</td></tr><tr><td>United States</td><td>Litware</td><td>May</td><td>7,054.98</td><td>9,659.91</td><td>8,267.47</td></tr><tr><td>United States</td><td>Litware</td><td>June</td><td>null</td><td>1,399.93</td><td>1,073.90</td></tr><tr><td>United States</td><td>Litware</td><td>July</td><td>1,829.89</td><td>1,867.91</td><td>1,676.44</td></tr><tr><td>United States</td><td>Litware</td><td>August</td><td>1,439.92</td><td>38,807.84</td><td>139.86</td></tr><tr><td>United States</td><td>Litware</td><td>September</td><td>1,439.92</td><td>24,373.99</td><td>4,183.72</td></tr><tr><td>United States</td><td>Litware</td><td>October</td><td>null</td><td>10,733.80</td><td>null</td></tr><tr><td>United States</td><td>Litware</td><td>November</td><td>19,229.82</td><td>9,065.85</td><td>null</td></tr><tr><td>United States</td><td>Litware</td><td>December</td><td>4,199.85</td><td>2,359.30</td><td>null</td></tr><tr><td>United States</td><td>DogWings</td><td>January</td><td>102.76</td><td>null</td><td>243.3</td></tr><tr><td>United States</td><td>DogWings</td><td>February</td><td>77.07</td><td>null</td><td>99.99</td></tr><tr><td>United States</td><td>DogWings</td><td>March</td><td>154.14</td><td>null</td><td>null</td></tr><tr><td>United States</td><td>DogWings</td><td>April</td><td>128.45</td><td>null</td><td>623.35</td></tr><tr><td>United States</td><td>DogWings</td><td>June</td><td>128.45</td><td>null</td><td>null</td></tr><tr><td>United States</td><td>DogWings</td><td>July</td><td>27,360.57</td><td>10,913.40</td><td>527.45</td></tr><tr><td>United States</td><td>DogWings</td><td>September</td><td>102.76</td><td>287.7</td><td>12,732.30</td></tr><tr><td>United States</td><td>DogWings</td><td>October</td><td>205.52</td><td>null</td><td>null</td></tr><tr><td>United States</td><td>DogWings</td><td>November</td><td>21,826.80</td><td>null</td><td>null</td></tr><tr><td>United States</td><td>DogWings</td><td>December</td><td>102.76</td><td>null</td><td>null</td></tr><tr><td>United States</td><td>Proseware</td><td>January</td><td>null</td><td>null</td><td>596</td></tr><tr><td>United States</td><td>Proseware</td><td>February</td><td>null</td><td>null</td><td>3,669.97</td></tr><tr><td>United States</td><td>Proseware</td><td>March</td><td>980</td><td>390</td><td>null</td></tr><tr><td>United States</td><td>Proseware</td><td>April</td><td>872</td><td>6,589.00</td><td>6,432.80</td></tr><tr><td>United States</td><td>Proseware</td><td>May</td><td>136</td><td>9,976.00</td><td>1,199.96</td></tr><tr><td>United States</td><td>Proseware</td><td>June</td><td>1,832.00</td><td>973</td><td>null</td></tr><tr><td>United States</td><td>Proseware</td><td>July</td><td>null</td><td>3,895.00</td><td>4,799.88</td></tr><tr><td>United States</td><td>Proseware</td><td>August</td><td>1,807.00</td><td>3,331.00</td><td>11,375.46</td></tr><tr><td>United States</td><td>Proseware</td><td>September</td><td>21,903.00</td><td>9,739.84</td><td>2,219.00</td></tr><tr><td>United States</td><td>Proseware</td><td>October</td><td>489</td><td>1,818.00</td><td>2,579.94</td></tr><tr><td>United States</td><td>Proseware</td><td>November</td><td>645</td><td>1,692.00</td><td>null</td></tr><tr><td>United States</td><td>Proseware</td><td>December</td><td>7,528.88</td><td>3,242.00</td><td>null</td></tr><tr><td>United States</td><td>Vimeo</td><td>January</td><td>3,377.10</td><td>59.29</td><td>null</td></tr><tr><td>United States</td><td>Vimeo</td><td>February</td><td>6,502.75</td><td>479.97</td><td>792</td></tr><tr><td>United States</td><td>Vimeo</td><td>March</td><td>6,143.27</td><td>598</td><td>null</td></tr><tr><td>United States</td><td>Vimeo</td><td>April</td><td>2,896.17</td><td>1,817.11</td><td>4,675.00</td></tr><tr><td>United States</td><td>Vimeo</td><td>May</td><td>4,897.73</td><td>4,841.85</td><td>1,838.50</td></tr><tr><td>United States</td><td>Vimeo</td><td>June</td><td>3,276.68</td><td>null</td><td>null</td></tr><tr><td>United States</td><td>Vimeo</td><td>July</td><td>2,849.09</td><td>625.95</td><td>3,169.99</td></tr><tr><td>United States</td><td>Vimeo</td><td>August</td><td>4,148.15</td><td>332.71</td><td>96.32</td></tr><tr><td>United States</td><td>Vimeo</td><td>September</td><td>1,395.90</td><td>4,718.87</td><td>10,774.90</td></tr><tr><td>United States</td><td>Vimeo</td><td>October</td><td>318.9</td><td>2,628.00</td><td>113.94</td></tr><tr><td>United States</td><td>Vimeo</td><td>November</td><td>2,047.39</td><td>2,710.75</td><td>null</td></tr><tr><td>United States</td><td>Vimeo</td><td>December</td><td>4,038.72</td><td>311.8</td><td>null</td></tr><tr><td>United States</td><td>Children Toys</td><td>January</td><td>519.87</td><td>307.9</td><td>491</td></tr><tr><td>United States</td><td>Children Toys</td><td>February</td><td>null</td><td>null</td><td>499.86</td></tr><tr><td>United States</td><td>Children Toys</td><td>March</td><td>null</td><td>663.83</td><td>null</td></tr><tr><td>United States</td><td>Children Toys</td><td>April</td><td>null</td><td>702.5</td><td>null</td></tr><tr><td>United States</td><td>Children Toys</td><td>May</td><td>297.21</td><td>null</td><td>null</td></tr><tr><td>United States</td><td>Children Toys</td><td>June</td><td>267</td><td>435.85</td><td>454</td></tr><tr><td>United States</td><td>Children Toys</td><td>July</td><td>258</td><td>280.52</td><td>792.87</td></tr><tr><td>United States</td><td>Children Toys</td><td>August</td><td>359.57</td><td>74.85</td><td>null</td></tr><tr><td>United States</td><td>Children Toys</td><td>September</td><td>430</td><td>null</td><td>null</td></tr><tr><td>United States</td><td>Children Toys</td><td>October</td><td>834.91</td><td>null</td><td>null</td></tr><tr><td>United States</td><td>Children Toys</td><td>November</td><td>86</td><td>619.08</td><td>null</td></tr><tr><td>United States</td><td>Children Toys</td><td>December</td><td>927.56</td><td>56</td><td>null</td></tr><tr><td>United States</td><td>Mobile Phones</td><td>January</td><td>510</td><td>null</td><td>null</td></tr><tr><td>United States</td><td>Mobile Phones</td><td>February</td><td>null</td><td>null</td><td>1,345.00</td></tr><tr><td>United States</td><td>Mobile Phones</td><td>April</td><td>1,812.00</td><td>null</td><td>null</td></tr><tr><td>United States</td><td>Mobile Phones</td><td>May</td><td>3,890.00</td><td>7,068.00</td><td>6,284.00</td></tr><tr><td>United States</td><td>Mobile Phones</td><td>June</td><td>6,686.00</td><td>null</td><td>null</td></tr><tr><td>United States</td><td>Mobile Phones</td><td>July</td><td>null</td><td>2,680.00</td><td>1,602.00</td></tr><tr><td>United States</td><td>Mobile Phones</td><td>August</td><td>null</td><td>5,017.00</td><td>null</td></tr><tr><td>United States</td><td>Mobile Phones</td><td>September</td><td>1,161.00</td><td>null</td><td>1,160.00</td></tr><tr><td>United States</td><td>Mobile Phones</td><td>November</td><td>null</td><td>7,069.00</td><td>null</td></tr><tr><td>United States</td><td>BarnesNobles</td><td>January</td><td>null</td><td>null</td><td>4,451.93</td></tr><tr><td>United States</td><td>BarnesNobles</td><td>February</td><td>2,299.00</td><td>10,971.90</td><td>null</td></tr><tr><td>United States</td><td>BarnesNobles</td><td>March</td><td>4,771.00</td><td>5,065.60</td><td>null</td></tr><tr><td>United States</td><td>BarnesNobles</td><td>April</td><td>null</td><td>6,329.86</td><td>6,314.00</td></tr><tr><td>United States</td><td>BarnesNobles</td><td>May</td><td>2,748.00</td><td>3,887.00</td><td>null</td></tr><tr><td>United States</td><td>BarnesNobles</td><td>June</td><td>null</td><td>3,012.00</td><td>5,008.20</td></tr><tr><td>United States</td><td>BarnesNobles</td><td>July</td><td>1,289.57</td><td>9,828.00</td><td>2,875.86</td></tr><tr><td>United States</td><td>BarnesNobles</td><td>August</td><td>319.8</td><td>17,169.15</td><td>null</td></tr><tr><td>United States</td><td>BarnesNobles</td><td>September</td><td>2,199.45</td><td>null</td><td>599.8</td></tr><tr><td>United States</td><td>BarnesNobles</td><td>October</td><td>471.8</td><td>null</td><td>11,985.00</td></tr><tr><td>United States</td><td>BarnesNobles</td><td>November</td><td>null</td><td>727.25</td><td>null</td></tr><tr><td>United States</td><td>BarnesNobles</td><td>December</td><td>null</td><td>3,818.75</td><td>null</td></tr><tr><td>United States</td><td>BarnesNobles</td><td>November</td><td>null</td><td>727.25</td><td>10,788.00</td></tr><tr><td>United States</td><td>BarnesNobles</td><td>December</td><td>null</td><td>3,818.75</td><td>null</td></tr></tbody></table></div>"
      ]
     },
     "metadata": {
      "application/vnd.databricks.v1+output": {
       "addedWidgets": {},
       "aggData": [],
       "aggError": "",
       "aggOverflow": false,
       "aggSchema": [],
       "aggSeriesLimitReached": false,
       "aggType": "",
       "arguments": {},
       "columnCustomDisplayInfos": {},
       "data": [
        [
         "Country",
         "Company",
         "Month",
         "Sale2018",
         "Sale2019",
         "Sale2020"
        ],
        [
         "India",
         "SequelGate",
         "January",
         "3,234.00",
         null,
         "1,935.00"
        ],
        [
         "India",
         "SequelGate",
         "February",
         "6,270.00",
         "7,059.00",
         "12,418.26"
        ],
        [
         "India",
         "SequelGate",
         "March",
         "4,352.00",
         "16,638.85",
         "31,770.26"
        ],
        [
         "India",
         "SequelGate",
         "April",
         "3,814.00",
         "11,864.76",
         "8,785.89"
        ],
        [
         "India",
         "SequelGate",
         "May",
         "6,234.00",
         "2,819.82",
         "119.99"
        ],
        [
         "India",
         "SequelGate",
         "June",
         "5,571.00",
         "3,216.00",
         "2,819.82"
        ],
        [
         "India",
         "SequelGate",
         "July",
         "7,424.00",
         null,
         "6,881.00"
        ],
        [
         "India",
         "SequelGate",
         "August",
         null,
         null,
         "800"
        ],
        [
         "India",
         "SequelGate",
         "September",
         "1,254.00",
         "1,617.00",
         "396"
        ],
        [
         "India",
         "SequelGate",
         "October",
         "1,881.00",
         "3,042.00",
         "936"
        ],
        [
         "India",
         "SequelGate",
         "November",
         null,
         "3,653.00",
         "7,001.78"
        ],
        [
         "India",
         "SequelGate",
         "December",
         "6,135.00",
         "2,810.00",
         "8,785.89"
        ],
        [
         "India",
         "SQL School",
         "January",
         "12,418.26",
         "5,735.48",
         "1,559.87"
        ],
        [
         "India",
         "SQL School",
         "February",
         "31,770.26",
         null,
         "2,937.90"
        ],
        [
         "India",
         "SQL School",
         "March",
         "3,689.85",
         "5,489.23",
         "11,163.94"
        ],
        [
         "India",
         "SQL School",
         "April",
         "499.9",
         "9,087.00",
         "2,298.70"
        ],
        [
         "India",
         "SQL School",
         "May",
         null,
         "9,203.92",
         null
        ],
        [
         "India",
         "SQL School",
         "June",
         "15,790.00",
         "119.99",
         "1,948.50"
        ],
        [
         "India",
         "SQL School",
         "July",
         "9,938.12",
         "2,819.82",
         null
        ],
        [
         "India",
         "SQL School",
         "August",
         "14,035.71",
         "6,881.00",
         "12,775.40"
        ],
        [
         "India",
         "SQL School",
         "September",
         "16,638.85",
         null,
         null
        ],
        [
         "India",
         "SQL School",
         "October",
         "11,864.76",
         null,
         "2,085.00"
        ],
        [
         "India",
         "SQL School",
         "November",
         "2,819.82",
         "959.92",
         null
        ],
        [
         "India",
         "SQL School",
         "December",
         null,
         "16,694.07",
         null
        ],
        [
         "India",
         "Contoso",
         "January",
         "1,271.55",
         "3,236.31",
         "9,945.86"
        ],
        [
         "India",
         "Contoso",
         "February",
         "7,372.34",
         "5,995.55",
         "1,303.01"
        ],
        [
         "India",
         "Contoso",
         "March",
         "11,364.07",
         "2,767.32",
         "3,437.26"
        ],
        [
         "India",
         "Contoso",
         "April",
         "13,590.94",
         "17,530.47",
         "25,007.74"
        ],
        [
         "India",
         "Contoso",
         "May",
         "11,780.08",
         "13,501.47",
         "5,270.05"
        ],
        [
         "India",
         "Contoso",
         "June",
         "8,562.00",
         "8,338.87",
         "7,357.26"
        ],
        [
         "India",
         "Contoso",
         "July",
         "7,001.78",
         "13,874.09",
         "31,571.42"
        ],
        [
         "India",
         "Contoso",
         "August",
         "605.89",
         "3,340.02",
         "1,386.20"
        ],
        [
         "India",
         "Contoso",
         "September",
         "3,958.70",
         "1,709.68",
         "2,224.36"
        ],
        [
         "India",
         "Contoso",
         "October",
         "8,785.89",
         "5,787.57",
         "10,792.05"
        ],
        [
         "India",
         "Contoso",
         "November",
         "7,631.64",
         "2,412.91",
         "3,340.02"
        ],
        [
         "India",
         "Contoso",
         "December",
         "21,968.86",
         "5,657.70",
         "1,709.68"
        ],
        [
         "India",
         "Fabrikam",
         "January",
         "5,794.38",
         "9,244.97",
         "5,787.57"
        ],
        [
         "India",
         "Fabrikam  ",
         "February",
         null,
         "6,230.00",
         null
        ],
        [
         "India",
         "Fabrikam",
         "March",
         "3,415.96",
         "1,044.89",
         null
        ],
        [
         "India",
         "Fabrikam",
         "April",
         null,
         null,
         "5,155.78"
        ],
        [
         "India",
         "Fabrikam  ",
         "May",
         "3,657.95",
         "2,954.00",
         "20,177.94"
        ],
        [
         "India",
         "Fabrikam",
         "June",
         "2,820.00",
         "28,407.99",
         "6,223.31"
        ],
        [
         "India",
         "Fabrikam",
         "July",
         null,
         "1,439.92",
         "12,530.60"
        ],
        [
         "India",
         "Fabrikam",
         "August",
         "7,113.00",
         null,
         "2,640.00"
        ],
        [
         "India",
         "Fabrikam  ",
         "September",
         "5,901.93",
         "4,367.60",
         "20,600.00"
        ],
        [
         "India",
         "Fabrikam",
         "October",
         "2,396.06",
         "9,597.93",
         "29,305.77"
        ],
        [
         "India",
         "Fabrikam",
         "November",
         "9,477.60",
         "14,941.87",
         null
        ],
        [
         "India",
         "Fabrikam  ",
         "December",
         "15,499.94",
         "12,740.00",
         null
        ],
        [
         "India",
         "Litware",
         "January",
         null,
         "2,209.73",
         null
        ],
        [
         "India",
         "Litware",
         "February",
         null,
         "2,465.00",
         "1,679.88"
        ],
        [
         "India",
         "Litware",
         "March",
         "4.99",
         "7,956.00",
         "11,000.00"
        ],
        [
         "India",
         "Litware",
         "April",
         "599.9",
         null,
         null
        ],
        [
         "India",
         "Litware ",
         "May",
         null,
         "11,186.00",
         "2,087.73"
        ],
        [
         "India",
         "Litware",
         "June",
         null,
         "2,400.00",
         "1,331.88"
        ],
        [
         "India",
         "Litware",
         "July",
         "7,579.00",
         "2,303.85",
         "28,488.15"
        ],
        [
         "India",
         "Litware",
         "August",
         "3,340.02",
         "25,599.92",
         "12,619.43"
        ],
        [
         "India",
         "Litware",
         "September",
         "1,709.68",
         "591.92",
         "89.97"
        ],
        [
         "India",
         "Litware",
         "October",
         "5,787.57",
         "5,525.81",
         "6,205.48"
        ],
        [
         "India",
         "Litware",
         "November",
         null,
         "3,451.00",
         null
        ],
        [
         "India",
         "Litware",
         "December",
         "1,199.96",
         "11,164.00",
         null
        ],
        [
         "India",
         "DogWings",
         "January",
         "34,616.15",
         "359.66",
         null
        ],
        [
         "India",
         "DogWings",
         "February",
         "51.38",
         null,
         "95.9"
        ],
        [
         "India",
         "DogWings",
         "March",
         "7,999.50",
         null,
         null
        ],
        [
         "India",
         "DogWings",
         "April",
         null,
         "12,732.30",
         null
        ],
        [
         "India",
         "DogWings",
         "May",
         "25,598.40",
         "3,340.02",
         null
        ],
        [
         "India",
         "DogWings",
         "July",
         "51.38",
         "1,709.68",
         "359.66"
        ],
        [
         "India",
         "DogWings",
         "August",
         "154.14",
         "5,787.57",
         null
        ],
        [
         "India",
         "DogWings",
         "September",
         "25.69",
         null,
         "569.25"
        ],
        [
         "India",
         "DogWings",
         "December",
         "51.38",
         null,
         "3,340.02"
        ],
        [
         "India",
         "Proseware",
         "January",
         null,
         "735",
         "1,709.68"
        ],
        [
         "India",
         "Proseware",
         "February",
         "2,847.00",
         "4,509.99",
         "5,787.57"
        ],
        [
         "India",
         "Proseware",
         "March",
         "4,489.89",
         "3,347.88",
         "1,325.87"
        ],
        [
         "India",
         "Proseware",
         "April",
         "719",
         "10,447.77",
         "5,104.93"
        ],
        [
         "India",
         "Proseware",
         "May",
         null,
         "1,749.00",
         null
        ],
        [
         "India",
         "Proseware",
         "June",
         "952",
         "3,555.00",
         "6,903.91"
        ],
        [
         "India",
         "Proseware",
         "July",
         null,
         "1,029.00",
         "1,149.90"
        ],
        [
         "India",
         "Proseware",
         "August",
         "1,399.93",
         null,
         "1,831.50"
        ],
        [
         "India",
         "Proseware",
         "September",
         "37,923.00",
         "1,908.00",
         "1,548.00"
        ],
        [
         "India",
         "Proseware",
         "October",
         null,
         null,
         "959.92"
        ],
        [
         "India",
         "Proseware",
         "November",
         null,
         "1,399.93",
         "11,000.00"
        ],
        [
         "India",
         "Proseware",
         "December",
         "12,987.00",
         "599.98",
         null
        ],
        [
         "India",
         "Vimeo",
         "January",
         "2,255.94",
         "4,683.56",
         "4,858.80"
        ],
        [
         "India",
         "Vimeo",
         "February",
         "1,775.85",
         "632",
         "141.84"
        ],
        [
         "India",
         "Vimeo",
         "March",
         "980.4",
         null,
         null
        ],
        [
         "India",
         "Vimeo",
         "April",
         "75.99",
         "388.49",
         null
        ],
        [
         "India",
         "Vimeo",
         "May",
         "41.73",
         "1.9",
         "1,485.00"
        ],
        [
         "India",
         "Vimeo",
         "June",
         "10,280.89",
         "1,461.46",
         null
        ],
        [
         "India",
         "Vimeo",
         "July",
         "4,226.88",
         "2,625.00",
         "11,376.00"
        ],
        [
         "India",
         "Vimeo",
         "August",
         "13,740.38",
         "1,035.90",
         "5,687.94"
        ],
        [
         "India",
         "Vimeo",
         "September",
         "632.79",
         "3,510.00",
         "199"
        ],
        [
         "India",
         "Vimeo",
         "October",
         "1,084.10",
         null,
         "1,481.74"
        ],
        [
         "India",
         "Vimeo",
         "November",
         "1,439.64",
         null,
         null
        ],
        [
         "India",
         "Vimeo",
         "December",
         "753.69",
         "9,817.96",
         null
        ],
        [
         "India",
         "Children Toys",
         "January",
         null,
         null,
         "698"
        ],
        [
         "India",
         "Children Toys",
         "February",
         "71.92",
         null,
         "1,303.53"
        ],
        [
         "India",
         "Children Toys",
         "March",
         "310",
         "288",
         null
        ],
        [
         "India",
         "Children Toys",
         "April",
         "104.85",
         "172",
         "752.9"
        ],
        [
         "India",
         "Children Toys",
         "May",
         "214",
         "436",
         "69.86"
        ],
        [
         "India",
         "Children Toys",
         "June",
         "62.93",
         "644.78",
         "1,777.87"
        ],
        [
         "India",
         "Children Toys",
         "July",
         "86",
         "813",
         "731.12"
        ],
        [
         "India",
         "Children Toys",
         "August",
         "272.89",
         null,
         "3,510.00"
        ],
        [
         "India",
         "Children Toys",
         "September",
         "219.57",
         null,
         "1,114.00"
        ],
        [
         "India",
         "Children Toys",
         "October",
         null,
         "458",
         "743.87"
        ],
        [
         "India",
         "Children Toys",
         "November",
         "140",
         null,
         "3,340.02"
        ],
        [
         "India",
         "Children Toys",
         "December",
         "225.23",
         null,
         "1,709.68"
        ],
        [
         "India",
         "Mobile Phones",
         "January",
         null,
         "3,296.00",
         "5,787.57"
        ],
        [
         "India",
         "Mobile Phones",
         "February",
         "2,408.00",
         null,
         null
        ],
        [
         "India",
         "Mobile Phones",
         "March",
         "690",
         null,
         null
        ],
        [
         "India",
         "Mobile Phones",
         "April",
         null,
         null,
         "7,862.00"
        ],
        [
         "India",
         "Mobile Phones",
         "May",
         "1,960.00",
         "560",
         "2,300.00"
        ],
        [
         "India",
         "Mobile Phones",
         "June",
         "1,340.00",
         "7,596.00",
         "714"
        ],
        [
         "India",
         "Mobile Phones",
         "July",
         null,
         "3,600.00",
         null
        ],
        [
         "India",
         "Mobile Phones",
         "August",
         null,
         null,
         "7,013.00"
        ],
        [
         "India",
         "Mobile Phones",
         "September",
         "1,980.00",
         "2,890.00",
         "7,371.00"
        ],
        [
         "India",
         "Mobile Phones",
         "October",
         "2,384.00",
         "3,510.00",
         null
        ],
        [
         "India",
         "Mobile Phones",
         "November",
         "4,046.00",
         "2,400.00",
         null
        ],
        [
         "India",
         "Mobile Phones",
         "December",
         null,
         "9,391.00",
         null
        ],
        [
         "India",
         "BarnesNobles",
         "February",
         "459.8",
         null,
         "4,413.35"
        ],
        [
         "India",
         "BarnesNobles",
         "March",
         null,
         "3,127.70",
         "3,012.00"
        ],
        [
         "India",
         "BarnesNobles",
         "April",
         "11,182.00",
         null,
         "9,264.89"
        ],
        [
         "India",
         "BarnesNobles",
         "May",
         null,
         "765.9",
         "1,199.25"
        ],
        [
         "India",
         "BarnesNobles",
         "June",
         "3,238.80",
         "18,576.50",
         "6,269.67"
        ],
        [
         "India",
         "BarnesNobles",
         "July",
         "2,199.50",
         "9,493.05",
         "3,784.00"
        ],
        [
         "India",
         "BarnesNobles",
         "August",
         "4,537.00",
         null,
         "101.99"
        ],
        [
         "India",
         "BarnesNobles",
         "September",
         "59.98",
         "1,342.50",
         null
        ],
        [
         "India",
         "BarnesNobles",
         "October",
         null,
         "4,407.00",
         "7,545.97"
        ],
        [
         "India",
         "BarnesNobles",
         "November",
         "5,049.96",
         "10,647.00",
         null
        ],
        [
         "Germany",
         "SequelGate",
         "January",
         "6,270.00",
         null,
         null
        ],
        [
         "Germany",
         "SequelGate",
         "February",
         "11,790.00",
         null,
         "2,072.00"
        ],
        [
         "Germany",
         "SequelGate",
         "March",
         "5,016.00",
         "3,215.00",
         "8,151.00"
        ],
        [
         "Germany",
         "SequelGate",
         "April",
         "6,835.50",
         "2,310.00",
         "594"
        ],
        [
         "Germany",
         "SequelGate",
         "May",
         "10,520.50",
         "3,325.50",
         null
        ],
        [
         "Germany",
         "SequelGate",
         "June",
         "7,056.00",
         null,
         "1,504.00"
        ],
        [
         "Germany",
         "SequelGate",
         "July",
         "8,778.00",
         "1,800.00",
         null
        ],
        [
         "Germany",
         "SequelGate",
         "August",
         "1,848.00",
         null,
         "1,560.00"
        ],
        [
         "Germany",
         "SequelGate",
         "September",
         "3,762.00",
         "3,072.30",
         null
        ],
        [
         "Germany",
         "SequelGate",
         "October",
         "5,724.00",
         null,
         "373.8"
        ],
        [
         "Germany",
         "SequelGate",
         "November",
         "2,838.00",
         "3,312.00",
         null
        ],
        [
         "Germany",
         "SequelGate",
         "December",
         "2,829.20",
         "1,740.00",
         "3,510.00"
        ],
        [
         "Germany",
         "SQL School",
         "January",
         "6,249.47",
         null,
         "719.55"
        ],
        [
         "Germany",
         "SQL School",
         "February",
         "8,711.52",
         "2,934.00",
         "1,780.00"
        ],
        [
         "Germany",
         "SQL School",
         "March",
         "22,928.18",
         null,
         "559.65"
        ],
        [
         "Germany",
         "SQL School",
         "April",
         "6,609.51",
         "269.91",
         null
        ],
        [
         "Germany",
         "SQL School",
         "May",
         "3,289.79",
         "2,583.00",
         "7,461.79"
        ],
        [
         "Germany",
         "SQL School",
         "June",
         "2,349.85",
         null,
         "2,327.00"
        ],
        [
         "Germany",
         "SQL School",
         "July",
         "4,229.73",
         "5,592.00",
         "1,439.88"
        ],
        [
         "Germany",
         "SQL School",
         "August",
         "5,579.48",
         null,
         "3,340.02"
        ],
        [
         "Germany",
         "SQL School",
         "September",
         "6,769.61",
         "599.98",
         "1,709.68"
        ],
        [
         "Germany",
         "SQL School",
         "October",
         "2,943.85",
         "4,794.79",
         "5,787.57"
        ],
        [
         "Germany",
         "SQL School",
         "November",
         "3,623.91",
         null,
         null
        ],
        [
         "Germany",
         "SQL School",
         "December",
         "2,879.12",
         "1,268.97",
         null
        ],
        [
         "Germany",
         "Contoso",
         "January",
         "8,172.92",
         "93.78",
         "6,800.52"
        ],
        [
         "Germany",
         "Contoso",
         "February",
         "4,672.77",
         "7,585.29",
         "1,707.56"
        ],
        [
         "Germany",
         "Contoso",
         "March",
         "12,430.38",
         "2,683.39",
         "5,318.82"
        ],
        [
         "Germany",
         "Contoso",
         "April",
         "9,626.06",
         "241.77",
         "3,324.75"
        ],
        [
         "Germany",
         "Contoso",
         "May",
         "11,868.03",
         "5,273.61",
         "1,462.52"
        ],
        [
         "Germany",
         "Contoso",
         "June",
         "2,743.85",
         "373.52",
         "3,598.86"
        ],
        [
         "Germany",
         "Contoso",
         "July",
         "28,791.79",
         "2,150.36",
         "862.27"
        ],
        [
         "Germany",
         "Contoso",
         "August",
         "7,739.76",
         "613.29",
         "19,234.36"
        ],
        [
         "Germany",
         "Contoso",
         "September",
         "13,894.28",
         "9,406.25",
         "5,011.40"
        ],
        [
         "Germany",
         "Contoso",
         "October",
         "12,675.45",
         "2,699.85",
         "1,815.87"
        ],
        [
         "Germany",
         "Contoso",
         "November",
         "16,987.67",
         "6,745.82",
         null
        ],
        [
         "Germany",
         "Contoso",
         "December",
         "3,469.89",
         "3,085.07",
         null
        ],
        [
         "Germany",
         "Fabrikam",
         "January",
         null,
         "1,415.20",
         "129.99"
        ],
        [
         "Germany",
         "Fabrikam",
         "February",
         "3,573.93",
         null,
         "3,249.00"
        ],
        [
         "Germany",
         "Fabrikam",
         "March",
         "3,032.00",
         "2,670.00",
         null
        ],
        [
         "Germany",
         "Fabrikam  ",
         "April",
         "2,279.97",
         "16,050.00",
         "6,392.00"
        ],
        [
         "Germany",
         "Fabrikam",
         "May",
         "2,447.92",
         "1,109.91",
         "37,495.89"
        ],
        [
         "Germany",
         "Fabrikam  ",
         "June",
         "18,966.80",
         null,
         null
        ],
        [
         "Germany",
         "Fabrikam  ",
         "July",
         "6,100.00",
         null,
         "3,817.60"
        ],
        [
         "Germany",
         "Fabrikam",
         "August",
         "129.99",
         "632",
         "980"
        ],
        [
         "Germany",
         "Fabrikam  ",
         "September",
         "5,859.00",
         "199.99",
         null
        ],
        [
         "Germany",
         "Fabrikam",
         "October",
         "99.99",
         null,
         null
        ],
        [
         "Germany",
         "Fabrikam  ",
         "November",
         "5,660.00",
         "5,059.89",
         null
        ],
        [
         "Germany",
         "Fabrikam",
         "December",
         "1,799.94",
         null,
         null
        ],
        [
         "Germany",
         "Litware",
         "January",
         "5,327.52",
         "39.92",
         "7,631.88"
        ],
        [
         "Germany",
         "Litware",
         "February",
         "369.95",
         null,
         "134.91"
        ],
        [
         "Germany",
         "Litware",
         "March",
         "8,742.72",
         "59.94",
         "13,786.73"
        ],
        [
         "Germany",
         "Litware",
         "April",
         "5,497.81",
         "1,013.85",
         "949.9"
        ],
        [
         "Germany",
         "Litware",
         "May",
         "2,169.91",
         "8,950.67",
         "29,579.85"
        ],
        [
         "Germany",
         "Litware ",
         "June",
         null,
         "6,683.89",
         "3,859.33"
        ],
        [
         "Germany",
         "Litware",
         "July",
         "359.98",
         "4,339.77",
         "1,434.66"
        ],
        [
         "Germany",
         "Litware ",
         "August",
         "1,184.94",
         "1,079.60",
         null
        ],
        [
         "Germany",
         "Litware",
         "September",
         null,
         "6,175.39",
         "809.91"
        ],
        [
         "Germany",
         "Litware",
         "October",
         "699.93",
         "3,518.78",
         "404.85"
        ],
        [
         "Germany",
         "Litware",
         "November",
         "22,399.93",
         null,
         null
        ],
        [
         "Germany",
         "Litware",
         "December",
         "5,274.57",
         null,
         null
        ],
        [
         "Germany",
         "DogWings",
         "January",
         "77.07",
         null,
         null
        ],
        [
         "Germany",
         "DogWings",
         "February",
         "5,508.08",
         null,
         null
        ],
        [
         "Germany",
         "DogWings",
         "March",
         "205.52",
         null,
         "81.1"
        ],
        [
         "Germany",
         "DogWings",
         "April",
         "308.28",
         null,
         null
        ],
        [
         "Germany",
         "DogWings",
         "May",
         "154.14",
         null,
         null
        ],
        [
         "Germany",
         "DogWings",
         "June",
         "25.69",
         null,
         "569.25"
        ],
        [
         "Germany",
         "DogWings",
         "September",
         "77.07",
         "341.55",
         null
        ],
        [
         "Germany",
         "DogWings",
         "December",
         "18,570.30",
         null,
         null
        ],
        [
         "Germany",
         "Proseware",
         "January",
         null,
         null,
         "13,423.91"
        ],
        [
         "Germany",
         "Proseware",
         "February",
         "79",
         null,
         null
        ],
        [
         "Germany",
         "Proseware",
         "March",
         "79.95",
         "8,014.43",
         "2,226.00"
        ],
        [
         "Germany",
         "Proseware",
         "April",
         "299",
         null,
         "5,688.87"
        ],
        [
         "Germany",
         "Proseware",
         "May",
         "5,655.88",
         "4,738.86",
         "3,820.00"
        ],
        [
         "Germany",
         "Proseware",
         "June",
         "815.92",
         null,
         "22,000.00"
        ],
        [
         "Germany",
         "Proseware",
         "July",
         null,
         "3,489.94",
         "1,520.00"
        ],
        [
         "Germany",
         "Proseware",
         "August",
         null,
         "3,299.89",
         "8,474.89"
        ],
        [
         "Germany",
         "Proseware",
         "September",
         "2,463.00",
         "5,475.00",
         "1,170.00"
        ],
        [
         "Germany",
         "Proseware",
         "October",
         "13,568.78",
         "728",
         "2,290.00"
        ],
        [
         "Germany",
         "Proseware",
         "November",
         null,
         "443.98",
         null
        ],
        [
         "Germany",
         "Proseware",
         "December",
         "1,089.00",
         null,
         null
        ],
        [
         "Germany",
         "Vimeo",
         "January",
         "1,894.62",
         "660",
         "876"
        ],
        [
         "Germany",
         "Vimeo",
         "February",
         "1,220.10",
         "87.05",
         "3,844.85"
        ],
        [
         "Germany",
         "Vimeo",
         "March",
         "2,003.88",
         "97.02",
         "2,105.88"
        ],
        [
         "Germany",
         "Vimeo",
         "April",
         "6,538.73",
         null,
         null
        ],
        [
         "Germany",
         "Vimeo",
         "May",
         "3,242.61",
         "657",
         "598"
        ],
        [
         "Germany",
         "Vimeo",
         "June",
         "1,443.93",
         "88",
         "161.1"
        ],
        [
         "Germany",
         "Vimeo",
         "July",
         "1,553.70",
         "271.5",
         "6,563.00"
        ],
        [
         "Germany",
         "Vimeo",
         "August",
         "2,385.27",
         null,
         "960.04"
        ],
        [
         "Germany",
         "Vimeo",
         "September",
         "3,678.96",
         "987.87",
         null
        ],
        [
         "Germany",
         "Vimeo",
         "October",
         "5,296.42",
         "396",
         "124.32"
        ],
        [
         "Germany",
         "Vimeo",
         "November",
         "262.6",
         "694.56",
         null
        ],
        [
         "Germany",
         "Vimeo",
         "December",
         "741.69",
         "660.41",
         null
        ],
        [
         "Germany",
         "Children Toys",
         "January",
         "1,076.00",
         "561.04",
         "258"
        ],
        [
         "Germany",
         "Children Toys",
         "February",
         "84",
         "258",
         "480"
        ],
        [
         "Germany",
         "Children Toys",
         "March",
         "1,917.82",
         "77",
         "392"
        ],
        [
         "Germany",
         "Children Toys",
         "April",
         "96",
         "923.29",
         "389.4"
        ],
        [
         "Germany",
         "Children Toys",
         "May",
         null,
         "340",
         "1,375.00"
        ],
        [
         "Germany",
         "Children Toys",
         "June",
         null,
         null,
         "608"
        ],
        [
         "Germany",
         "Children Toys",
         "July",
         null,
         "172",
         "1,589.56"
        ],
        [
         "Germany",
         "Children Toys",
         "August",
         "90.87",
         null,
         "733.04"
        ],
        [
         "Germany",
         "Children Toys",
         "September",
         "192",
         null,
         "180.36"
        ],
        [
         "Germany",
         "Children Toys",
         "October",
         "638.4",
         "280.52",
         "1,219.43"
        ],
        [
         "Germany",
         "Children Toys",
         "December",
         "301",
         "161",
         null
        ],
        [
         "Germany",
         "Mobile Phones",
         "January",
         "1,650.00",
         "1,465.00",
         null
        ],
        [
         "Germany",
         "Mobile Phones",
         "February",
         null,
         "2,170.00",
         "3,615.00"
        ],
        [
         "Germany",
         "Mobile Phones",
         "March",
         "460",
         null,
         null
        ],
        [
         "Germany",
         "Mobile Phones",
         "April",
         null,
         null,
         "6,479.00"
        ],
        [
         "Germany",
         "Mobile Phones",
         "May",
         null,
         null,
         "2,430.00"
        ],
        [
         "Germany",
         "Mobile Phones",
         "June",
         null,
         "1,400.00",
         null
        ],
        [
         "Germany",
         "Mobile Phones",
         "July",
         null,
         null,
         "2,152.00"
        ],
        [
         "Germany",
         "Mobile Phones",
         "September",
         "2,168.00",
         "5,490.00",
         null
        ],
        [
         "Germany",
         "Mobile Phones",
         "October",
         "4,588.00",
         "924",
         "1,592.00"
        ],
        [
         "Germany",
         "Mobile Phones",
         "November",
         "4,166.00",
         "129",
         null
        ],
        [
         "Germany",
         "Mobile Phones",
         "December",
         null,
         "2,312.00",
         null
        ],
        [
         "Germany",
         "BarnesNobles",
         "January",
         "879.8",
         "23,648.70",
         "1,799.40"
        ],
        [
         "Germany",
         "BarnesNobles",
         "February",
         null,
         "4,130.80",
         "1,039.35"
        ],
        [
         "Germany",
         "BarnesNobles",
         "March",
         "1,198.00",
         null,
         "9,506.00"
        ],
        [
         "Germany",
         "BarnesNobles",
         "April",
         null,
         "4,746.00",
         "179.94"
        ],
        [
         "Germany",
         "BarnesNobles",
         "May",
         "899.7",
         null,
         "1,161.00"
        ],
        [
         "Germany",
         "BarnesNobles",
         "June",
         null,
         "179.94",
         "575"
        ],
        [
         "Germany",
         "BarnesNobles",
         "July",
         "2,429.10",
         "2,231.00",
         "13,770.00"
        ],
        [
         "Germany",
         "BarnesNobles",
         "August",
         "3,689.90",
         "2,759.88",
         "539.8"
        ],
        [
         "Germany",
         "BarnesNobles",
         "September",
         null,
         "1,145.00",
         "5,967.00"
        ],
        [
         "Germany",
         "BarnesNobles",
         "October",
         "594",
         "203.98",
         null
        ],
        [
         "Germany",
         "BarnesNobles",
         "November",
         null,
         "18,360.00",
         null
        ],
        [
         "Germany",
         "BarnesNobles",
         "December",
         "8,349.89",
         "2,529.89",
         null
        ],
        [
         "United States",
         "SequelGate",
         "January",
         "5,016.00",
         null,
         "3,492.00"
        ],
        [
         "United States",
         "SequelGate",
         "February",
         "5,794.00",
         null,
         "10,336.00"
        ],
        [
         "United States",
         "SequelGate",
         "March",
         "2,508.00",
         "188.5",
         null
        ],
        [
         "United States",
         "SequelGate",
         "April",
         "4,100.00",
         "186.9",
         "1,014.00"
        ],
        [
         "United States",
         "SequelGate",
         "May",
         "1,881.00",
         "1,386.00",
         "4,439.00"
        ],
        [
         "United States",
         "SequelGate",
         "June",
         "3,335.00",
         "495",
         "3,240.00"
        ],
        [
         "United States",
         "SequelGate",
         "July",
         "4,639.00",
         null,
         "2,983.50"
        ],
        [
         "United States",
         "SequelGate",
         "August",
         "3,762.00",
         "664",
         "2,225.00"
        ],
        [
         "United States",
         "SequelGate",
         "September",
         "13,894.00",
         "1,604.00",
         null
        ],
        [
         "United States",
         "SequelGate",
         "October",
         "2,503.00",
         null,
         null
        ],
        [
         "United States",
         "SequelGate",
         "November",
         "4,907.10",
         "3,718.00",
         null
        ],
        [
         "United States",
         "SequelGate",
         "December",
         "627",
         "627",
         null
        ],
        [
         "United States",
         "SQL School",
         "January",
         "8,459.46",
         "1,968.69",
         null
        ],
        [
         "United States",
         "SQL School",
         "February",
         "11,749.25",
         "4,049.25",
         "129"
        ],
        [
         "United States",
         "SQL School",
         "March",
         "16,598.22",
         "9,659.79",
         "2,086.00"
        ],
        [
         "United States",
         "SQL School",
         "April",
         "22,067.57",
         "2,338.00",
         "297"
        ],
        [
         "United States",
         "SQL School",
         "May",
         "9,869.37",
         null,
         null
        ],
        [
         "United States",
         "SQL School",
         "June",
         "10,757.16",
         null,
         null
        ],
        [
         "United States",
         "SQL School",
         "July",
         "9,869.37",
         "5,056.00",
         "3,550.87"
        ],
        [
         "United States",
         "SQL School",
         "August",
         "939.94",
         "1,566.00",
         "4,451.93"
        ],
        [
         "United States",
         "SQL School",
         "September",
         "3,759.76",
         "2,058.40",
         "2,670.00"
        ],
        [
         "United States",
         "SQL School",
         "October",
         null,
         null,
         "399.75"
        ],
        [
         "United States",
         "SQL School",
         "November",
         "4,699.70",
         null,
         null
        ],
        [
         "United States",
         "SQL School",
         "December",
         "19,734.89",
         "2,953.50",
         null
        ],
        [
         "United States",
         "Contoso",
         "January",
         "8,506.88",
         "605.55",
         "11,839.98"
        ],
        [
         "United States",
         "Contoso",
         "February",
         "5,629.26",
         "5,433.80",
         "17,029.47"
        ],
        [
         "United States",
         "Contoso",
         "March",
         "6,733.86",
         "8,314.54",
         "1,770.10"
        ],
        [
         "United States",
         "Contoso",
         "April",
         "17,433.79",
         "1,850.16",
         "1,714.55"
        ],
        [
         "United States",
         "Contoso",
         "May",
         "7,133.14",
         "921.35",
         "7,049.65"
        ],
        [
         "United States",
         "Contoso",
         "June",
         "5,356.89",
         "3,325.74",
         "16,701.42"
        ],
        [
         "United States",
         "Contoso",
         "July",
         "4,770.20",
         "2,634.27",
         "2,181.66"
        ],
        [
         "United States",
         "Contoso",
         "August",
         "15,159.15",
         "25,590.05",
         "4,445.18"
        ],
        [
         "United States",
         "Contoso",
         "September",
         "6,232.99",
         "3,786.22",
         "10,863.67"
        ],
        [
         "United States",
         "Contoso",
         "October",
         "18,206.65",
         "1,089.45",
         "7,950.51"
        ],
        [
         "United States",
         "Contoso",
         "November",
         "8,218.20",
         "15,254.44",
         null
        ],
        [
         "United States",
         "Contoso",
         "December",
         "42,184.42",
         "9,811.38",
         null
        ],
        [
         "United States",
         "Fabrikam  ",
         "January",
         null,
         "15,184.00",
         "4,560.00"
        ],
        [
         "United States",
         "Fabrikam  ",
         "February",
         "2,310.00",
         "3,992.00",
         null
        ],
        [
         "United States",
         "Fabrikam",
         "March",
         null,
         "6,136.00",
         "1,344.00"
        ],
        [
         "United States",
         "Fabrikam",
         "April",
         "11,882.00",
         "8,423.90",
         "1,818.85"
        ],
        [
         "United States",
         "Fabrikam",
         "May",
         "719.96",
         "26,127.80",
         "16,343.80"
        ],
        [
         "United States",
         "Fabrikam",
         "June",
         "12,910.36",
         "4,338.00",
         "2,531.00"
        ],
        [
         "United States",
         "Fabrikam",
         "July",
         "1,169.91",
         null,
         "799.92"
        ],
        [
         "United States",
         "Fabrikam",
         "August",
         null,
         "15,133.00",
         "4,914.00"
        ],
        [
         "United States",
         "Fabrikam",
         "September",
         "4,930.00",
         "29,011.00",
         "4,264.00"
        ],
        [
         "United States",
         "Fabrikam",
         "October",
         "7,704.00",
         "3,135.00",
         "2,324.00"
        ],
        [
         "United States",
         "Fabrikam  ",
         "November",
         "3,038.00",
         "17,404.60",
         null
        ],
        [
         "United States",
         "Fabrikam  ",
         "December",
         "11,872.00",
         null,
         null
        ],
        [
         "United States",
         "Litware",
         "January",
         null,
         null,
         "6,293.00"
        ],
        [
         "United States",
         "Litware",
         "February",
         null,
         null,
         "1,689.87"
        ],
        [
         "United States",
         "Litware",
         "March",
         "180",
         "449.9",
         "12,692.95"
        ],
        [
         "United States",
         "Litware",
         "April",
         null,
         "23,715.00",
         "13,986.00"
        ],
        [
         "United States",
         "Litware",
         "May",
         "7,054.98",
         "9,659.91",
         "8,267.47"
        ],
        [
         "United States",
         "Litware",
         "June",
         null,
         "1,399.93",
         "1,073.90"
        ],
        [
         "United States",
         "Litware",
         "July",
         "1,829.89",
         "1,867.91",
         "1,676.44"
        ],
        [
         "United States",
         "Litware",
         "August",
         "1,439.92",
         "38,807.84",
         "139.86"
        ],
        [
         "United States",
         "Litware",
         "September",
         "1,439.92",
         "24,373.99",
         "4,183.72"
        ],
        [
         "United States",
         "Litware",
         "October",
         null,
         "10,733.80",
         null
        ],
        [
         "United States",
         "Litware",
         "November",
         "19,229.82",
         "9,065.85",
         null
        ],
        [
         "United States",
         "Litware",
         "December",
         "4,199.85",
         "2,359.30",
         null
        ],
        [
         "United States",
         "DogWings",
         "January",
         "102.76",
         null,
         "243.3"
        ],
        [
         "United States",
         "DogWings",
         "February",
         "77.07",
         null,
         "99.99"
        ],
        [
         "United States",
         "DogWings",
         "March",
         "154.14",
         null,
         null
        ],
        [
         "United States",
         "DogWings",
         "April",
         "128.45",
         null,
         "623.35"
        ],
        [
         "United States",
         "DogWings",
         "June",
         "128.45",
         null,
         null
        ],
        [
         "United States",
         "DogWings",
         "July",
         "27,360.57",
         "10,913.40",
         "527.45"
        ],
        [
         "United States",
         "DogWings",
         "September",
         "102.76",
         "287.7",
         "12,732.30"
        ],
        [
         "United States",
         "DogWings",
         "October",
         "205.52",
         null,
         null
        ],
        [
         "United States",
         "DogWings",
         "November",
         "21,826.80",
         null,
         null
        ],
        [
         "United States",
         "DogWings",
         "December",
         "102.76",
         null,
         null
        ],
        [
         "United States",
         "Proseware",
         "January",
         null,
         null,
         "596"
        ],
        [
         "United States",
         "Proseware",
         "February",
         null,
         null,
         "3,669.97"
        ],
        [
         "United States",
         "Proseware",
         "March",
         "980",
         "390",
         null
        ],
        [
         "United States",
         "Proseware",
         "April",
         "872",
         "6,589.00",
         "6,432.80"
        ],
        [
         "United States",
         "Proseware",
         "May",
         "136",
         "9,976.00",
         "1,199.96"
        ],
        [
         "United States",
         "Proseware",
         "June",
         "1,832.00",
         "973",
         null
        ],
        [
         "United States",
         "Proseware",
         "July",
         null,
         "3,895.00",
         "4,799.88"
        ],
        [
         "United States",
         "Proseware",
         "August",
         "1,807.00",
         "3,331.00",
         "11,375.46"
        ],
        [
         "United States",
         "Proseware",
         "September",
         "21,903.00",
         "9,739.84",
         "2,219.00"
        ],
        [
         "United States",
         "Proseware",
         "October",
         "489",
         "1,818.00",
         "2,579.94"
        ],
        [
         "United States",
         "Proseware",
         "November",
         "645",
         "1,692.00",
         null
        ],
        [
         "United States",
         "Proseware",
         "December",
         "7,528.88",
         "3,242.00",
         null
        ],
        [
         "United States",
         "Vimeo",
         "January",
         "3,377.10",
         "59.29",
         null
        ],
        [
         "United States",
         "Vimeo",
         "February",
         "6,502.75",
         "479.97",
         "792"
        ],
        [
         "United States",
         "Vimeo",
         "March",
         "6,143.27",
         "598",
         null
        ],
        [
         "United States",
         "Vimeo",
         "April",
         "2,896.17",
         "1,817.11",
         "4,675.00"
        ],
        [
         "United States",
         "Vimeo",
         "May",
         "4,897.73",
         "4,841.85",
         "1,838.50"
        ],
        [
         "United States",
         "Vimeo",
         "June",
         "3,276.68",
         null,
         null
        ],
        [
         "United States",
         "Vimeo",
         "July",
         "2,849.09",
         "625.95",
         "3,169.99"
        ],
        [
         "United States",
         "Vimeo",
         "August",
         "4,148.15",
         "332.71",
         "96.32"
        ],
        [
         "United States",
         "Vimeo",
         "September",
         "1,395.90",
         "4,718.87",
         "10,774.90"
        ],
        [
         "United States",
         "Vimeo",
         "October",
         "318.9",
         "2,628.00",
         "113.94"
        ],
        [
         "United States",
         "Vimeo",
         "November",
         "2,047.39",
         "2,710.75",
         null
        ],
        [
         "United States",
         "Vimeo",
         "December",
         "4,038.72",
         "311.8",
         null
        ],
        [
         "United States",
         "Children Toys",
         "January",
         "519.87",
         "307.9",
         "491"
        ],
        [
         "United States",
         "Children Toys",
         "February",
         null,
         null,
         "499.86"
        ],
        [
         "United States",
         "Children Toys",
         "March",
         null,
         "663.83",
         null
        ],
        [
         "United States",
         "Children Toys",
         "April",
         null,
         "702.5",
         null
        ],
        [
         "United States",
         "Children Toys",
         "May",
         "297.21",
         null,
         null
        ],
        [
         "United States",
         "Children Toys",
         "June",
         "267",
         "435.85",
         "454"
        ],
        [
         "United States",
         "Children Toys",
         "July",
         "258",
         "280.52",
         "792.87"
        ],
        [
         "United States",
         "Children Toys",
         "August",
         "359.57",
         "74.85",
         null
        ],
        [
         "United States",
         "Children Toys",
         "September",
         "430",
         null,
         null
        ],
        [
         "United States",
         "Children Toys",
         "October",
         "834.91",
         null,
         null
        ],
        [
         "United States",
         "Children Toys",
         "November",
         "86",
         "619.08",
         null
        ],
        [
         "United States",
         "Children Toys",
         "December",
         "927.56",
         "56",
         null
        ],
        [
         "United States",
         "Mobile Phones",
         "January",
         "510",
         null,
         null
        ],
        [
         "United States",
         "Mobile Phones",
         "February",
         null,
         null,
         "1,345.00"
        ],
        [
         "United States",
         "Mobile Phones",
         "April",
         "1,812.00",
         null,
         null
        ],
        [
         "United States",
         "Mobile Phones",
         "May",
         "3,890.00",
         "7,068.00",
         "6,284.00"
        ],
        [
         "United States",
         "Mobile Phones",
         "June",
         "6,686.00",
         null,
         null
        ],
        [
         "United States",
         "Mobile Phones",
         "July",
         null,
         "2,680.00",
         "1,602.00"
        ],
        [
         "United States",
         "Mobile Phones",
         "August",
         null,
         "5,017.00",
         null
        ],
        [
         "United States",
         "Mobile Phones",
         "September",
         "1,161.00",
         null,
         "1,160.00"
        ],
        [
         "United States",
         "Mobile Phones",
         "November",
         null,
         "7,069.00",
         null
        ],
        [
         "United States",
         "BarnesNobles",
         "January",
         null,
         null,
         "4,451.93"
        ],
        [
         "United States",
         "BarnesNobles",
         "February",
         "2,299.00",
         "10,971.90",
         null
        ],
        [
         "United States",
         "BarnesNobles",
         "March",
         "4,771.00",
         "5,065.60",
         null
        ],
        [
         "United States",
         "BarnesNobles",
         "April",
         null,
         "6,329.86",
         "6,314.00"
        ],
        [
         "United States",
         "BarnesNobles",
         "May",
         "2,748.00",
         "3,887.00",
         null
        ],
        [
         "United States",
         "BarnesNobles",
         "June",
         null,
         "3,012.00",
         "5,008.20"
        ],
        [
         "United States",
         "BarnesNobles",
         "July",
         "1,289.57",
         "9,828.00",
         "2,875.86"
        ],
        [
         "United States",
         "BarnesNobles",
         "August",
         "319.8",
         "17,169.15",
         null
        ],
        [
         "United States",
         "BarnesNobles",
         "September",
         "2,199.45",
         null,
         "599.8"
        ],
        [
         "United States",
         "BarnesNobles",
         "October",
         "471.8",
         null,
         "11,985.00"
        ],
        [
         "United States",
         "BarnesNobles",
         "November",
         null,
         "727.25",
         null
        ],
        [
         "United States",
         "BarnesNobles",
         "December",
         null,
         "3,818.75",
         null
        ],
        [
         "United States",
         "BarnesNobles",
         "November",
         null,
         "727.25",
         "10,788.00"
        ],
        [
         "United States",
         "BarnesNobles",
         "December",
         null,
         "3,818.75",
         null
        ]
       ],
       "datasetInfos": [],
       "dbfsResultPath": null,
       "isJsonSchema": true,
       "metadata": {},
       "overflow": false,
       "plotOptions": {
        "customPlotOptions": {},
        "displayType": "table",
        "pivotAggregation": null,
        "pivotColumns": null,
        "xColumns": null,
        "yColumns": null
       },
       "removedWidgets": [],
       "schema": [
        {
         "metadata": "{}",
         "name": "_c0",
         "type": "\"string\""
        },
        {
         "metadata": "{}",
         "name": "_c1",
         "type": "\"string\""
        },
        {
         "metadata": "{}",
         "name": "_c2",
         "type": "\"string\""
        },
        {
         "metadata": "{}",
         "name": "_c3",
         "type": "\"string\""
        },
        {
         "metadata": "{}",
         "name": "_c4",
         "type": "\"string\""
        },
        {
         "metadata": "{}",
         "name": "_c5",
         "type": "\"string\""
        }
       ],
       "type": "table"
      }
     },
     "output_type": "display_data"
    }
   ],
   "source": [
    "# File location and type\n",
    "file_location = \"/FileStore/tables/SalesData.csv\"\n",
    "file_type = \"csv\"\n",
    "\n",
    "# CSV options\n",
    "infer_schema = \"false\"\n",
    "first_row_is_header = \"false\"\n",
    "delimiter = \",\"\n",
    "\n",
    "\n",
    "df = spark.read.format(file_type) \\\n",
    "  .option(\"inferSchema\", infer_schema) \\\n",
    "  .option(\"header\", first_row_is_header) \\\n",
    "  .option(\"sep\", delimiter) \\\n",
    "  .load(file_location)\n",
    "\n",
    "display(df)"
   ]
  },
  {
   "cell_type": "code",
   "execution_count": null,
   "metadata": {
    "application/vnd.databricks.v1+cell": {
     "cellMetadata": {
      "byteLimit": 2048000,
      "rowLimit": 10000
     },
     "inputWidgets": {},
     "nuid": "bd82bb99-1479-4d5c-be10-8c36df0f1d44",
     "showTitle": false,
     "title": ""
    }
   },
   "outputs": [],
   "source": [
    "# Create a view or table\n",
    "\n",
    "temp_table_name = \"SalesData\"\n",
    "\n",
    "df.createOrReplaceTempView(temp_table_name)"
   ]
  },
  {
   "cell_type": "code",
   "execution_count": null,
   "metadata": {
    "application/vnd.databricks.v1+cell": {
     "cellMetadata": {
      "byteLimit": 2048000,
      "implicitDf": true,
      "rowLimit": 10000
     },
     "inputWidgets": {},
     "nuid": "b5f66379-6f7f-42ec-8e82-d0e0926a1721",
     "showTitle": false,
     "title": ""
    }
   },
   "outputs": [
    {
     "data": {
      "text/html": [
       "<style scoped>\n",
       "  .table-result-container {\n",
       "    max-height: 300px;\n",
       "    overflow: auto;\n",
       "  }\n",
       "  table, th, td {\n",
       "    border: 1px solid black;\n",
       "    border-collapse: collapse;\n",
       "  }\n",
       "  th, td {\n",
       "    padding: 5px;\n",
       "  }\n",
       "  th {\n",
       "    text-align: left;\n",
       "  }\n",
       "</style><div class='table-result-container'><table class='table-result'><thead style='background-color: white'><tr><th>_c0</th><th>_c1</th><th>_c2</th><th>_c3</th><th>_c4</th><th>_c5</th></tr></thead><tbody><tr><td>Country</td><td>Company</td><td>Month</td><td>Sale2018</td><td>Sale2019</td><td>Sale2020</td></tr><tr><td>India</td><td>SequelGate</td><td>January</td><td>3,234.00</td><td>null</td><td>1,935.00</td></tr><tr><td>India</td><td>SequelGate</td><td>February</td><td>6,270.00</td><td>7,059.00</td><td>12,418.26</td></tr><tr><td>India</td><td>SequelGate</td><td>March</td><td>4,352.00</td><td>16,638.85</td><td>31,770.26</td></tr><tr><td>India</td><td>SequelGate</td><td>April</td><td>3,814.00</td><td>11,864.76</td><td>8,785.89</td></tr><tr><td>India</td><td>SequelGate</td><td>May</td><td>6,234.00</td><td>2,819.82</td><td>119.99</td></tr><tr><td>India</td><td>SequelGate</td><td>June</td><td>5,571.00</td><td>3,216.00</td><td>2,819.82</td></tr><tr><td>India</td><td>SequelGate</td><td>July</td><td>7,424.00</td><td>null</td><td>6,881.00</td></tr><tr><td>India</td><td>SequelGate</td><td>August</td><td>null</td><td>null</td><td>800</td></tr><tr><td>India</td><td>SequelGate</td><td>September</td><td>1,254.00</td><td>1,617.00</td><td>396</td></tr><tr><td>India</td><td>SequelGate</td><td>October</td><td>1,881.00</td><td>3,042.00</td><td>936</td></tr><tr><td>India</td><td>SequelGate</td><td>November</td><td>null</td><td>3,653.00</td><td>7,001.78</td></tr><tr><td>India</td><td>SequelGate</td><td>December</td><td>6,135.00</td><td>2,810.00</td><td>8,785.89</td></tr><tr><td>India</td><td>SQL School</td><td>January</td><td>12,418.26</td><td>5,735.48</td><td>1,559.87</td></tr><tr><td>India</td><td>SQL School</td><td>February</td><td>31,770.26</td><td>null</td><td>2,937.90</td></tr><tr><td>India</td><td>SQL School</td><td>March</td><td>3,689.85</td><td>5,489.23</td><td>11,163.94</td></tr><tr><td>India</td><td>SQL School</td><td>April</td><td>499.9</td><td>9,087.00</td><td>2,298.70</td></tr><tr><td>India</td><td>SQL School</td><td>May</td><td>null</td><td>9,203.92</td><td>null</td></tr><tr><td>India</td><td>SQL School</td><td>June</td><td>15,790.00</td><td>119.99</td><td>1,948.50</td></tr><tr><td>India</td><td>SQL School</td><td>July</td><td>9,938.12</td><td>2,819.82</td><td>null</td></tr><tr><td>India</td><td>SQL School</td><td>August</td><td>14,035.71</td><td>6,881.00</td><td>12,775.40</td></tr><tr><td>India</td><td>SQL School</td><td>September</td><td>16,638.85</td><td>null</td><td>null</td></tr><tr><td>India</td><td>SQL School</td><td>October</td><td>11,864.76</td><td>null</td><td>2,085.00</td></tr><tr><td>India</td><td>SQL School</td><td>November</td><td>2,819.82</td><td>959.92</td><td>null</td></tr><tr><td>India</td><td>SQL School</td><td>December</td><td>null</td><td>16,694.07</td><td>null</td></tr><tr><td>India</td><td>Contoso</td><td>January</td><td>1,271.55</td><td>3,236.31</td><td>9,945.86</td></tr><tr><td>India</td><td>Contoso</td><td>February</td><td>7,372.34</td><td>5,995.55</td><td>1,303.01</td></tr><tr><td>India</td><td>Contoso</td><td>March</td><td>11,364.07</td><td>2,767.32</td><td>3,437.26</td></tr><tr><td>India</td><td>Contoso</td><td>April</td><td>13,590.94</td><td>17,530.47</td><td>25,007.74</td></tr><tr><td>India</td><td>Contoso</td><td>May</td><td>11,780.08</td><td>13,501.47</td><td>5,270.05</td></tr><tr><td>India</td><td>Contoso</td><td>June</td><td>8,562.00</td><td>8,338.87</td><td>7,357.26</td></tr><tr><td>India</td><td>Contoso</td><td>July</td><td>7,001.78</td><td>13,874.09</td><td>31,571.42</td></tr><tr><td>India</td><td>Contoso</td><td>August</td><td>605.89</td><td>3,340.02</td><td>1,386.20</td></tr><tr><td>India</td><td>Contoso</td><td>September</td><td>3,958.70</td><td>1,709.68</td><td>2,224.36</td></tr><tr><td>India</td><td>Contoso</td><td>October</td><td>8,785.89</td><td>5,787.57</td><td>10,792.05</td></tr><tr><td>India</td><td>Contoso</td><td>November</td><td>7,631.64</td><td>2,412.91</td><td>3,340.02</td></tr><tr><td>India</td><td>Contoso</td><td>December</td><td>21,968.86</td><td>5,657.70</td><td>1,709.68</td></tr><tr><td>India</td><td>Fabrikam</td><td>January</td><td>5,794.38</td><td>9,244.97</td><td>5,787.57</td></tr><tr><td>India</td><td>Fabrikam  </td><td>February</td><td>null</td><td>6,230.00</td><td>null</td></tr><tr><td>India</td><td>Fabrikam</td><td>March</td><td>3,415.96</td><td>1,044.89</td><td>null</td></tr><tr><td>India</td><td>Fabrikam</td><td>April</td><td>null</td><td>null</td><td>5,155.78</td></tr><tr><td>India</td><td>Fabrikam  </td><td>May</td><td>3,657.95</td><td>2,954.00</td><td>20,177.94</td></tr><tr><td>India</td><td>Fabrikam</td><td>June</td><td>2,820.00</td><td>28,407.99</td><td>6,223.31</td></tr><tr><td>India</td><td>Fabrikam</td><td>July</td><td>null</td><td>1,439.92</td><td>12,530.60</td></tr><tr><td>India</td><td>Fabrikam</td><td>August</td><td>7,113.00</td><td>null</td><td>2,640.00</td></tr><tr><td>India</td><td>Fabrikam  </td><td>September</td><td>5,901.93</td><td>4,367.60</td><td>20,600.00</td></tr><tr><td>India</td><td>Fabrikam</td><td>October</td><td>2,396.06</td><td>9,597.93</td><td>29,305.77</td></tr><tr><td>India</td><td>Fabrikam</td><td>November</td><td>9,477.60</td><td>14,941.87</td><td>null</td></tr><tr><td>India</td><td>Fabrikam  </td><td>December</td><td>15,499.94</td><td>12,740.00</td><td>null</td></tr><tr><td>India</td><td>Litware</td><td>January</td><td>null</td><td>2,209.73</td><td>null</td></tr><tr><td>India</td><td>Litware</td><td>February</td><td>null</td><td>2,465.00</td><td>1,679.88</td></tr><tr><td>India</td><td>Litware</td><td>March</td><td>4.99</td><td>7,956.00</td><td>11,000.00</td></tr><tr><td>India</td><td>Litware</td><td>April</td><td>599.9</td><td>null</td><td>null</td></tr><tr><td>India</td><td>Litware </td><td>May</td><td>null</td><td>11,186.00</td><td>2,087.73</td></tr><tr><td>India</td><td>Litware</td><td>June</td><td>null</td><td>2,400.00</td><td>1,331.88</td></tr><tr><td>India</td><td>Litware</td><td>July</td><td>7,579.00</td><td>2,303.85</td><td>28,488.15</td></tr><tr><td>India</td><td>Litware</td><td>August</td><td>3,340.02</td><td>25,599.92</td><td>12,619.43</td></tr><tr><td>India</td><td>Litware</td><td>September</td><td>1,709.68</td><td>591.92</td><td>89.97</td></tr><tr><td>India</td><td>Litware</td><td>October</td><td>5,787.57</td><td>5,525.81</td><td>6,205.48</td></tr><tr><td>India</td><td>Litware</td><td>November</td><td>null</td><td>3,451.00</td><td>null</td></tr><tr><td>India</td><td>Litware</td><td>December</td><td>1,199.96</td><td>11,164.00</td><td>null</td></tr><tr><td>India</td><td>DogWings</td><td>January</td><td>34,616.15</td><td>359.66</td><td>null</td></tr><tr><td>India</td><td>DogWings</td><td>February</td><td>51.38</td><td>null</td><td>95.9</td></tr><tr><td>India</td><td>DogWings</td><td>March</td><td>7,999.50</td><td>null</td><td>null</td></tr><tr><td>India</td><td>DogWings</td><td>April</td><td>null</td><td>12,732.30</td><td>null</td></tr><tr><td>India</td><td>DogWings</td><td>May</td><td>25,598.40</td><td>3,340.02</td><td>null</td></tr><tr><td>India</td><td>DogWings</td><td>July</td><td>51.38</td><td>1,709.68</td><td>359.66</td></tr><tr><td>India</td><td>DogWings</td><td>August</td><td>154.14</td><td>5,787.57</td><td>null</td></tr><tr><td>India</td><td>DogWings</td><td>September</td><td>25.69</td><td>null</td><td>569.25</td></tr><tr><td>India</td><td>DogWings</td><td>December</td><td>51.38</td><td>null</td><td>3,340.02</td></tr><tr><td>India</td><td>Proseware</td><td>January</td><td>null</td><td>735</td><td>1,709.68</td></tr><tr><td>India</td><td>Proseware</td><td>February</td><td>2,847.00</td><td>4,509.99</td><td>5,787.57</td></tr><tr><td>India</td><td>Proseware</td><td>March</td><td>4,489.89</td><td>3,347.88</td><td>1,325.87</td></tr><tr><td>India</td><td>Proseware</td><td>April</td><td>719</td><td>10,447.77</td><td>5,104.93</td></tr><tr><td>India</td><td>Proseware</td><td>May</td><td>null</td><td>1,749.00</td><td>null</td></tr><tr><td>India</td><td>Proseware</td><td>June</td><td>952</td><td>3,555.00</td><td>6,903.91</td></tr><tr><td>India</td><td>Proseware</td><td>July</td><td>null</td><td>1,029.00</td><td>1,149.90</td></tr><tr><td>India</td><td>Proseware</td><td>August</td><td>1,399.93</td><td>null</td><td>1,831.50</td></tr><tr><td>India</td><td>Proseware</td><td>September</td><td>37,923.00</td><td>1,908.00</td><td>1,548.00</td></tr><tr><td>India</td><td>Proseware</td><td>October</td><td>null</td><td>null</td><td>959.92</td></tr><tr><td>India</td><td>Proseware</td><td>November</td><td>null</td><td>1,399.93</td><td>11,000.00</td></tr><tr><td>India</td><td>Proseware</td><td>December</td><td>12,987.00</td><td>599.98</td><td>null</td></tr><tr><td>India</td><td>Vimeo</td><td>January</td><td>2,255.94</td><td>4,683.56</td><td>4,858.80</td></tr><tr><td>India</td><td>Vimeo</td><td>February</td><td>1,775.85</td><td>632</td><td>141.84</td></tr><tr><td>India</td><td>Vimeo</td><td>March</td><td>980.4</td><td>null</td><td>null</td></tr><tr><td>India</td><td>Vimeo</td><td>April</td><td>75.99</td><td>388.49</td><td>null</td></tr><tr><td>India</td><td>Vimeo</td><td>May</td><td>41.73</td><td>1.9</td><td>1,485.00</td></tr><tr><td>India</td><td>Vimeo</td><td>June</td><td>10,280.89</td><td>1,461.46</td><td>null</td></tr><tr><td>India</td><td>Vimeo</td><td>July</td><td>4,226.88</td><td>2,625.00</td><td>11,376.00</td></tr><tr><td>India</td><td>Vimeo</td><td>August</td><td>13,740.38</td><td>1,035.90</td><td>5,687.94</td></tr><tr><td>India</td><td>Vimeo</td><td>September</td><td>632.79</td><td>3,510.00</td><td>199</td></tr><tr><td>India</td><td>Vimeo</td><td>October</td><td>1,084.10</td><td>null</td><td>1,481.74</td></tr><tr><td>India</td><td>Vimeo</td><td>November</td><td>1,439.64</td><td>null</td><td>null</td></tr><tr><td>India</td><td>Vimeo</td><td>December</td><td>753.69</td><td>9,817.96</td><td>null</td></tr><tr><td>India</td><td>Children Toys</td><td>January</td><td>null</td><td>null</td><td>698</td></tr><tr><td>India</td><td>Children Toys</td><td>February</td><td>71.92</td><td>null</td><td>1,303.53</td></tr><tr><td>India</td><td>Children Toys</td><td>March</td><td>310</td><td>288</td><td>null</td></tr><tr><td>India</td><td>Children Toys</td><td>April</td><td>104.85</td><td>172</td><td>752.9</td></tr><tr><td>India</td><td>Children Toys</td><td>May</td><td>214</td><td>436</td><td>69.86</td></tr><tr><td>India</td><td>Children Toys</td><td>June</td><td>62.93</td><td>644.78</td><td>1,777.87</td></tr><tr><td>India</td><td>Children Toys</td><td>July</td><td>86</td><td>813</td><td>731.12</td></tr><tr><td>India</td><td>Children Toys</td><td>August</td><td>272.89</td><td>null</td><td>3,510.00</td></tr><tr><td>India</td><td>Children Toys</td><td>September</td><td>219.57</td><td>null</td><td>1,114.00</td></tr><tr><td>India</td><td>Children Toys</td><td>October</td><td>null</td><td>458</td><td>743.87</td></tr><tr><td>India</td><td>Children Toys</td><td>November</td><td>140</td><td>null</td><td>3,340.02</td></tr><tr><td>India</td><td>Children Toys</td><td>December</td><td>225.23</td><td>null</td><td>1,709.68</td></tr><tr><td>India</td><td>Mobile Phones</td><td>January</td><td>null</td><td>3,296.00</td><td>5,787.57</td></tr><tr><td>India</td><td>Mobile Phones</td><td>February</td><td>2,408.00</td><td>null</td><td>null</td></tr><tr><td>India</td><td>Mobile Phones</td><td>March</td><td>690</td><td>null</td><td>null</td></tr><tr><td>India</td><td>Mobile Phones</td><td>April</td><td>null</td><td>null</td><td>7,862.00</td></tr><tr><td>India</td><td>Mobile Phones</td><td>May</td><td>1,960.00</td><td>560</td><td>2,300.00</td></tr><tr><td>India</td><td>Mobile Phones</td><td>June</td><td>1,340.00</td><td>7,596.00</td><td>714</td></tr><tr><td>India</td><td>Mobile Phones</td><td>July</td><td>null</td><td>3,600.00</td><td>null</td></tr><tr><td>India</td><td>Mobile Phones</td><td>August</td><td>null</td><td>null</td><td>7,013.00</td></tr><tr><td>India</td><td>Mobile Phones</td><td>September</td><td>1,980.00</td><td>2,890.00</td><td>7,371.00</td></tr><tr><td>India</td><td>Mobile Phones</td><td>October</td><td>2,384.00</td><td>3,510.00</td><td>null</td></tr><tr><td>India</td><td>Mobile Phones</td><td>November</td><td>4,046.00</td><td>2,400.00</td><td>null</td></tr><tr><td>India</td><td>Mobile Phones</td><td>December</td><td>null</td><td>9,391.00</td><td>null</td></tr><tr><td>India</td><td>BarnesNobles</td><td>February</td><td>459.8</td><td>null</td><td>4,413.35</td></tr><tr><td>India</td><td>BarnesNobles</td><td>March</td><td>null</td><td>3,127.70</td><td>3,012.00</td></tr><tr><td>India</td><td>BarnesNobles</td><td>April</td><td>11,182.00</td><td>null</td><td>9,264.89</td></tr><tr><td>India</td><td>BarnesNobles</td><td>May</td><td>null</td><td>765.9</td><td>1,199.25</td></tr><tr><td>India</td><td>BarnesNobles</td><td>June</td><td>3,238.80</td><td>18,576.50</td><td>6,269.67</td></tr><tr><td>India</td><td>BarnesNobles</td><td>July</td><td>2,199.50</td><td>9,493.05</td><td>3,784.00</td></tr><tr><td>India</td><td>BarnesNobles</td><td>August</td><td>4,537.00</td><td>null</td><td>101.99</td></tr><tr><td>India</td><td>BarnesNobles</td><td>September</td><td>59.98</td><td>1,342.50</td><td>null</td></tr><tr><td>India</td><td>BarnesNobles</td><td>October</td><td>null</td><td>4,407.00</td><td>7,545.97</td></tr><tr><td>India</td><td>BarnesNobles</td><td>November</td><td>5,049.96</td><td>10,647.00</td><td>null</td></tr><tr><td>Germany</td><td>SequelGate</td><td>January</td><td>6,270.00</td><td>null</td><td>null</td></tr><tr><td>Germany</td><td>SequelGate</td><td>February</td><td>11,790.00</td><td>null</td><td>2,072.00</td></tr><tr><td>Germany</td><td>SequelGate</td><td>March</td><td>5,016.00</td><td>3,215.00</td><td>8,151.00</td></tr><tr><td>Germany</td><td>SequelGate</td><td>April</td><td>6,835.50</td><td>2,310.00</td><td>594</td></tr><tr><td>Germany</td><td>SequelGate</td><td>May</td><td>10,520.50</td><td>3,325.50</td><td>null</td></tr><tr><td>Germany</td><td>SequelGate</td><td>June</td><td>7,056.00</td><td>null</td><td>1,504.00</td></tr><tr><td>Germany</td><td>SequelGate</td><td>July</td><td>8,778.00</td><td>1,800.00</td><td>null</td></tr><tr><td>Germany</td><td>SequelGate</td><td>August</td><td>1,848.00</td><td>null</td><td>1,560.00</td></tr><tr><td>Germany</td><td>SequelGate</td><td>September</td><td>3,762.00</td><td>3,072.30</td><td>null</td></tr><tr><td>Germany</td><td>SequelGate</td><td>October</td><td>5,724.00</td><td>null</td><td>373.8</td></tr><tr><td>Germany</td><td>SequelGate</td><td>November</td><td>2,838.00</td><td>3,312.00</td><td>null</td></tr><tr><td>Germany</td><td>SequelGate</td><td>December</td><td>2,829.20</td><td>1,740.00</td><td>3,510.00</td></tr><tr><td>Germany</td><td>SQL School</td><td>January</td><td>6,249.47</td><td>null</td><td>719.55</td></tr><tr><td>Germany</td><td>SQL School</td><td>February</td><td>8,711.52</td><td>2,934.00</td><td>1,780.00</td></tr><tr><td>Germany</td><td>SQL School</td><td>March</td><td>22,928.18</td><td>null</td><td>559.65</td></tr><tr><td>Germany</td><td>SQL School</td><td>April</td><td>6,609.51</td><td>269.91</td><td>null</td></tr><tr><td>Germany</td><td>SQL School</td><td>May</td><td>3,289.79</td><td>2,583.00</td><td>7,461.79</td></tr><tr><td>Germany</td><td>SQL School</td><td>June</td><td>2,349.85</td><td>null</td><td>2,327.00</td></tr><tr><td>Germany</td><td>SQL School</td><td>July</td><td>4,229.73</td><td>5,592.00</td><td>1,439.88</td></tr><tr><td>Germany</td><td>SQL School</td><td>August</td><td>5,579.48</td><td>null</td><td>3,340.02</td></tr><tr><td>Germany</td><td>SQL School</td><td>September</td><td>6,769.61</td><td>599.98</td><td>1,709.68</td></tr><tr><td>Germany</td><td>SQL School</td><td>October</td><td>2,943.85</td><td>4,794.79</td><td>5,787.57</td></tr><tr><td>Germany</td><td>SQL School</td><td>November</td><td>3,623.91</td><td>null</td><td>null</td></tr><tr><td>Germany</td><td>SQL School</td><td>December</td><td>2,879.12</td><td>1,268.97</td><td>null</td></tr><tr><td>Germany</td><td>Contoso</td><td>January</td><td>8,172.92</td><td>93.78</td><td>6,800.52</td></tr><tr><td>Germany</td><td>Contoso</td><td>February</td><td>4,672.77</td><td>7,585.29</td><td>1,707.56</td></tr><tr><td>Germany</td><td>Contoso</td><td>March</td><td>12,430.38</td><td>2,683.39</td><td>5,318.82</td></tr><tr><td>Germany</td><td>Contoso</td><td>April</td><td>9,626.06</td><td>241.77</td><td>3,324.75</td></tr><tr><td>Germany</td><td>Contoso</td><td>May</td><td>11,868.03</td><td>5,273.61</td><td>1,462.52</td></tr><tr><td>Germany</td><td>Contoso</td><td>June</td><td>2,743.85</td><td>373.52</td><td>3,598.86</td></tr><tr><td>Germany</td><td>Contoso</td><td>July</td><td>28,791.79</td><td>2,150.36</td><td>862.27</td></tr><tr><td>Germany</td><td>Contoso</td><td>August</td><td>7,739.76</td><td>613.29</td><td>19,234.36</td></tr><tr><td>Germany</td><td>Contoso</td><td>September</td><td>13,894.28</td><td>9,406.25</td><td>5,011.40</td></tr><tr><td>Germany</td><td>Contoso</td><td>October</td><td>12,675.45</td><td>2,699.85</td><td>1,815.87</td></tr><tr><td>Germany</td><td>Contoso</td><td>November</td><td>16,987.67</td><td>6,745.82</td><td>null</td></tr><tr><td>Germany</td><td>Contoso</td><td>December</td><td>3,469.89</td><td>3,085.07</td><td>null</td></tr><tr><td>Germany</td><td>Fabrikam</td><td>January</td><td>null</td><td>1,415.20</td><td>129.99</td></tr><tr><td>Germany</td><td>Fabrikam</td><td>February</td><td>3,573.93</td><td>null</td><td>3,249.00</td></tr><tr><td>Germany</td><td>Fabrikam</td><td>March</td><td>3,032.00</td><td>2,670.00</td><td>null</td></tr><tr><td>Germany</td><td>Fabrikam  </td><td>April</td><td>2,279.97</td><td>16,050.00</td><td>6,392.00</td></tr><tr><td>Germany</td><td>Fabrikam</td><td>May</td><td>2,447.92</td><td>1,109.91</td><td>37,495.89</td></tr><tr><td>Germany</td><td>Fabrikam  </td><td>June</td><td>18,966.80</td><td>null</td><td>null</td></tr><tr><td>Germany</td><td>Fabrikam  </td><td>July</td><td>6,100.00</td><td>null</td><td>3,817.60</td></tr><tr><td>Germany</td><td>Fabrikam</td><td>August</td><td>129.99</td><td>632</td><td>980</td></tr><tr><td>Germany</td><td>Fabrikam  </td><td>September</td><td>5,859.00</td><td>199.99</td><td>null</td></tr><tr><td>Germany</td><td>Fabrikam</td><td>October</td><td>99.99</td><td>null</td><td>null</td></tr><tr><td>Germany</td><td>Fabrikam  </td><td>November</td><td>5,660.00</td><td>5,059.89</td><td>null</td></tr><tr><td>Germany</td><td>Fabrikam</td><td>December</td><td>1,799.94</td><td>null</td><td>null</td></tr><tr><td>Germany</td><td>Litware</td><td>January</td><td>5,327.52</td><td>39.92</td><td>7,631.88</td></tr><tr><td>Germany</td><td>Litware</td><td>February</td><td>369.95</td><td>null</td><td>134.91</td></tr><tr><td>Germany</td><td>Litware</td><td>March</td><td>8,742.72</td><td>59.94</td><td>13,786.73</td></tr><tr><td>Germany</td><td>Litware</td><td>April</td><td>5,497.81</td><td>1,013.85</td><td>949.9</td></tr><tr><td>Germany</td><td>Litware</td><td>May</td><td>2,169.91</td><td>8,950.67</td><td>29,579.85</td></tr><tr><td>Germany</td><td>Litware </td><td>June</td><td>null</td><td>6,683.89</td><td>3,859.33</td></tr><tr><td>Germany</td><td>Litware</td><td>July</td><td>359.98</td><td>4,339.77</td><td>1,434.66</td></tr><tr><td>Germany</td><td>Litware </td><td>August</td><td>1,184.94</td><td>1,079.60</td><td>null</td></tr><tr><td>Germany</td><td>Litware</td><td>September</td><td>null</td><td>6,175.39</td><td>809.91</td></tr><tr><td>Germany</td><td>Litware</td><td>October</td><td>699.93</td><td>3,518.78</td><td>404.85</td></tr><tr><td>Germany</td><td>Litware</td><td>November</td><td>22,399.93</td><td>null</td><td>null</td></tr><tr><td>Germany</td><td>Litware</td><td>December</td><td>5,274.57</td><td>null</td><td>null</td></tr><tr><td>Germany</td><td>DogWings</td><td>January</td><td>77.07</td><td>null</td><td>null</td></tr><tr><td>Germany</td><td>DogWings</td><td>February</td><td>5,508.08</td><td>null</td><td>null</td></tr><tr><td>Germany</td><td>DogWings</td><td>March</td><td>205.52</td><td>null</td><td>81.1</td></tr><tr><td>Germany</td><td>DogWings</td><td>April</td><td>308.28</td><td>null</td><td>null</td></tr><tr><td>Germany</td><td>DogWings</td><td>May</td><td>154.14</td><td>null</td><td>null</td></tr><tr><td>Germany</td><td>DogWings</td><td>June</td><td>25.69</td><td>null</td><td>569.25</td></tr><tr><td>Germany</td><td>DogWings</td><td>September</td><td>77.07</td><td>341.55</td><td>null</td></tr><tr><td>Germany</td><td>DogWings</td><td>December</td><td>18,570.30</td><td>null</td><td>null</td></tr><tr><td>Germany</td><td>Proseware</td><td>January</td><td>null</td><td>null</td><td>13,423.91</td></tr><tr><td>Germany</td><td>Proseware</td><td>February</td><td>79</td><td>null</td><td>null</td></tr><tr><td>Germany</td><td>Proseware</td><td>March</td><td>79.95</td><td>8,014.43</td><td>2,226.00</td></tr><tr><td>Germany</td><td>Proseware</td><td>April</td><td>299</td><td>null</td><td>5,688.87</td></tr><tr><td>Germany</td><td>Proseware</td><td>May</td><td>5,655.88</td><td>4,738.86</td><td>3,820.00</td></tr><tr><td>Germany</td><td>Proseware</td><td>June</td><td>815.92</td><td>null</td><td>22,000.00</td></tr><tr><td>Germany</td><td>Proseware</td><td>July</td><td>null</td><td>3,489.94</td><td>1,520.00</td></tr><tr><td>Germany</td><td>Proseware</td><td>August</td><td>null</td><td>3,299.89</td><td>8,474.89</td></tr><tr><td>Germany</td><td>Proseware</td><td>September</td><td>2,463.00</td><td>5,475.00</td><td>1,170.00</td></tr><tr><td>Germany</td><td>Proseware</td><td>October</td><td>13,568.78</td><td>728</td><td>2,290.00</td></tr><tr><td>Germany</td><td>Proseware</td><td>November</td><td>null</td><td>443.98</td><td>null</td></tr><tr><td>Germany</td><td>Proseware</td><td>December</td><td>1,089.00</td><td>null</td><td>null</td></tr><tr><td>Germany</td><td>Vimeo</td><td>January</td><td>1,894.62</td><td>660</td><td>876</td></tr><tr><td>Germany</td><td>Vimeo</td><td>February</td><td>1,220.10</td><td>87.05</td><td>3,844.85</td></tr><tr><td>Germany</td><td>Vimeo</td><td>March</td><td>2,003.88</td><td>97.02</td><td>2,105.88</td></tr><tr><td>Germany</td><td>Vimeo</td><td>April</td><td>6,538.73</td><td>null</td><td>null</td></tr><tr><td>Germany</td><td>Vimeo</td><td>May</td><td>3,242.61</td><td>657</td><td>598</td></tr><tr><td>Germany</td><td>Vimeo</td><td>June</td><td>1,443.93</td><td>88</td><td>161.1</td></tr><tr><td>Germany</td><td>Vimeo</td><td>July</td><td>1,553.70</td><td>271.5</td><td>6,563.00</td></tr><tr><td>Germany</td><td>Vimeo</td><td>August</td><td>2,385.27</td><td>null</td><td>960.04</td></tr><tr><td>Germany</td><td>Vimeo</td><td>September</td><td>3,678.96</td><td>987.87</td><td>null</td></tr><tr><td>Germany</td><td>Vimeo</td><td>October</td><td>5,296.42</td><td>396</td><td>124.32</td></tr><tr><td>Germany</td><td>Vimeo</td><td>November</td><td>262.6</td><td>694.56</td><td>null</td></tr><tr><td>Germany</td><td>Vimeo</td><td>December</td><td>741.69</td><td>660.41</td><td>null</td></tr><tr><td>Germany</td><td>Children Toys</td><td>January</td><td>1,076.00</td><td>561.04</td><td>258</td></tr><tr><td>Germany</td><td>Children Toys</td><td>February</td><td>84</td><td>258</td><td>480</td></tr><tr><td>Germany</td><td>Children Toys</td><td>March</td><td>1,917.82</td><td>77</td><td>392</td></tr><tr><td>Germany</td><td>Children Toys</td><td>April</td><td>96</td><td>923.29</td><td>389.4</td></tr><tr><td>Germany</td><td>Children Toys</td><td>May</td><td>null</td><td>340</td><td>1,375.00</td></tr><tr><td>Germany</td><td>Children Toys</td><td>June</td><td>null</td><td>null</td><td>608</td></tr><tr><td>Germany</td><td>Children Toys</td><td>July</td><td>null</td><td>172</td><td>1,589.56</td></tr><tr><td>Germany</td><td>Children Toys</td><td>August</td><td>90.87</td><td>null</td><td>733.04</td></tr><tr><td>Germany</td><td>Children Toys</td><td>September</td><td>192</td><td>null</td><td>180.36</td></tr><tr><td>Germany</td><td>Children Toys</td><td>October</td><td>638.4</td><td>280.52</td><td>1,219.43</td></tr><tr><td>Germany</td><td>Children Toys</td><td>December</td><td>301</td><td>161</td><td>null</td></tr><tr><td>Germany</td><td>Mobile Phones</td><td>January</td><td>1,650.00</td><td>1,465.00</td><td>null</td></tr><tr><td>Germany</td><td>Mobile Phones</td><td>February</td><td>null</td><td>2,170.00</td><td>3,615.00</td></tr><tr><td>Germany</td><td>Mobile Phones</td><td>March</td><td>460</td><td>null</td><td>null</td></tr><tr><td>Germany</td><td>Mobile Phones</td><td>April</td><td>null</td><td>null</td><td>6,479.00</td></tr><tr><td>Germany</td><td>Mobile Phones</td><td>May</td><td>null</td><td>null</td><td>2,430.00</td></tr><tr><td>Germany</td><td>Mobile Phones</td><td>June</td><td>null</td><td>1,400.00</td><td>null</td></tr><tr><td>Germany</td><td>Mobile Phones</td><td>July</td><td>null</td><td>null</td><td>2,152.00</td></tr><tr><td>Germany</td><td>Mobile Phones</td><td>September</td><td>2,168.00</td><td>5,490.00</td><td>null</td></tr><tr><td>Germany</td><td>Mobile Phones</td><td>October</td><td>4,588.00</td><td>924</td><td>1,592.00</td></tr><tr><td>Germany</td><td>Mobile Phones</td><td>November</td><td>4,166.00</td><td>129</td><td>null</td></tr><tr><td>Germany</td><td>Mobile Phones</td><td>December</td><td>null</td><td>2,312.00</td><td>null</td></tr><tr><td>Germany</td><td>BarnesNobles</td><td>January</td><td>879.8</td><td>23,648.70</td><td>1,799.40</td></tr><tr><td>Germany</td><td>BarnesNobles</td><td>February</td><td>null</td><td>4,130.80</td><td>1,039.35</td></tr><tr><td>Germany</td><td>BarnesNobles</td><td>March</td><td>1,198.00</td><td>null</td><td>9,506.00</td></tr><tr><td>Germany</td><td>BarnesNobles</td><td>April</td><td>null</td><td>4,746.00</td><td>179.94</td></tr><tr><td>Germany</td><td>BarnesNobles</td><td>May</td><td>899.7</td><td>null</td><td>1,161.00</td></tr><tr><td>Germany</td><td>BarnesNobles</td><td>June</td><td>null</td><td>179.94</td><td>575</td></tr><tr><td>Germany</td><td>BarnesNobles</td><td>July</td><td>2,429.10</td><td>2,231.00</td><td>13,770.00</td></tr><tr><td>Germany</td><td>BarnesNobles</td><td>August</td><td>3,689.90</td><td>2,759.88</td><td>539.8</td></tr><tr><td>Germany</td><td>BarnesNobles</td><td>September</td><td>null</td><td>1,145.00</td><td>5,967.00</td></tr><tr><td>Germany</td><td>BarnesNobles</td><td>October</td><td>594</td><td>203.98</td><td>null</td></tr><tr><td>Germany</td><td>BarnesNobles</td><td>November</td><td>null</td><td>18,360.00</td><td>null</td></tr><tr><td>Germany</td><td>BarnesNobles</td><td>December</td><td>8,349.89</td><td>2,529.89</td><td>null</td></tr><tr><td>United States</td><td>SequelGate</td><td>January</td><td>5,016.00</td><td>null</td><td>3,492.00</td></tr><tr><td>United States</td><td>SequelGate</td><td>February</td><td>5,794.00</td><td>null</td><td>10,336.00</td></tr><tr><td>United States</td><td>SequelGate</td><td>March</td><td>2,508.00</td><td>188.5</td><td>null</td></tr><tr><td>United States</td><td>SequelGate</td><td>April</td><td>4,100.00</td><td>186.9</td><td>1,014.00</td></tr><tr><td>United States</td><td>SequelGate</td><td>May</td><td>1,881.00</td><td>1,386.00</td><td>4,439.00</td></tr><tr><td>United States</td><td>SequelGate</td><td>June</td><td>3,335.00</td><td>495</td><td>3,240.00</td></tr><tr><td>United States</td><td>SequelGate</td><td>July</td><td>4,639.00</td><td>null</td><td>2,983.50</td></tr><tr><td>United States</td><td>SequelGate</td><td>August</td><td>3,762.00</td><td>664</td><td>2,225.00</td></tr><tr><td>United States</td><td>SequelGate</td><td>September</td><td>13,894.00</td><td>1,604.00</td><td>null</td></tr><tr><td>United States</td><td>SequelGate</td><td>October</td><td>2,503.00</td><td>null</td><td>null</td></tr><tr><td>United States</td><td>SequelGate</td><td>November</td><td>4,907.10</td><td>3,718.00</td><td>null</td></tr><tr><td>United States</td><td>SequelGate</td><td>December</td><td>627</td><td>627</td><td>null</td></tr><tr><td>United States</td><td>SQL School</td><td>January</td><td>8,459.46</td><td>1,968.69</td><td>null</td></tr><tr><td>United States</td><td>SQL School</td><td>February</td><td>11,749.25</td><td>4,049.25</td><td>129</td></tr><tr><td>United States</td><td>SQL School</td><td>March</td><td>16,598.22</td><td>9,659.79</td><td>2,086.00</td></tr><tr><td>United States</td><td>SQL School</td><td>April</td><td>22,067.57</td><td>2,338.00</td><td>297</td></tr><tr><td>United States</td><td>SQL School</td><td>May</td><td>9,869.37</td><td>null</td><td>null</td></tr><tr><td>United States</td><td>SQL School</td><td>June</td><td>10,757.16</td><td>null</td><td>null</td></tr><tr><td>United States</td><td>SQL School</td><td>July</td><td>9,869.37</td><td>5,056.00</td><td>3,550.87</td></tr><tr><td>United States</td><td>SQL School</td><td>August</td><td>939.94</td><td>1,566.00</td><td>4,451.93</td></tr><tr><td>United States</td><td>SQL School</td><td>September</td><td>3,759.76</td><td>2,058.40</td><td>2,670.00</td></tr><tr><td>United States</td><td>SQL School</td><td>October</td><td>null</td><td>null</td><td>399.75</td></tr><tr><td>United States</td><td>SQL School</td><td>November</td><td>4,699.70</td><td>null</td><td>null</td></tr><tr><td>United States</td><td>SQL School</td><td>December</td><td>19,734.89</td><td>2,953.50</td><td>null</td></tr><tr><td>United States</td><td>Contoso</td><td>January</td><td>8,506.88</td><td>605.55</td><td>11,839.98</td></tr><tr><td>United States</td><td>Contoso</td><td>February</td><td>5,629.26</td><td>5,433.80</td><td>17,029.47</td></tr><tr><td>United States</td><td>Contoso</td><td>March</td><td>6,733.86</td><td>8,314.54</td><td>1,770.10</td></tr><tr><td>United States</td><td>Contoso</td><td>April</td><td>17,433.79</td><td>1,850.16</td><td>1,714.55</td></tr><tr><td>United States</td><td>Contoso</td><td>May</td><td>7,133.14</td><td>921.35</td><td>7,049.65</td></tr><tr><td>United States</td><td>Contoso</td><td>June</td><td>5,356.89</td><td>3,325.74</td><td>16,701.42</td></tr><tr><td>United States</td><td>Contoso</td><td>July</td><td>4,770.20</td><td>2,634.27</td><td>2,181.66</td></tr><tr><td>United States</td><td>Contoso</td><td>August</td><td>15,159.15</td><td>25,590.05</td><td>4,445.18</td></tr><tr><td>United States</td><td>Contoso</td><td>September</td><td>6,232.99</td><td>3,786.22</td><td>10,863.67</td></tr><tr><td>United States</td><td>Contoso</td><td>October</td><td>18,206.65</td><td>1,089.45</td><td>7,950.51</td></tr><tr><td>United States</td><td>Contoso</td><td>November</td><td>8,218.20</td><td>15,254.44</td><td>null</td></tr><tr><td>United States</td><td>Contoso</td><td>December</td><td>42,184.42</td><td>9,811.38</td><td>null</td></tr><tr><td>United States</td><td>Fabrikam  </td><td>January</td><td>null</td><td>15,184.00</td><td>4,560.00</td></tr><tr><td>United States</td><td>Fabrikam  </td><td>February</td><td>2,310.00</td><td>3,992.00</td><td>null</td></tr><tr><td>United States</td><td>Fabrikam</td><td>March</td><td>null</td><td>6,136.00</td><td>1,344.00</td></tr><tr><td>United States</td><td>Fabrikam</td><td>April</td><td>11,882.00</td><td>8,423.90</td><td>1,818.85</td></tr><tr><td>United States</td><td>Fabrikam</td><td>May</td><td>719.96</td><td>26,127.80</td><td>16,343.80</td></tr><tr><td>United States</td><td>Fabrikam</td><td>June</td><td>12,910.36</td><td>4,338.00</td><td>2,531.00</td></tr><tr><td>United States</td><td>Fabrikam</td><td>July</td><td>1,169.91</td><td>null</td><td>799.92</td></tr><tr><td>United States</td><td>Fabrikam</td><td>August</td><td>null</td><td>15,133.00</td><td>4,914.00</td></tr><tr><td>United States</td><td>Fabrikam</td><td>September</td><td>4,930.00</td><td>29,011.00</td><td>4,264.00</td></tr><tr><td>United States</td><td>Fabrikam</td><td>October</td><td>7,704.00</td><td>3,135.00</td><td>2,324.00</td></tr><tr><td>United States</td><td>Fabrikam  </td><td>November</td><td>3,038.00</td><td>17,404.60</td><td>null</td></tr><tr><td>United States</td><td>Fabrikam  </td><td>December</td><td>11,872.00</td><td>null</td><td>null</td></tr><tr><td>United States</td><td>Litware</td><td>January</td><td>null</td><td>null</td><td>6,293.00</td></tr><tr><td>United States</td><td>Litware</td><td>February</td><td>null</td><td>null</td><td>1,689.87</td></tr><tr><td>United States</td><td>Litware</td><td>March</td><td>180</td><td>449.9</td><td>12,692.95</td></tr><tr><td>United States</td><td>Litware</td><td>April</td><td>null</td><td>23,715.00</td><td>13,986.00</td></tr><tr><td>United States</td><td>Litware</td><td>May</td><td>7,054.98</td><td>9,659.91</td><td>8,267.47</td></tr><tr><td>United States</td><td>Litware</td><td>June</td><td>null</td><td>1,399.93</td><td>1,073.90</td></tr><tr><td>United States</td><td>Litware</td><td>July</td><td>1,829.89</td><td>1,867.91</td><td>1,676.44</td></tr><tr><td>United States</td><td>Litware</td><td>August</td><td>1,439.92</td><td>38,807.84</td><td>139.86</td></tr><tr><td>United States</td><td>Litware</td><td>September</td><td>1,439.92</td><td>24,373.99</td><td>4,183.72</td></tr><tr><td>United States</td><td>Litware</td><td>October</td><td>null</td><td>10,733.80</td><td>null</td></tr><tr><td>United States</td><td>Litware</td><td>November</td><td>19,229.82</td><td>9,065.85</td><td>null</td></tr><tr><td>United States</td><td>Litware</td><td>December</td><td>4,199.85</td><td>2,359.30</td><td>null</td></tr><tr><td>United States</td><td>DogWings</td><td>January</td><td>102.76</td><td>null</td><td>243.3</td></tr><tr><td>United States</td><td>DogWings</td><td>February</td><td>77.07</td><td>null</td><td>99.99</td></tr><tr><td>United States</td><td>DogWings</td><td>March</td><td>154.14</td><td>null</td><td>null</td></tr><tr><td>United States</td><td>DogWings</td><td>April</td><td>128.45</td><td>null</td><td>623.35</td></tr><tr><td>United States</td><td>DogWings</td><td>June</td><td>128.45</td><td>null</td><td>null</td></tr><tr><td>United States</td><td>DogWings</td><td>July</td><td>27,360.57</td><td>10,913.40</td><td>527.45</td></tr><tr><td>United States</td><td>DogWings</td><td>September</td><td>102.76</td><td>287.7</td><td>12,732.30</td></tr><tr><td>United States</td><td>DogWings</td><td>October</td><td>205.52</td><td>null</td><td>null</td></tr><tr><td>United States</td><td>DogWings</td><td>November</td><td>21,826.80</td><td>null</td><td>null</td></tr><tr><td>United States</td><td>DogWings</td><td>December</td><td>102.76</td><td>null</td><td>null</td></tr><tr><td>United States</td><td>Proseware</td><td>January</td><td>null</td><td>null</td><td>596</td></tr><tr><td>United States</td><td>Proseware</td><td>February</td><td>null</td><td>null</td><td>3,669.97</td></tr><tr><td>United States</td><td>Proseware</td><td>March</td><td>980</td><td>390</td><td>null</td></tr><tr><td>United States</td><td>Proseware</td><td>April</td><td>872</td><td>6,589.00</td><td>6,432.80</td></tr><tr><td>United States</td><td>Proseware</td><td>May</td><td>136</td><td>9,976.00</td><td>1,199.96</td></tr><tr><td>United States</td><td>Proseware</td><td>June</td><td>1,832.00</td><td>973</td><td>null</td></tr><tr><td>United States</td><td>Proseware</td><td>July</td><td>null</td><td>3,895.00</td><td>4,799.88</td></tr><tr><td>United States</td><td>Proseware</td><td>August</td><td>1,807.00</td><td>3,331.00</td><td>11,375.46</td></tr><tr><td>United States</td><td>Proseware</td><td>September</td><td>21,903.00</td><td>9,739.84</td><td>2,219.00</td></tr><tr><td>United States</td><td>Proseware</td><td>October</td><td>489</td><td>1,818.00</td><td>2,579.94</td></tr><tr><td>United States</td><td>Proseware</td><td>November</td><td>645</td><td>1,692.00</td><td>null</td></tr><tr><td>United States</td><td>Proseware</td><td>December</td><td>7,528.88</td><td>3,242.00</td><td>null</td></tr><tr><td>United States</td><td>Vimeo</td><td>January</td><td>3,377.10</td><td>59.29</td><td>null</td></tr><tr><td>United States</td><td>Vimeo</td><td>February</td><td>6,502.75</td><td>479.97</td><td>792</td></tr><tr><td>United States</td><td>Vimeo</td><td>March</td><td>6,143.27</td><td>598</td><td>null</td></tr><tr><td>United States</td><td>Vimeo</td><td>April</td><td>2,896.17</td><td>1,817.11</td><td>4,675.00</td></tr><tr><td>United States</td><td>Vimeo</td><td>May</td><td>4,897.73</td><td>4,841.85</td><td>1,838.50</td></tr><tr><td>United States</td><td>Vimeo</td><td>June</td><td>3,276.68</td><td>null</td><td>null</td></tr><tr><td>United States</td><td>Vimeo</td><td>July</td><td>2,849.09</td><td>625.95</td><td>3,169.99</td></tr><tr><td>United States</td><td>Vimeo</td><td>August</td><td>4,148.15</td><td>332.71</td><td>96.32</td></tr><tr><td>United States</td><td>Vimeo</td><td>September</td><td>1,395.90</td><td>4,718.87</td><td>10,774.90</td></tr><tr><td>United States</td><td>Vimeo</td><td>October</td><td>318.9</td><td>2,628.00</td><td>113.94</td></tr><tr><td>United States</td><td>Vimeo</td><td>November</td><td>2,047.39</td><td>2,710.75</td><td>null</td></tr><tr><td>United States</td><td>Vimeo</td><td>December</td><td>4,038.72</td><td>311.8</td><td>null</td></tr><tr><td>United States</td><td>Children Toys</td><td>January</td><td>519.87</td><td>307.9</td><td>491</td></tr><tr><td>United States</td><td>Children Toys</td><td>February</td><td>null</td><td>null</td><td>499.86</td></tr><tr><td>United States</td><td>Children Toys</td><td>March</td><td>null</td><td>663.83</td><td>null</td></tr><tr><td>United States</td><td>Children Toys</td><td>April</td><td>null</td><td>702.5</td><td>null</td></tr><tr><td>United States</td><td>Children Toys</td><td>May</td><td>297.21</td><td>null</td><td>null</td></tr><tr><td>United States</td><td>Children Toys</td><td>June</td><td>267</td><td>435.85</td><td>454</td></tr><tr><td>United States</td><td>Children Toys</td><td>July</td><td>258</td><td>280.52</td><td>792.87</td></tr><tr><td>United States</td><td>Children Toys</td><td>August</td><td>359.57</td><td>74.85</td><td>null</td></tr><tr><td>United States</td><td>Children Toys</td><td>September</td><td>430</td><td>null</td><td>null</td></tr><tr><td>United States</td><td>Children Toys</td><td>October</td><td>834.91</td><td>null</td><td>null</td></tr><tr><td>United States</td><td>Children Toys</td><td>November</td><td>86</td><td>619.08</td><td>null</td></tr><tr><td>United States</td><td>Children Toys</td><td>December</td><td>927.56</td><td>56</td><td>null</td></tr><tr><td>United States</td><td>Mobile Phones</td><td>January</td><td>510</td><td>null</td><td>null</td></tr><tr><td>United States</td><td>Mobile Phones</td><td>February</td><td>null</td><td>null</td><td>1,345.00</td></tr><tr><td>United States</td><td>Mobile Phones</td><td>April</td><td>1,812.00</td><td>null</td><td>null</td></tr><tr><td>United States</td><td>Mobile Phones</td><td>May</td><td>3,890.00</td><td>7,068.00</td><td>6,284.00</td></tr><tr><td>United States</td><td>Mobile Phones</td><td>June</td><td>6,686.00</td><td>null</td><td>null</td></tr><tr><td>United States</td><td>Mobile Phones</td><td>July</td><td>null</td><td>2,680.00</td><td>1,602.00</td></tr><tr><td>United States</td><td>Mobile Phones</td><td>August</td><td>null</td><td>5,017.00</td><td>null</td></tr><tr><td>United States</td><td>Mobile Phones</td><td>September</td><td>1,161.00</td><td>null</td><td>1,160.00</td></tr><tr><td>United States</td><td>Mobile Phones</td><td>November</td><td>null</td><td>7,069.00</td><td>null</td></tr><tr><td>United States</td><td>BarnesNobles</td><td>January</td><td>null</td><td>null</td><td>4,451.93</td></tr><tr><td>United States</td><td>BarnesNobles</td><td>February</td><td>2,299.00</td><td>10,971.90</td><td>null</td></tr><tr><td>United States</td><td>BarnesNobles</td><td>March</td><td>4,771.00</td><td>5,065.60</td><td>null</td></tr><tr><td>United States</td><td>BarnesNobles</td><td>April</td><td>null</td><td>6,329.86</td><td>6,314.00</td></tr><tr><td>United States</td><td>BarnesNobles</td><td>May</td><td>2,748.00</td><td>3,887.00</td><td>null</td></tr><tr><td>United States</td><td>BarnesNobles</td><td>June</td><td>null</td><td>3,012.00</td><td>5,008.20</td></tr><tr><td>United States</td><td>BarnesNobles</td><td>July</td><td>1,289.57</td><td>9,828.00</td><td>2,875.86</td></tr><tr><td>United States</td><td>BarnesNobles</td><td>August</td><td>319.8</td><td>17,169.15</td><td>null</td></tr><tr><td>United States</td><td>BarnesNobles</td><td>September</td><td>2,199.45</td><td>null</td><td>599.8</td></tr><tr><td>United States</td><td>BarnesNobles</td><td>October</td><td>471.8</td><td>null</td><td>11,985.00</td></tr><tr><td>United States</td><td>BarnesNobles</td><td>November</td><td>null</td><td>727.25</td><td>null</td></tr><tr><td>United States</td><td>BarnesNobles</td><td>December</td><td>null</td><td>3,818.75</td><td>null</td></tr><tr><td>United States</td><td>BarnesNobles</td><td>November</td><td>null</td><td>727.25</td><td>10,788.00</td></tr><tr><td>United States</td><td>BarnesNobles</td><td>December</td><td>null</td><td>3,818.75</td><td>null</td></tr></tbody></table></div>"
      ]
     },
     "metadata": {
      "application/vnd.databricks.v1+output": {
       "addedWidgets": {},
       "aggData": [],
       "aggError": "",
       "aggOverflow": false,
       "aggSchema": [],
       "aggSeriesLimitReached": false,
       "aggType": "",
       "arguments": {},
       "columnCustomDisplayInfos": {},
       "data": [
        [
         "Country",
         "Company",
         "Month",
         "Sale2018",
         "Sale2019",
         "Sale2020"
        ],
        [
         "India",
         "SequelGate",
         "January",
         "3,234.00",
         null,
         "1,935.00"
        ],
        [
         "India",
         "SequelGate",
         "February",
         "6,270.00",
         "7,059.00",
         "12,418.26"
        ],
        [
         "India",
         "SequelGate",
         "March",
         "4,352.00",
         "16,638.85",
         "31,770.26"
        ],
        [
         "India",
         "SequelGate",
         "April",
         "3,814.00",
         "11,864.76",
         "8,785.89"
        ],
        [
         "India",
         "SequelGate",
         "May",
         "6,234.00",
         "2,819.82",
         "119.99"
        ],
        [
         "India",
         "SequelGate",
         "June",
         "5,571.00",
         "3,216.00",
         "2,819.82"
        ],
        [
         "India",
         "SequelGate",
         "July",
         "7,424.00",
         null,
         "6,881.00"
        ],
        [
         "India",
         "SequelGate",
         "August",
         null,
         null,
         "800"
        ],
        [
         "India",
         "SequelGate",
         "September",
         "1,254.00",
         "1,617.00",
         "396"
        ],
        [
         "India",
         "SequelGate",
         "October",
         "1,881.00",
         "3,042.00",
         "936"
        ],
        [
         "India",
         "SequelGate",
         "November",
         null,
         "3,653.00",
         "7,001.78"
        ],
        [
         "India",
         "SequelGate",
         "December",
         "6,135.00",
         "2,810.00",
         "8,785.89"
        ],
        [
         "India",
         "SQL School",
         "January",
         "12,418.26",
         "5,735.48",
         "1,559.87"
        ],
        [
         "India",
         "SQL School",
         "February",
         "31,770.26",
         null,
         "2,937.90"
        ],
        [
         "India",
         "SQL School",
         "March",
         "3,689.85",
         "5,489.23",
         "11,163.94"
        ],
        [
         "India",
         "SQL School",
         "April",
         "499.9",
         "9,087.00",
         "2,298.70"
        ],
        [
         "India",
         "SQL School",
         "May",
         null,
         "9,203.92",
         null
        ],
        [
         "India",
         "SQL School",
         "June",
         "15,790.00",
         "119.99",
         "1,948.50"
        ],
        [
         "India",
         "SQL School",
         "July",
         "9,938.12",
         "2,819.82",
         null
        ],
        [
         "India",
         "SQL School",
         "August",
         "14,035.71",
         "6,881.00",
         "12,775.40"
        ],
        [
         "India",
         "SQL School",
         "September",
         "16,638.85",
         null,
         null
        ],
        [
         "India",
         "SQL School",
         "October",
         "11,864.76",
         null,
         "2,085.00"
        ],
        [
         "India",
         "SQL School",
         "November",
         "2,819.82",
         "959.92",
         null
        ],
        [
         "India",
         "SQL School",
         "December",
         null,
         "16,694.07",
         null
        ],
        [
         "India",
         "Contoso",
         "January",
         "1,271.55",
         "3,236.31",
         "9,945.86"
        ],
        [
         "India",
         "Contoso",
         "February",
         "7,372.34",
         "5,995.55",
         "1,303.01"
        ],
        [
         "India",
         "Contoso",
         "March",
         "11,364.07",
         "2,767.32",
         "3,437.26"
        ],
        [
         "India",
         "Contoso",
         "April",
         "13,590.94",
         "17,530.47",
         "25,007.74"
        ],
        [
         "India",
         "Contoso",
         "May",
         "11,780.08",
         "13,501.47",
         "5,270.05"
        ],
        [
         "India",
         "Contoso",
         "June",
         "8,562.00",
         "8,338.87",
         "7,357.26"
        ],
        [
         "India",
         "Contoso",
         "July",
         "7,001.78",
         "13,874.09",
         "31,571.42"
        ],
        [
         "India",
         "Contoso",
         "August",
         "605.89",
         "3,340.02",
         "1,386.20"
        ],
        [
         "India",
         "Contoso",
         "September",
         "3,958.70",
         "1,709.68",
         "2,224.36"
        ],
        [
         "India",
         "Contoso",
         "October",
         "8,785.89",
         "5,787.57",
         "10,792.05"
        ],
        [
         "India",
         "Contoso",
         "November",
         "7,631.64",
         "2,412.91",
         "3,340.02"
        ],
        [
         "India",
         "Contoso",
         "December",
         "21,968.86",
         "5,657.70",
         "1,709.68"
        ],
        [
         "India",
         "Fabrikam",
         "January",
         "5,794.38",
         "9,244.97",
         "5,787.57"
        ],
        [
         "India",
         "Fabrikam  ",
         "February",
         null,
         "6,230.00",
         null
        ],
        [
         "India",
         "Fabrikam",
         "March",
         "3,415.96",
         "1,044.89",
         null
        ],
        [
         "India",
         "Fabrikam",
         "April",
         null,
         null,
         "5,155.78"
        ],
        [
         "India",
         "Fabrikam  ",
         "May",
         "3,657.95",
         "2,954.00",
         "20,177.94"
        ],
        [
         "India",
         "Fabrikam",
         "June",
         "2,820.00",
         "28,407.99",
         "6,223.31"
        ],
        [
         "India",
         "Fabrikam",
         "July",
         null,
         "1,439.92",
         "12,530.60"
        ],
        [
         "India",
         "Fabrikam",
         "August",
         "7,113.00",
         null,
         "2,640.00"
        ],
        [
         "India",
         "Fabrikam  ",
         "September",
         "5,901.93",
         "4,367.60",
         "20,600.00"
        ],
        [
         "India",
         "Fabrikam",
         "October",
         "2,396.06",
         "9,597.93",
         "29,305.77"
        ],
        [
         "India",
         "Fabrikam",
         "November",
         "9,477.60",
         "14,941.87",
         null
        ],
        [
         "India",
         "Fabrikam  ",
         "December",
         "15,499.94",
         "12,740.00",
         null
        ],
        [
         "India",
         "Litware",
         "January",
         null,
         "2,209.73",
         null
        ],
        [
         "India",
         "Litware",
         "February",
         null,
         "2,465.00",
         "1,679.88"
        ],
        [
         "India",
         "Litware",
         "March",
         "4.99",
         "7,956.00",
         "11,000.00"
        ],
        [
         "India",
         "Litware",
         "April",
         "599.9",
         null,
         null
        ],
        [
         "India",
         "Litware ",
         "May",
         null,
         "11,186.00",
         "2,087.73"
        ],
        [
         "India",
         "Litware",
         "June",
         null,
         "2,400.00",
         "1,331.88"
        ],
        [
         "India",
         "Litware",
         "July",
         "7,579.00",
         "2,303.85",
         "28,488.15"
        ],
        [
         "India",
         "Litware",
         "August",
         "3,340.02",
         "25,599.92",
         "12,619.43"
        ],
        [
         "India",
         "Litware",
         "September",
         "1,709.68",
         "591.92",
         "89.97"
        ],
        [
         "India",
         "Litware",
         "October",
         "5,787.57",
         "5,525.81",
         "6,205.48"
        ],
        [
         "India",
         "Litware",
         "November",
         null,
         "3,451.00",
         null
        ],
        [
         "India",
         "Litware",
         "December",
         "1,199.96",
         "11,164.00",
         null
        ],
        [
         "India",
         "DogWings",
         "January",
         "34,616.15",
         "359.66",
         null
        ],
        [
         "India",
         "DogWings",
         "February",
         "51.38",
         null,
         "95.9"
        ],
        [
         "India",
         "DogWings",
         "March",
         "7,999.50",
         null,
         null
        ],
        [
         "India",
         "DogWings",
         "April",
         null,
         "12,732.30",
         null
        ],
        [
         "India",
         "DogWings",
         "May",
         "25,598.40",
         "3,340.02",
         null
        ],
        [
         "India",
         "DogWings",
         "July",
         "51.38",
         "1,709.68",
         "359.66"
        ],
        [
         "India",
         "DogWings",
         "August",
         "154.14",
         "5,787.57",
         null
        ],
        [
         "India",
         "DogWings",
         "September",
         "25.69",
         null,
         "569.25"
        ],
        [
         "India",
         "DogWings",
         "December",
         "51.38",
         null,
         "3,340.02"
        ],
        [
         "India",
         "Proseware",
         "January",
         null,
         "735",
         "1,709.68"
        ],
        [
         "India",
         "Proseware",
         "February",
         "2,847.00",
         "4,509.99",
         "5,787.57"
        ],
        [
         "India",
         "Proseware",
         "March",
         "4,489.89",
         "3,347.88",
         "1,325.87"
        ],
        [
         "India",
         "Proseware",
         "April",
         "719",
         "10,447.77",
         "5,104.93"
        ],
        [
         "India",
         "Proseware",
         "May",
         null,
         "1,749.00",
         null
        ],
        [
         "India",
         "Proseware",
         "June",
         "952",
         "3,555.00",
         "6,903.91"
        ],
        [
         "India",
         "Proseware",
         "July",
         null,
         "1,029.00",
         "1,149.90"
        ],
        [
         "India",
         "Proseware",
         "August",
         "1,399.93",
         null,
         "1,831.50"
        ],
        [
         "India",
         "Proseware",
         "September",
         "37,923.00",
         "1,908.00",
         "1,548.00"
        ],
        [
         "India",
         "Proseware",
         "October",
         null,
         null,
         "959.92"
        ],
        [
         "India",
         "Proseware",
         "November",
         null,
         "1,399.93",
         "11,000.00"
        ],
        [
         "India",
         "Proseware",
         "December",
         "12,987.00",
         "599.98",
         null
        ],
        [
         "India",
         "Vimeo",
         "January",
         "2,255.94",
         "4,683.56",
         "4,858.80"
        ],
        [
         "India",
         "Vimeo",
         "February",
         "1,775.85",
         "632",
         "141.84"
        ],
        [
         "India",
         "Vimeo",
         "March",
         "980.4",
         null,
         null
        ],
        [
         "India",
         "Vimeo",
         "April",
         "75.99",
         "388.49",
         null
        ],
        [
         "India",
         "Vimeo",
         "May",
         "41.73",
         "1.9",
         "1,485.00"
        ],
        [
         "India",
         "Vimeo",
         "June",
         "10,280.89",
         "1,461.46",
         null
        ],
        [
         "India",
         "Vimeo",
         "July",
         "4,226.88",
         "2,625.00",
         "11,376.00"
        ],
        [
         "India",
         "Vimeo",
         "August",
         "13,740.38",
         "1,035.90",
         "5,687.94"
        ],
        [
         "India",
         "Vimeo",
         "September",
         "632.79",
         "3,510.00",
         "199"
        ],
        [
         "India",
         "Vimeo",
         "October",
         "1,084.10",
         null,
         "1,481.74"
        ],
        [
         "India",
         "Vimeo",
         "November",
         "1,439.64",
         null,
         null
        ],
        [
         "India",
         "Vimeo",
         "December",
         "753.69",
         "9,817.96",
         null
        ],
        [
         "India",
         "Children Toys",
         "January",
         null,
         null,
         "698"
        ],
        [
         "India",
         "Children Toys",
         "February",
         "71.92",
         null,
         "1,303.53"
        ],
        [
         "India",
         "Children Toys",
         "March",
         "310",
         "288",
         null
        ],
        [
         "India",
         "Children Toys",
         "April",
         "104.85",
         "172",
         "752.9"
        ],
        [
         "India",
         "Children Toys",
         "May",
         "214",
         "436",
         "69.86"
        ],
        [
         "India",
         "Children Toys",
         "June",
         "62.93",
         "644.78",
         "1,777.87"
        ],
        [
         "India",
         "Children Toys",
         "July",
         "86",
         "813",
         "731.12"
        ],
        [
         "India",
         "Children Toys",
         "August",
         "272.89",
         null,
         "3,510.00"
        ],
        [
         "India",
         "Children Toys",
         "September",
         "219.57",
         null,
         "1,114.00"
        ],
        [
         "India",
         "Children Toys",
         "October",
         null,
         "458",
         "743.87"
        ],
        [
         "India",
         "Children Toys",
         "November",
         "140",
         null,
         "3,340.02"
        ],
        [
         "India",
         "Children Toys",
         "December",
         "225.23",
         null,
         "1,709.68"
        ],
        [
         "India",
         "Mobile Phones",
         "January",
         null,
         "3,296.00",
         "5,787.57"
        ],
        [
         "India",
         "Mobile Phones",
         "February",
         "2,408.00",
         null,
         null
        ],
        [
         "India",
         "Mobile Phones",
         "March",
         "690",
         null,
         null
        ],
        [
         "India",
         "Mobile Phones",
         "April",
         null,
         null,
         "7,862.00"
        ],
        [
         "India",
         "Mobile Phones",
         "May",
         "1,960.00",
         "560",
         "2,300.00"
        ],
        [
         "India",
         "Mobile Phones",
         "June",
         "1,340.00",
         "7,596.00",
         "714"
        ],
        [
         "India",
         "Mobile Phones",
         "July",
         null,
         "3,600.00",
         null
        ],
        [
         "India",
         "Mobile Phones",
         "August",
         null,
         null,
         "7,013.00"
        ],
        [
         "India",
         "Mobile Phones",
         "September",
         "1,980.00",
         "2,890.00",
         "7,371.00"
        ],
        [
         "India",
         "Mobile Phones",
         "October",
         "2,384.00",
         "3,510.00",
         null
        ],
        [
         "India",
         "Mobile Phones",
         "November",
         "4,046.00",
         "2,400.00",
         null
        ],
        [
         "India",
         "Mobile Phones",
         "December",
         null,
         "9,391.00",
         null
        ],
        [
         "India",
         "BarnesNobles",
         "February",
         "459.8",
         null,
         "4,413.35"
        ],
        [
         "India",
         "BarnesNobles",
         "March",
         null,
         "3,127.70",
         "3,012.00"
        ],
        [
         "India",
         "BarnesNobles",
         "April",
         "11,182.00",
         null,
         "9,264.89"
        ],
        [
         "India",
         "BarnesNobles",
         "May",
         null,
         "765.9",
         "1,199.25"
        ],
        [
         "India",
         "BarnesNobles",
         "June",
         "3,238.80",
         "18,576.50",
         "6,269.67"
        ],
        [
         "India",
         "BarnesNobles",
         "July",
         "2,199.50",
         "9,493.05",
         "3,784.00"
        ],
        [
         "India",
         "BarnesNobles",
         "August",
         "4,537.00",
         null,
         "101.99"
        ],
        [
         "India",
         "BarnesNobles",
         "September",
         "59.98",
         "1,342.50",
         null
        ],
        [
         "India",
         "BarnesNobles",
         "October",
         null,
         "4,407.00",
         "7,545.97"
        ],
        [
         "India",
         "BarnesNobles",
         "November",
         "5,049.96",
         "10,647.00",
         null
        ],
        [
         "Germany",
         "SequelGate",
         "January",
         "6,270.00",
         null,
         null
        ],
        [
         "Germany",
         "SequelGate",
         "February",
         "11,790.00",
         null,
         "2,072.00"
        ],
        [
         "Germany",
         "SequelGate",
         "March",
         "5,016.00",
         "3,215.00",
         "8,151.00"
        ],
        [
         "Germany",
         "SequelGate",
         "April",
         "6,835.50",
         "2,310.00",
         "594"
        ],
        [
         "Germany",
         "SequelGate",
         "May",
         "10,520.50",
         "3,325.50",
         null
        ],
        [
         "Germany",
         "SequelGate",
         "June",
         "7,056.00",
         null,
         "1,504.00"
        ],
        [
         "Germany",
         "SequelGate",
         "July",
         "8,778.00",
         "1,800.00",
         null
        ],
        [
         "Germany",
         "SequelGate",
         "August",
         "1,848.00",
         null,
         "1,560.00"
        ],
        [
         "Germany",
         "SequelGate",
         "September",
         "3,762.00",
         "3,072.30",
         null
        ],
        [
         "Germany",
         "SequelGate",
         "October",
         "5,724.00",
         null,
         "373.8"
        ],
        [
         "Germany",
         "SequelGate",
         "November",
         "2,838.00",
         "3,312.00",
         null
        ],
        [
         "Germany",
         "SequelGate",
         "December",
         "2,829.20",
         "1,740.00",
         "3,510.00"
        ],
        [
         "Germany",
         "SQL School",
         "January",
         "6,249.47",
         null,
         "719.55"
        ],
        [
         "Germany",
         "SQL School",
         "February",
         "8,711.52",
         "2,934.00",
         "1,780.00"
        ],
        [
         "Germany",
         "SQL School",
         "March",
         "22,928.18",
         null,
         "559.65"
        ],
        [
         "Germany",
         "SQL School",
         "April",
         "6,609.51",
         "269.91",
         null
        ],
        [
         "Germany",
         "SQL School",
         "May",
         "3,289.79",
         "2,583.00",
         "7,461.79"
        ],
        [
         "Germany",
         "SQL School",
         "June",
         "2,349.85",
         null,
         "2,327.00"
        ],
        [
         "Germany",
         "SQL School",
         "July",
         "4,229.73",
         "5,592.00",
         "1,439.88"
        ],
        [
         "Germany",
         "SQL School",
         "August",
         "5,579.48",
         null,
         "3,340.02"
        ],
        [
         "Germany",
         "SQL School",
         "September",
         "6,769.61",
         "599.98",
         "1,709.68"
        ],
        [
         "Germany",
         "SQL School",
         "October",
         "2,943.85",
         "4,794.79",
         "5,787.57"
        ],
        [
         "Germany",
         "SQL School",
         "November",
         "3,623.91",
         null,
         null
        ],
        [
         "Germany",
         "SQL School",
         "December",
         "2,879.12",
         "1,268.97",
         null
        ],
        [
         "Germany",
         "Contoso",
         "January",
         "8,172.92",
         "93.78",
         "6,800.52"
        ],
        [
         "Germany",
         "Contoso",
         "February",
         "4,672.77",
         "7,585.29",
         "1,707.56"
        ],
        [
         "Germany",
         "Contoso",
         "March",
         "12,430.38",
         "2,683.39",
         "5,318.82"
        ],
        [
         "Germany",
         "Contoso",
         "April",
         "9,626.06",
         "241.77",
         "3,324.75"
        ],
        [
         "Germany",
         "Contoso",
         "May",
         "11,868.03",
         "5,273.61",
         "1,462.52"
        ],
        [
         "Germany",
         "Contoso",
         "June",
         "2,743.85",
         "373.52",
         "3,598.86"
        ],
        [
         "Germany",
         "Contoso",
         "July",
         "28,791.79",
         "2,150.36",
         "862.27"
        ],
        [
         "Germany",
         "Contoso",
         "August",
         "7,739.76",
         "613.29",
         "19,234.36"
        ],
        [
         "Germany",
         "Contoso",
         "September",
         "13,894.28",
         "9,406.25",
         "5,011.40"
        ],
        [
         "Germany",
         "Contoso",
         "October",
         "12,675.45",
         "2,699.85",
         "1,815.87"
        ],
        [
         "Germany",
         "Contoso",
         "November",
         "16,987.67",
         "6,745.82",
         null
        ],
        [
         "Germany",
         "Contoso",
         "December",
         "3,469.89",
         "3,085.07",
         null
        ],
        [
         "Germany",
         "Fabrikam",
         "January",
         null,
         "1,415.20",
         "129.99"
        ],
        [
         "Germany",
         "Fabrikam",
         "February",
         "3,573.93",
         null,
         "3,249.00"
        ],
        [
         "Germany",
         "Fabrikam",
         "March",
         "3,032.00",
         "2,670.00",
         null
        ],
        [
         "Germany",
         "Fabrikam  ",
         "April",
         "2,279.97",
         "16,050.00",
         "6,392.00"
        ],
        [
         "Germany",
         "Fabrikam",
         "May",
         "2,447.92",
         "1,109.91",
         "37,495.89"
        ],
        [
         "Germany",
         "Fabrikam  ",
         "June",
         "18,966.80",
         null,
         null
        ],
        [
         "Germany",
         "Fabrikam  ",
         "July",
         "6,100.00",
         null,
         "3,817.60"
        ],
        [
         "Germany",
         "Fabrikam",
         "August",
         "129.99",
         "632",
         "980"
        ],
        [
         "Germany",
         "Fabrikam  ",
         "September",
         "5,859.00",
         "199.99",
         null
        ],
        [
         "Germany",
         "Fabrikam",
         "October",
         "99.99",
         null,
         null
        ],
        [
         "Germany",
         "Fabrikam  ",
         "November",
         "5,660.00",
         "5,059.89",
         null
        ],
        [
         "Germany",
         "Fabrikam",
         "December",
         "1,799.94",
         null,
         null
        ],
        [
         "Germany",
         "Litware",
         "January",
         "5,327.52",
         "39.92",
         "7,631.88"
        ],
        [
         "Germany",
         "Litware",
         "February",
         "369.95",
         null,
         "134.91"
        ],
        [
         "Germany",
         "Litware",
         "March",
         "8,742.72",
         "59.94",
         "13,786.73"
        ],
        [
         "Germany",
         "Litware",
         "April",
         "5,497.81",
         "1,013.85",
         "949.9"
        ],
        [
         "Germany",
         "Litware",
         "May",
         "2,169.91",
         "8,950.67",
         "29,579.85"
        ],
        [
         "Germany",
         "Litware ",
         "June",
         null,
         "6,683.89",
         "3,859.33"
        ],
        [
         "Germany",
         "Litware",
         "July",
         "359.98",
         "4,339.77",
         "1,434.66"
        ],
        [
         "Germany",
         "Litware ",
         "August",
         "1,184.94",
         "1,079.60",
         null
        ],
        [
         "Germany",
         "Litware",
         "September",
         null,
         "6,175.39",
         "809.91"
        ],
        [
         "Germany",
         "Litware",
         "October",
         "699.93",
         "3,518.78",
         "404.85"
        ],
        [
         "Germany",
         "Litware",
         "November",
         "22,399.93",
         null,
         null
        ],
        [
         "Germany",
         "Litware",
         "December",
         "5,274.57",
         null,
         null
        ],
        [
         "Germany",
         "DogWings",
         "January",
         "77.07",
         null,
         null
        ],
        [
         "Germany",
         "DogWings",
         "February",
         "5,508.08",
         null,
         null
        ],
        [
         "Germany",
         "DogWings",
         "March",
         "205.52",
         null,
         "81.1"
        ],
        [
         "Germany",
         "DogWings",
         "April",
         "308.28",
         null,
         null
        ],
        [
         "Germany",
         "DogWings",
         "May",
         "154.14",
         null,
         null
        ],
        [
         "Germany",
         "DogWings",
         "June",
         "25.69",
         null,
         "569.25"
        ],
        [
         "Germany",
         "DogWings",
         "September",
         "77.07",
         "341.55",
         null
        ],
        [
         "Germany",
         "DogWings",
         "December",
         "18,570.30",
         null,
         null
        ],
        [
         "Germany",
         "Proseware",
         "January",
         null,
         null,
         "13,423.91"
        ],
        [
         "Germany",
         "Proseware",
         "February",
         "79",
         null,
         null
        ],
        [
         "Germany",
         "Proseware",
         "March",
         "79.95",
         "8,014.43",
         "2,226.00"
        ],
        [
         "Germany",
         "Proseware",
         "April",
         "299",
         null,
         "5,688.87"
        ],
        [
         "Germany",
         "Proseware",
         "May",
         "5,655.88",
         "4,738.86",
         "3,820.00"
        ],
        [
         "Germany",
         "Proseware",
         "June",
         "815.92",
         null,
         "22,000.00"
        ],
        [
         "Germany",
         "Proseware",
         "July",
         null,
         "3,489.94",
         "1,520.00"
        ],
        [
         "Germany",
         "Proseware",
         "August",
         null,
         "3,299.89",
         "8,474.89"
        ],
        [
         "Germany",
         "Proseware",
         "September",
         "2,463.00",
         "5,475.00",
         "1,170.00"
        ],
        [
         "Germany",
         "Proseware",
         "October",
         "13,568.78",
         "728",
         "2,290.00"
        ],
        [
         "Germany",
         "Proseware",
         "November",
         null,
         "443.98",
         null
        ],
        [
         "Germany",
         "Proseware",
         "December",
         "1,089.00",
         null,
         null
        ],
        [
         "Germany",
         "Vimeo",
         "January",
         "1,894.62",
         "660",
         "876"
        ],
        [
         "Germany",
         "Vimeo",
         "February",
         "1,220.10",
         "87.05",
         "3,844.85"
        ],
        [
         "Germany",
         "Vimeo",
         "March",
         "2,003.88",
         "97.02",
         "2,105.88"
        ],
        [
         "Germany",
         "Vimeo",
         "April",
         "6,538.73",
         null,
         null
        ],
        [
         "Germany",
         "Vimeo",
         "May",
         "3,242.61",
         "657",
         "598"
        ],
        [
         "Germany",
         "Vimeo",
         "June",
         "1,443.93",
         "88",
         "161.1"
        ],
        [
         "Germany",
         "Vimeo",
         "July",
         "1,553.70",
         "271.5",
         "6,563.00"
        ],
        [
         "Germany",
         "Vimeo",
         "August",
         "2,385.27",
         null,
         "960.04"
        ],
        [
         "Germany",
         "Vimeo",
         "September",
         "3,678.96",
         "987.87",
         null
        ],
        [
         "Germany",
         "Vimeo",
         "October",
         "5,296.42",
         "396",
         "124.32"
        ],
        [
         "Germany",
         "Vimeo",
         "November",
         "262.6",
         "694.56",
         null
        ],
        [
         "Germany",
         "Vimeo",
         "December",
         "741.69",
         "660.41",
         null
        ],
        [
         "Germany",
         "Children Toys",
         "January",
         "1,076.00",
         "561.04",
         "258"
        ],
        [
         "Germany",
         "Children Toys",
         "February",
         "84",
         "258",
         "480"
        ],
        [
         "Germany",
         "Children Toys",
         "March",
         "1,917.82",
         "77",
         "392"
        ],
        [
         "Germany",
         "Children Toys",
         "April",
         "96",
         "923.29",
         "389.4"
        ],
        [
         "Germany",
         "Children Toys",
         "May",
         null,
         "340",
         "1,375.00"
        ],
        [
         "Germany",
         "Children Toys",
         "June",
         null,
         null,
         "608"
        ],
        [
         "Germany",
         "Children Toys",
         "July",
         null,
         "172",
         "1,589.56"
        ],
        [
         "Germany",
         "Children Toys",
         "August",
         "90.87",
         null,
         "733.04"
        ],
        [
         "Germany",
         "Children Toys",
         "September",
         "192",
         null,
         "180.36"
        ],
        [
         "Germany",
         "Children Toys",
         "October",
         "638.4",
         "280.52",
         "1,219.43"
        ],
        [
         "Germany",
         "Children Toys",
         "December",
         "301",
         "161",
         null
        ],
        [
         "Germany",
         "Mobile Phones",
         "January",
         "1,650.00",
         "1,465.00",
         null
        ],
        [
         "Germany",
         "Mobile Phones",
         "February",
         null,
         "2,170.00",
         "3,615.00"
        ],
        [
         "Germany",
         "Mobile Phones",
         "March",
         "460",
         null,
         null
        ],
        [
         "Germany",
         "Mobile Phones",
         "April",
         null,
         null,
         "6,479.00"
        ],
        [
         "Germany",
         "Mobile Phones",
         "May",
         null,
         null,
         "2,430.00"
        ],
        [
         "Germany",
         "Mobile Phones",
         "June",
         null,
         "1,400.00",
         null
        ],
        [
         "Germany",
         "Mobile Phones",
         "July",
         null,
         null,
         "2,152.00"
        ],
        [
         "Germany",
         "Mobile Phones",
         "September",
         "2,168.00",
         "5,490.00",
         null
        ],
        [
         "Germany",
         "Mobile Phones",
         "October",
         "4,588.00",
         "924",
         "1,592.00"
        ],
        [
         "Germany",
         "Mobile Phones",
         "November",
         "4,166.00",
         "129",
         null
        ],
        [
         "Germany",
         "Mobile Phones",
         "December",
         null,
         "2,312.00",
         null
        ],
        [
         "Germany",
         "BarnesNobles",
         "January",
         "879.8",
         "23,648.70",
         "1,799.40"
        ],
        [
         "Germany",
         "BarnesNobles",
         "February",
         null,
         "4,130.80",
         "1,039.35"
        ],
        [
         "Germany",
         "BarnesNobles",
         "March",
         "1,198.00",
         null,
         "9,506.00"
        ],
        [
         "Germany",
         "BarnesNobles",
         "April",
         null,
         "4,746.00",
         "179.94"
        ],
        [
         "Germany",
         "BarnesNobles",
         "May",
         "899.7",
         null,
         "1,161.00"
        ],
        [
         "Germany",
         "BarnesNobles",
         "June",
         null,
         "179.94",
         "575"
        ],
        [
         "Germany",
         "BarnesNobles",
         "July",
         "2,429.10",
         "2,231.00",
         "13,770.00"
        ],
        [
         "Germany",
         "BarnesNobles",
         "August",
         "3,689.90",
         "2,759.88",
         "539.8"
        ],
        [
         "Germany",
         "BarnesNobles",
         "September",
         null,
         "1,145.00",
         "5,967.00"
        ],
        [
         "Germany",
         "BarnesNobles",
         "October",
         "594",
         "203.98",
         null
        ],
        [
         "Germany",
         "BarnesNobles",
         "November",
         null,
         "18,360.00",
         null
        ],
        [
         "Germany",
         "BarnesNobles",
         "December",
         "8,349.89",
         "2,529.89",
         null
        ],
        [
         "United States",
         "SequelGate",
         "January",
         "5,016.00",
         null,
         "3,492.00"
        ],
        [
         "United States",
         "SequelGate",
         "February",
         "5,794.00",
         null,
         "10,336.00"
        ],
        [
         "United States",
         "SequelGate",
         "March",
         "2,508.00",
         "188.5",
         null
        ],
        [
         "United States",
         "SequelGate",
         "April",
         "4,100.00",
         "186.9",
         "1,014.00"
        ],
        [
         "United States",
         "SequelGate",
         "May",
         "1,881.00",
         "1,386.00",
         "4,439.00"
        ],
        [
         "United States",
         "SequelGate",
         "June",
         "3,335.00",
         "495",
         "3,240.00"
        ],
        [
         "United States",
         "SequelGate",
         "July",
         "4,639.00",
         null,
         "2,983.50"
        ],
        [
         "United States",
         "SequelGate",
         "August",
         "3,762.00",
         "664",
         "2,225.00"
        ],
        [
         "United States",
         "SequelGate",
         "September",
         "13,894.00",
         "1,604.00",
         null
        ],
        [
         "United States",
         "SequelGate",
         "October",
         "2,503.00",
         null,
         null
        ],
        [
         "United States",
         "SequelGate",
         "November",
         "4,907.10",
         "3,718.00",
         null
        ],
        [
         "United States",
         "SequelGate",
         "December",
         "627",
         "627",
         null
        ],
        [
         "United States",
         "SQL School",
         "January",
         "8,459.46",
         "1,968.69",
         null
        ],
        [
         "United States",
         "SQL School",
         "February",
         "11,749.25",
         "4,049.25",
         "129"
        ],
        [
         "United States",
         "SQL School",
         "March",
         "16,598.22",
         "9,659.79",
         "2,086.00"
        ],
        [
         "United States",
         "SQL School",
         "April",
         "22,067.57",
         "2,338.00",
         "297"
        ],
        [
         "United States",
         "SQL School",
         "May",
         "9,869.37",
         null,
         null
        ],
        [
         "United States",
         "SQL School",
         "June",
         "10,757.16",
         null,
         null
        ],
        [
         "United States",
         "SQL School",
         "July",
         "9,869.37",
         "5,056.00",
         "3,550.87"
        ],
        [
         "United States",
         "SQL School",
         "August",
         "939.94",
         "1,566.00",
         "4,451.93"
        ],
        [
         "United States",
         "SQL School",
         "September",
         "3,759.76",
         "2,058.40",
         "2,670.00"
        ],
        [
         "United States",
         "SQL School",
         "October",
         null,
         null,
         "399.75"
        ],
        [
         "United States",
         "SQL School",
         "November",
         "4,699.70",
         null,
         null
        ],
        [
         "United States",
         "SQL School",
         "December",
         "19,734.89",
         "2,953.50",
         null
        ],
        [
         "United States",
         "Contoso",
         "January",
         "8,506.88",
         "605.55",
         "11,839.98"
        ],
        [
         "United States",
         "Contoso",
         "February",
         "5,629.26",
         "5,433.80",
         "17,029.47"
        ],
        [
         "United States",
         "Contoso",
         "March",
         "6,733.86",
         "8,314.54",
         "1,770.10"
        ],
        [
         "United States",
         "Contoso",
         "April",
         "17,433.79",
         "1,850.16",
         "1,714.55"
        ],
        [
         "United States",
         "Contoso",
         "May",
         "7,133.14",
         "921.35",
         "7,049.65"
        ],
        [
         "United States",
         "Contoso",
         "June",
         "5,356.89",
         "3,325.74",
         "16,701.42"
        ],
        [
         "United States",
         "Contoso",
         "July",
         "4,770.20",
         "2,634.27",
         "2,181.66"
        ],
        [
         "United States",
         "Contoso",
         "August",
         "15,159.15",
         "25,590.05",
         "4,445.18"
        ],
        [
         "United States",
         "Contoso",
         "September",
         "6,232.99",
         "3,786.22",
         "10,863.67"
        ],
        [
         "United States",
         "Contoso",
         "October",
         "18,206.65",
         "1,089.45",
         "7,950.51"
        ],
        [
         "United States",
         "Contoso",
         "November",
         "8,218.20",
         "15,254.44",
         null
        ],
        [
         "United States",
         "Contoso",
         "December",
         "42,184.42",
         "9,811.38",
         null
        ],
        [
         "United States",
         "Fabrikam  ",
         "January",
         null,
         "15,184.00",
         "4,560.00"
        ],
        [
         "United States",
         "Fabrikam  ",
         "February",
         "2,310.00",
         "3,992.00",
         null
        ],
        [
         "United States",
         "Fabrikam",
         "March",
         null,
         "6,136.00",
         "1,344.00"
        ],
        [
         "United States",
         "Fabrikam",
         "April",
         "11,882.00",
         "8,423.90",
         "1,818.85"
        ],
        [
         "United States",
         "Fabrikam",
         "May",
         "719.96",
         "26,127.80",
         "16,343.80"
        ],
        [
         "United States",
         "Fabrikam",
         "June",
         "12,910.36",
         "4,338.00",
         "2,531.00"
        ],
        [
         "United States",
         "Fabrikam",
         "July",
         "1,169.91",
         null,
         "799.92"
        ],
        [
         "United States",
         "Fabrikam",
         "August",
         null,
         "15,133.00",
         "4,914.00"
        ],
        [
         "United States",
         "Fabrikam",
         "September",
         "4,930.00",
         "29,011.00",
         "4,264.00"
        ],
        [
         "United States",
         "Fabrikam",
         "October",
         "7,704.00",
         "3,135.00",
         "2,324.00"
        ],
        [
         "United States",
         "Fabrikam  ",
         "November",
         "3,038.00",
         "17,404.60",
         null
        ],
        [
         "United States",
         "Fabrikam  ",
         "December",
         "11,872.00",
         null,
         null
        ],
        [
         "United States",
         "Litware",
         "January",
         null,
         null,
         "6,293.00"
        ],
        [
         "United States",
         "Litware",
         "February",
         null,
         null,
         "1,689.87"
        ],
        [
         "United States",
         "Litware",
         "March",
         "180",
         "449.9",
         "12,692.95"
        ],
        [
         "United States",
         "Litware",
         "April",
         null,
         "23,715.00",
         "13,986.00"
        ],
        [
         "United States",
         "Litware",
         "May",
         "7,054.98",
         "9,659.91",
         "8,267.47"
        ],
        [
         "United States",
         "Litware",
         "June",
         null,
         "1,399.93",
         "1,073.90"
        ],
        [
         "United States",
         "Litware",
         "July",
         "1,829.89",
         "1,867.91",
         "1,676.44"
        ],
        [
         "United States",
         "Litware",
         "August",
         "1,439.92",
         "38,807.84",
         "139.86"
        ],
        [
         "United States",
         "Litware",
         "September",
         "1,439.92",
         "24,373.99",
         "4,183.72"
        ],
        [
         "United States",
         "Litware",
         "October",
         null,
         "10,733.80",
         null
        ],
        [
         "United States",
         "Litware",
         "November",
         "19,229.82",
         "9,065.85",
         null
        ],
        [
         "United States",
         "Litware",
         "December",
         "4,199.85",
         "2,359.30",
         null
        ],
        [
         "United States",
         "DogWings",
         "January",
         "102.76",
         null,
         "243.3"
        ],
        [
         "United States",
         "DogWings",
         "February",
         "77.07",
         null,
         "99.99"
        ],
        [
         "United States",
         "DogWings",
         "March",
         "154.14",
         null,
         null
        ],
        [
         "United States",
         "DogWings",
         "April",
         "128.45",
         null,
         "623.35"
        ],
        [
         "United States",
         "DogWings",
         "June",
         "128.45",
         null,
         null
        ],
        [
         "United States",
         "DogWings",
         "July",
         "27,360.57",
         "10,913.40",
         "527.45"
        ],
        [
         "United States",
         "DogWings",
         "September",
         "102.76",
         "287.7",
         "12,732.30"
        ],
        [
         "United States",
         "DogWings",
         "October",
         "205.52",
         null,
         null
        ],
        [
         "United States",
         "DogWings",
         "November",
         "21,826.80",
         null,
         null
        ],
        [
         "United States",
         "DogWings",
         "December",
         "102.76",
         null,
         null
        ],
        [
         "United States",
         "Proseware",
         "January",
         null,
         null,
         "596"
        ],
        [
         "United States",
         "Proseware",
         "February",
         null,
         null,
         "3,669.97"
        ],
        [
         "United States",
         "Proseware",
         "March",
         "980",
         "390",
         null
        ],
        [
         "United States",
         "Proseware",
         "April",
         "872",
         "6,589.00",
         "6,432.80"
        ],
        [
         "United States",
         "Proseware",
         "May",
         "136",
         "9,976.00",
         "1,199.96"
        ],
        [
         "United States",
         "Proseware",
         "June",
         "1,832.00",
         "973",
         null
        ],
        [
         "United States",
         "Proseware",
         "July",
         null,
         "3,895.00",
         "4,799.88"
        ],
        [
         "United States",
         "Proseware",
         "August",
         "1,807.00",
         "3,331.00",
         "11,375.46"
        ],
        [
         "United States",
         "Proseware",
         "September",
         "21,903.00",
         "9,739.84",
         "2,219.00"
        ],
        [
         "United States",
         "Proseware",
         "October",
         "489",
         "1,818.00",
         "2,579.94"
        ],
        [
         "United States",
         "Proseware",
         "November",
         "645",
         "1,692.00",
         null
        ],
        [
         "United States",
         "Proseware",
         "December",
         "7,528.88",
         "3,242.00",
         null
        ],
        [
         "United States",
         "Vimeo",
         "January",
         "3,377.10",
         "59.29",
         null
        ],
        [
         "United States",
         "Vimeo",
         "February",
         "6,502.75",
         "479.97",
         "792"
        ],
        [
         "United States",
         "Vimeo",
         "March",
         "6,143.27",
         "598",
         null
        ],
        [
         "United States",
         "Vimeo",
         "April",
         "2,896.17",
         "1,817.11",
         "4,675.00"
        ],
        [
         "United States",
         "Vimeo",
         "May",
         "4,897.73",
         "4,841.85",
         "1,838.50"
        ],
        [
         "United States",
         "Vimeo",
         "June",
         "3,276.68",
         null,
         null
        ],
        [
         "United States",
         "Vimeo",
         "July",
         "2,849.09",
         "625.95",
         "3,169.99"
        ],
        [
         "United States",
         "Vimeo",
         "August",
         "4,148.15",
         "332.71",
         "96.32"
        ],
        [
         "United States",
         "Vimeo",
         "September",
         "1,395.90",
         "4,718.87",
         "10,774.90"
        ],
        [
         "United States",
         "Vimeo",
         "October",
         "318.9",
         "2,628.00",
         "113.94"
        ],
        [
         "United States",
         "Vimeo",
         "November",
         "2,047.39",
         "2,710.75",
         null
        ],
        [
         "United States",
         "Vimeo",
         "December",
         "4,038.72",
         "311.8",
         null
        ],
        [
         "United States",
         "Children Toys",
         "January",
         "519.87",
         "307.9",
         "491"
        ],
        [
         "United States",
         "Children Toys",
         "February",
         null,
         null,
         "499.86"
        ],
        [
         "United States",
         "Children Toys",
         "March",
         null,
         "663.83",
         null
        ],
        [
         "United States",
         "Children Toys",
         "April",
         null,
         "702.5",
         null
        ],
        [
         "United States",
         "Children Toys",
         "May",
         "297.21",
         null,
         null
        ],
        [
         "United States",
         "Children Toys",
         "June",
         "267",
         "435.85",
         "454"
        ],
        [
         "United States",
         "Children Toys",
         "July",
         "258",
         "280.52",
         "792.87"
        ],
        [
         "United States",
         "Children Toys",
         "August",
         "359.57",
         "74.85",
         null
        ],
        [
         "United States",
         "Children Toys",
         "September",
         "430",
         null,
         null
        ],
        [
         "United States",
         "Children Toys",
         "October",
         "834.91",
         null,
         null
        ],
        [
         "United States",
         "Children Toys",
         "November",
         "86",
         "619.08",
         null
        ],
        [
         "United States",
         "Children Toys",
         "December",
         "927.56",
         "56",
         null
        ],
        [
         "United States",
         "Mobile Phones",
         "January",
         "510",
         null,
         null
        ],
        [
         "United States",
         "Mobile Phones",
         "February",
         null,
         null,
         "1,345.00"
        ],
        [
         "United States",
         "Mobile Phones",
         "April",
         "1,812.00",
         null,
         null
        ],
        [
         "United States",
         "Mobile Phones",
         "May",
         "3,890.00",
         "7,068.00",
         "6,284.00"
        ],
        [
         "United States",
         "Mobile Phones",
         "June",
         "6,686.00",
         null,
         null
        ],
        [
         "United States",
         "Mobile Phones",
         "July",
         null,
         "2,680.00",
         "1,602.00"
        ],
        [
         "United States",
         "Mobile Phones",
         "August",
         null,
         "5,017.00",
         null
        ],
        [
         "United States",
         "Mobile Phones",
         "September",
         "1,161.00",
         null,
         "1,160.00"
        ],
        [
         "United States",
         "Mobile Phones",
         "November",
         null,
         "7,069.00",
         null
        ],
        [
         "United States",
         "BarnesNobles",
         "January",
         null,
         null,
         "4,451.93"
        ],
        [
         "United States",
         "BarnesNobles",
         "February",
         "2,299.00",
         "10,971.90",
         null
        ],
        [
         "United States",
         "BarnesNobles",
         "March",
         "4,771.00",
         "5,065.60",
         null
        ],
        [
         "United States",
         "BarnesNobles",
         "April",
         null,
         "6,329.86",
         "6,314.00"
        ],
        [
         "United States",
         "BarnesNobles",
         "May",
         "2,748.00",
         "3,887.00",
         null
        ],
        [
         "United States",
         "BarnesNobles",
         "June",
         null,
         "3,012.00",
         "5,008.20"
        ],
        [
         "United States",
         "BarnesNobles",
         "July",
         "1,289.57",
         "9,828.00",
         "2,875.86"
        ],
        [
         "United States",
         "BarnesNobles",
         "August",
         "319.8",
         "17,169.15",
         null
        ],
        [
         "United States",
         "BarnesNobles",
         "September",
         "2,199.45",
         null,
         "599.8"
        ],
        [
         "United States",
         "BarnesNobles",
         "October",
         "471.8",
         null,
         "11,985.00"
        ],
        [
         "United States",
         "BarnesNobles",
         "November",
         null,
         "727.25",
         null
        ],
        [
         "United States",
         "BarnesNobles",
         "December",
         null,
         "3,818.75",
         null
        ],
        [
         "United States",
         "BarnesNobles",
         "November",
         null,
         "727.25",
         "10,788.00"
        ],
        [
         "United States",
         "BarnesNobles",
         "December",
         null,
         "3,818.75",
         null
        ]
       ],
       "datasetInfos": [],
       "dbfsResultPath": null,
       "isJsonSchema": true,
       "metadata": {},
       "overflow": false,
       "plotOptions": {
        "customPlotOptions": {},
        "displayType": "table",
        "pivotAggregation": null,
        "pivotColumns": null,
        "xColumns": null,
        "yColumns": null
       },
       "removedWidgets": [],
       "schema": [
        {
         "metadata": "{}",
         "name": "_c0",
         "type": "\"string\""
        },
        {
         "metadata": "{}",
         "name": "_c1",
         "type": "\"string\""
        },
        {
         "metadata": "{}",
         "name": "_c2",
         "type": "\"string\""
        },
        {
         "metadata": "{}",
         "name": "_c3",
         "type": "\"string\""
        },
        {
         "metadata": "{}",
         "name": "_c4",
         "type": "\"string\""
        },
        {
         "metadata": "{}",
         "name": "_c5",
         "type": "\"string\""
        }
       ],
       "type": "table"
      }
     },
     "output_type": "display_data"
    }
   ],
   "source": [
    "%sql\n",
    "select * from `SalesData`"
   ]
  },
  {
   "cell_type": "code",
   "execution_count": null,
   "metadata": {
    "application/vnd.databricks.v1+cell": {
     "cellMetadata": {
      "byteLimit": 2048000,
      "rowLimit": 10000
     },
     "inputWidgets": {},
     "nuid": "db9631f6-bb4a-42ca-8a3c-0d48af932331",
     "showTitle": false,
     "title": ""
    }
   },
   "outputs": [
    {
     "data": {
      "text/plain": [
       "\u001b[0;31m---------------------------------------------------------------------------\u001b[0m\n",
       "\u001b[0;31mAnalysisException\u001b[0m                         Traceback (most recent call last)\n",
       "\u001b[0;32m<command-2762795735788562>\u001b[0m in \u001b[0;36m<cell line: 3>\u001b[0;34m()\u001b[0m\n",
       "\u001b[1;32m      1\u001b[0m \u001b[0mpermanent_table_name\u001b[0m \u001b[0;34m=\u001b[0m \u001b[0;34m\"SalesData\"\u001b[0m\u001b[0;34m\u001b[0m\u001b[0;34m\u001b[0m\u001b[0m\n",
       "\u001b[1;32m      2\u001b[0m \u001b[0;34m\u001b[0m\u001b[0m\n",
       "\u001b[0;32m----> 3\u001b[0;31m \u001b[0mdf\u001b[0m\u001b[0;34m.\u001b[0m\u001b[0mwrite\u001b[0m\u001b[0;34m.\u001b[0m\u001b[0mformat\u001b[0m\u001b[0;34m(\u001b[0m\u001b[0;34m\"parquet\"\u001b[0m\u001b[0;34m)\u001b[0m\u001b[0;34m.\u001b[0m\u001b[0msaveAsTable\u001b[0m\u001b[0;34m(\u001b[0m\u001b[0mpermanent_table_name\u001b[0m\u001b[0;34m)\u001b[0m\u001b[0;34m\u001b[0m\u001b[0;34m\u001b[0m\u001b[0m\n",
       "\u001b[0m\u001b[1;32m      4\u001b[0m \u001b[0;34m\u001b[0m\u001b[0m\n",
       "\u001b[1;32m      5\u001b[0m \u001b[0;31m#Set the JDBC Connections\u001b[0m\u001b[0;34m\u001b[0m\u001b[0;34m\u001b[0m\u001b[0;34m\u001b[0m\u001b[0m\n",
       "\n",
       "\u001b[0;32m/databricks/spark/python/pyspark/instrumentation_utils.py\u001b[0m in \u001b[0;36mwrapper\u001b[0;34m(*args, **kwargs)\u001b[0m\n",
       "\u001b[1;32m     46\u001b[0m             \u001b[0mstart\u001b[0m \u001b[0;34m=\u001b[0m \u001b[0mtime\u001b[0m\u001b[0;34m.\u001b[0m\u001b[0mperf_counter\u001b[0m\u001b[0;34m(\u001b[0m\u001b[0;34m)\u001b[0m\u001b[0;34m\u001b[0m\u001b[0;34m\u001b[0m\u001b[0m\n",
       "\u001b[1;32m     47\u001b[0m             \u001b[0;32mtry\u001b[0m\u001b[0;34m:\u001b[0m\u001b[0;34m\u001b[0m\u001b[0;34m\u001b[0m\u001b[0m\n",
       "\u001b[0;32m---> 48\u001b[0;31m                 \u001b[0mres\u001b[0m \u001b[0;34m=\u001b[0m \u001b[0mfunc\u001b[0m\u001b[0;34m(\u001b[0m\u001b[0;34m*\u001b[0m\u001b[0margs\u001b[0m\u001b[0;34m,\u001b[0m \u001b[0;34m**\u001b[0m\u001b[0mkwargs\u001b[0m\u001b[0;34m)\u001b[0m\u001b[0;34m\u001b[0m\u001b[0;34m\u001b[0m\u001b[0m\n",
       "\u001b[0m\u001b[1;32m     49\u001b[0m                 logger.log_success(\n",
       "\u001b[1;32m     50\u001b[0m                     \u001b[0mmodule_name\u001b[0m\u001b[0;34m,\u001b[0m \u001b[0mclass_name\u001b[0m\u001b[0;34m,\u001b[0m \u001b[0mfunction_name\u001b[0m\u001b[0;34m,\u001b[0m \u001b[0mtime\u001b[0m\u001b[0;34m.\u001b[0m\u001b[0mperf_counter\u001b[0m\u001b[0;34m(\u001b[0m\u001b[0;34m)\u001b[0m \u001b[0;34m-\u001b[0m \u001b[0mstart\u001b[0m\u001b[0;34m,\u001b[0m \u001b[0msignature\u001b[0m\u001b[0;34m\u001b[0m\u001b[0;34m\u001b[0m\u001b[0m\n",
       "\n",
       "\u001b[0;32m/databricks/spark/python/pyspark/sql/readwriter.py\u001b[0m in \u001b[0;36msaveAsTable\u001b[0;34m(self, name, format, mode, partitionBy, **options)\u001b[0m\n",
       "\u001b[1;32m   1039\u001b[0m         \u001b[0;32mif\u001b[0m \u001b[0mformat\u001b[0m \u001b[0;32mis\u001b[0m \u001b[0;32mnot\u001b[0m \u001b[0;32mNone\u001b[0m\u001b[0;34m:\u001b[0m\u001b[0;34m\u001b[0m\u001b[0;34m\u001b[0m\u001b[0m\n",
       "\u001b[1;32m   1040\u001b[0m             \u001b[0mself\u001b[0m\u001b[0;34m.\u001b[0m\u001b[0mformat\u001b[0m\u001b[0;34m(\u001b[0m\u001b[0mformat\u001b[0m\u001b[0;34m)\u001b[0m\u001b[0;34m\u001b[0m\u001b[0;34m\u001b[0m\u001b[0m\n",
       "\u001b[0;32m-> 1041\u001b[0;31m         \u001b[0mself\u001b[0m\u001b[0;34m.\u001b[0m\u001b[0m_jwrite\u001b[0m\u001b[0;34m.\u001b[0m\u001b[0msaveAsTable\u001b[0m\u001b[0;34m(\u001b[0m\u001b[0mname\u001b[0m\u001b[0;34m)\u001b[0m\u001b[0;34m\u001b[0m\u001b[0;34m\u001b[0m\u001b[0m\n",
       "\u001b[0m\u001b[1;32m   1042\u001b[0m \u001b[0;34m\u001b[0m\u001b[0m\n",
       "\u001b[1;32m   1043\u001b[0m     def json(\n",
       "\n",
       "\u001b[0;32m/databricks/spark/python/lib/py4j-0.10.9.5-src.zip/py4j/java_gateway.py\u001b[0m in \u001b[0;36m__call__\u001b[0;34m(self, *args)\u001b[0m\n",
       "\u001b[1;32m   1319\u001b[0m \u001b[0;34m\u001b[0m\u001b[0m\n",
       "\u001b[1;32m   1320\u001b[0m         \u001b[0manswer\u001b[0m \u001b[0;34m=\u001b[0m \u001b[0mself\u001b[0m\u001b[0;34m.\u001b[0m\u001b[0mgateway_client\u001b[0m\u001b[0;34m.\u001b[0m\u001b[0msend_command\u001b[0m\u001b[0;34m(\u001b[0m\u001b[0mcommand\u001b[0m\u001b[0;34m)\u001b[0m\u001b[0;34m\u001b[0m\u001b[0;34m\u001b[0m\u001b[0m\n",
       "\u001b[0;32m-> 1321\u001b[0;31m         return_value = get_return_value(\n",
       "\u001b[0m\u001b[1;32m   1322\u001b[0m             answer, self.gateway_client, self.target_id, self.name)\n",
       "\u001b[1;32m   1323\u001b[0m \u001b[0;34m\u001b[0m\u001b[0m\n",
       "\n",
       "\u001b[0;32m/databricks/spark/python/pyspark/sql/utils.py\u001b[0m in \u001b[0;36mdeco\u001b[0;34m(*a, **kw)\u001b[0m\n",
       "\u001b[1;32m    200\u001b[0m                 \u001b[0;31m# Hide where the exception came from that shows a non-Pythonic\u001b[0m\u001b[0;34m\u001b[0m\u001b[0;34m\u001b[0m\u001b[0;34m\u001b[0m\u001b[0m\n",
       "\u001b[1;32m    201\u001b[0m                 \u001b[0;31m# JVM exception message.\u001b[0m\u001b[0;34m\u001b[0m\u001b[0;34m\u001b[0m\u001b[0;34m\u001b[0m\u001b[0m\n",
       "\u001b[0;32m--> 202\u001b[0;31m                 \u001b[0;32mraise\u001b[0m \u001b[0mconverted\u001b[0m \u001b[0;32mfrom\u001b[0m \u001b[0;32mNone\u001b[0m\u001b[0;34m\u001b[0m\u001b[0;34m\u001b[0m\u001b[0m\n",
       "\u001b[0m\u001b[1;32m    203\u001b[0m             \u001b[0;32melse\u001b[0m\u001b[0;34m:\u001b[0m\u001b[0;34m\u001b[0m\u001b[0;34m\u001b[0m\u001b[0m\n",
       "\u001b[1;32m    204\u001b[0m                 \u001b[0;32mraise\u001b[0m\u001b[0;34m\u001b[0m\u001b[0;34m\u001b[0m\u001b[0m\n",
       "\n",
       "\u001b[0;31mAnalysisException\u001b[0m: Table `spark_catalog`.`default`.`salesdata` already exists."
      ]
     },
     "metadata": {
      "application/vnd.databricks.v1+output": {
       "arguments": {},
       "data": "\u001b[0;31m---------------------------------------------------------------------------\u001b[0m\n\u001b[0;31mAnalysisException\u001b[0m                         Traceback (most recent call last)\n\u001b[0;32m<command-2762795735788562>\u001b[0m in \u001b[0;36m<cell line: 3>\u001b[0;34m()\u001b[0m\n\u001b[1;32m      1\u001b[0m \u001b[0mpermanent_table_name\u001b[0m \u001b[0;34m=\u001b[0m \u001b[0;34m\"SalesData\"\u001b[0m\u001b[0;34m\u001b[0m\u001b[0;34m\u001b[0m\u001b[0m\n\u001b[1;32m      2\u001b[0m \u001b[0;34m\u001b[0m\u001b[0m\n\u001b[0;32m----> 3\u001b[0;31m \u001b[0mdf\u001b[0m\u001b[0;34m.\u001b[0m\u001b[0mwrite\u001b[0m\u001b[0;34m.\u001b[0m\u001b[0mformat\u001b[0m\u001b[0;34m(\u001b[0m\u001b[0;34m\"parquet\"\u001b[0m\u001b[0;34m)\u001b[0m\u001b[0;34m.\u001b[0m\u001b[0msaveAsTable\u001b[0m\u001b[0;34m(\u001b[0m\u001b[0mpermanent_table_name\u001b[0m\u001b[0;34m)\u001b[0m\u001b[0;34m\u001b[0m\u001b[0;34m\u001b[0m\u001b[0m\n\u001b[0m\u001b[1;32m      4\u001b[0m \u001b[0;34m\u001b[0m\u001b[0m\n\u001b[1;32m      5\u001b[0m \u001b[0;31m#Set the JDBC Connections\u001b[0m\u001b[0;34m\u001b[0m\u001b[0;34m\u001b[0m\u001b[0;34m\u001b[0m\u001b[0m\n\n\u001b[0;32m/databricks/spark/python/pyspark/instrumentation_utils.py\u001b[0m in \u001b[0;36mwrapper\u001b[0;34m(*args, **kwargs)\u001b[0m\n\u001b[1;32m     46\u001b[0m             \u001b[0mstart\u001b[0m \u001b[0;34m=\u001b[0m \u001b[0mtime\u001b[0m\u001b[0;34m.\u001b[0m\u001b[0mperf_counter\u001b[0m\u001b[0;34m(\u001b[0m\u001b[0;34m)\u001b[0m\u001b[0;34m\u001b[0m\u001b[0;34m\u001b[0m\u001b[0m\n\u001b[1;32m     47\u001b[0m             \u001b[0;32mtry\u001b[0m\u001b[0;34m:\u001b[0m\u001b[0;34m\u001b[0m\u001b[0;34m\u001b[0m\u001b[0m\n\u001b[0;32m---> 48\u001b[0;31m                 \u001b[0mres\u001b[0m \u001b[0;34m=\u001b[0m \u001b[0mfunc\u001b[0m\u001b[0;34m(\u001b[0m\u001b[0;34m*\u001b[0m\u001b[0margs\u001b[0m\u001b[0;34m,\u001b[0m \u001b[0;34m**\u001b[0m\u001b[0mkwargs\u001b[0m\u001b[0;34m)\u001b[0m\u001b[0;34m\u001b[0m\u001b[0;34m\u001b[0m\u001b[0m\n\u001b[0m\u001b[1;32m     49\u001b[0m                 logger.log_success(\n\u001b[1;32m     50\u001b[0m                     \u001b[0mmodule_name\u001b[0m\u001b[0;34m,\u001b[0m \u001b[0mclass_name\u001b[0m\u001b[0;34m,\u001b[0m \u001b[0mfunction_name\u001b[0m\u001b[0;34m,\u001b[0m \u001b[0mtime\u001b[0m\u001b[0;34m.\u001b[0m\u001b[0mperf_counter\u001b[0m\u001b[0;34m(\u001b[0m\u001b[0;34m)\u001b[0m \u001b[0;34m-\u001b[0m \u001b[0mstart\u001b[0m\u001b[0;34m,\u001b[0m \u001b[0msignature\u001b[0m\u001b[0;34m\u001b[0m\u001b[0;34m\u001b[0m\u001b[0m\n\n\u001b[0;32m/databricks/spark/python/pyspark/sql/readwriter.py\u001b[0m in \u001b[0;36msaveAsTable\u001b[0;34m(self, name, format, mode, partitionBy, **options)\u001b[0m\n\u001b[1;32m   1039\u001b[0m         \u001b[0;32mif\u001b[0m \u001b[0mformat\u001b[0m \u001b[0;32mis\u001b[0m \u001b[0;32mnot\u001b[0m \u001b[0;32mNone\u001b[0m\u001b[0;34m:\u001b[0m\u001b[0;34m\u001b[0m\u001b[0;34m\u001b[0m\u001b[0m\n\u001b[1;32m   1040\u001b[0m             \u001b[0mself\u001b[0m\u001b[0;34m.\u001b[0m\u001b[0mformat\u001b[0m\u001b[0;34m(\u001b[0m\u001b[0mformat\u001b[0m\u001b[0;34m)\u001b[0m\u001b[0;34m\u001b[0m\u001b[0;34m\u001b[0m\u001b[0m\n\u001b[0;32m-> 1041\u001b[0;31m         \u001b[0mself\u001b[0m\u001b[0;34m.\u001b[0m\u001b[0m_jwrite\u001b[0m\u001b[0;34m.\u001b[0m\u001b[0msaveAsTable\u001b[0m\u001b[0;34m(\u001b[0m\u001b[0mname\u001b[0m\u001b[0;34m)\u001b[0m\u001b[0;34m\u001b[0m\u001b[0;34m\u001b[0m\u001b[0m\n\u001b[0m\u001b[1;32m   1042\u001b[0m \u001b[0;34m\u001b[0m\u001b[0m\n\u001b[1;32m   1043\u001b[0m     def json(\n\n\u001b[0;32m/databricks/spark/python/lib/py4j-0.10.9.5-src.zip/py4j/java_gateway.py\u001b[0m in \u001b[0;36m__call__\u001b[0;34m(self, *args)\u001b[0m\n\u001b[1;32m   1319\u001b[0m \u001b[0;34m\u001b[0m\u001b[0m\n\u001b[1;32m   1320\u001b[0m         \u001b[0manswer\u001b[0m \u001b[0;34m=\u001b[0m \u001b[0mself\u001b[0m\u001b[0;34m.\u001b[0m\u001b[0mgateway_client\u001b[0m\u001b[0;34m.\u001b[0m\u001b[0msend_command\u001b[0m\u001b[0;34m(\u001b[0m\u001b[0mcommand\u001b[0m\u001b[0;34m)\u001b[0m\u001b[0;34m\u001b[0m\u001b[0;34m\u001b[0m\u001b[0m\n\u001b[0;32m-> 1321\u001b[0;31m         return_value = get_return_value(\n\u001b[0m\u001b[1;32m   1322\u001b[0m             answer, self.gateway_client, self.target_id, self.name)\n\u001b[1;32m   1323\u001b[0m \u001b[0;34m\u001b[0m\u001b[0m\n\n\u001b[0;32m/databricks/spark/python/pyspark/sql/utils.py\u001b[0m in \u001b[0;36mdeco\u001b[0;34m(*a, **kw)\u001b[0m\n\u001b[1;32m    200\u001b[0m                 \u001b[0;31m# Hide where the exception came from that shows a non-Pythonic\u001b[0m\u001b[0;34m\u001b[0m\u001b[0;34m\u001b[0m\u001b[0;34m\u001b[0m\u001b[0m\n\u001b[1;32m    201\u001b[0m                 \u001b[0;31m# JVM exception message.\u001b[0m\u001b[0;34m\u001b[0m\u001b[0;34m\u001b[0m\u001b[0;34m\u001b[0m\u001b[0m\n\u001b[0;32m--> 202\u001b[0;31m                 \u001b[0;32mraise\u001b[0m \u001b[0mconverted\u001b[0m \u001b[0;32mfrom\u001b[0m \u001b[0;32mNone\u001b[0m\u001b[0;34m\u001b[0m\u001b[0;34m\u001b[0m\u001b[0m\n\u001b[0m\u001b[1;32m    203\u001b[0m             \u001b[0;32melse\u001b[0m\u001b[0;34m:\u001b[0m\u001b[0;34m\u001b[0m\u001b[0;34m\u001b[0m\u001b[0m\n\u001b[1;32m    204\u001b[0m                 \u001b[0;32mraise\u001b[0m\u001b[0;34m\u001b[0m\u001b[0;34m\u001b[0m\u001b[0m\n\n\u001b[0;31mAnalysisException\u001b[0m: Table `spark_catalog`.`default`.`salesdata` already exists.",
       "errorSummary": "<span class='ansi-red-fg'>AnalysisException</span>: Table `spark_catalog`.`default`.`salesdata` already exists.",
       "errorTraceType": "ansi",
       "metadata": {},
       "type": "ipynbError"
      }
     },
     "output_type": "display_data"
    }
   ],
   "source": [
    "permanent_table_name = \"SalesData\"\n",
    "\n",
    "df.write.format(\"parquet\").saveAsTable(permanent_table_name)\n"
   ]
  },
  {
   "cell_type": "code",
   "execution_count": null,
   "metadata": {
    "application/vnd.databricks.v1+cell": {
     "cellMetadata": {
      "byteLimit": 2048000,
      "rowLimit": 10000
     },
     "inputWidgets": {},
     "nuid": "4eb76e88-adec-482f-b996-1e9df02bffed",
     "showTitle": false,
     "title": ""
    }
   },
   "outputs": [],
   "source": [
    "#Set the JDBC Connections\n",
    "Hostname = \"azcloudpractice.database.windows.net\"\n",
    "Port = \"1433\"\n",
    "Database = \"uspsAddress\"\n",
    "Cred = { \"user\" : \"adm\", \"password\" : \"April2023\" }\n",
    "url = \"jdbc:sqlserver://{0}:{1};database={2}\".format(Hostname,Port,Database)"
   ]
  },
  {
   "cell_type": "code",
   "execution_count": null,
   "metadata": {
    "application/vnd.databricks.v1+cell": {
     "cellMetadata": {
      "byteLimit": 2048000,
      "rowLimit": 10000
     },
     "inputWidgets": {},
     "nuid": "94733618-fb1b-4bd1-aa5a-3f2ba76f2a72",
     "showTitle": false,
     "title": ""
    }
   },
   "outputs": [],
   "source": [
    "from pyspark.sql import * \n",
    "df = spark.sql(\"\"\"SELECT * from SalesData\"\"\").option(\"header\", true)\n",
    "df2 = DataFrameWriter(df)\n",
    "df2.jdbc(url=url, table= \"tblSales\", mode =\"overwrite\", properties = Cred)\n"
   ]
  }
 ],
 "metadata": {
  "application/vnd.databricks.v1+notebook": {
   "dashboards": [],
   "language": "python",
   "notebookMetadata": {
    "mostRecentlyExecutedCommandWithImplicitDF": {
     "commandId": 2762795735788561,
     "dataframes": [
      "_sqldf"
     ]
    },
    "pythonIndentUnit": 4
   },
   "notebookName": "DBFS to Spark Table to SQL",
   "notebookOrigID": 2762795735788557,
   "widgets": {}
  },
  "language_info": {
   "name": "python"
  }
 },
 "nbformat": 4,
 "nbformat_minor": 0
}
